{
  "nbformat": 4,
  "nbformat_minor": 0,
  "metadata": {
    "accelerator": "GPU",
    "colab": {
      "name": "Zalo_Voice_Verification_Ex2.ipynb",
      "provenance": [],
      "collapsed_sections": [
        "HX_IbTlkItXa",
        "JlKk3OaPOWPA",
        "3x1qT7rhIxNT",
        "x3RM7zcAffeQ",
        "lHFv6lBlDp7h",
        "XWfF-mrh2TVR",
        "YQuW9QcZVEk1",
        "IWWIHrEpqTiq",
        "QGxKFqA2FWDu",
        "SXudx5vM2Mg6",
        "S55Eg-ezq_fK"
      ],
      "machine_shape": "hm"
    },
    "kernelspec": {
      "display_name": "Python 3",
      "name": "python3"
    },
    "language_info": {
      "name": "python"
    },
    "widgets": {
      "application/vnd.jupyter.widget-state+json": {
        "b0648d34e68241ce96a95557aed440fd": {
          "model_module": "@jupyter-widgets/controls",
          "model_name": "HBoxModel",
          "model_module_version": "1.5.0",
          "state": {
            "_view_name": "HBoxView",
            "_dom_classes": [],
            "_model_name": "HBoxModel",
            "_view_module": "@jupyter-widgets/controls",
            "_model_module_version": "1.5.0",
            "_view_count": null,
            "_view_module_version": "1.5.0",
            "box_style": "",
            "layout": "IPY_MODEL_54fcaef14fa448039bce868444104274",
            "_model_module": "@jupyter-widgets/controls",
            "children": [
              "IPY_MODEL_2e8c5a26dd3542eab5019538dee33e39",
              "IPY_MODEL_1d31d8002327424f97d12ca1d88273ac",
              "IPY_MODEL_17f3be68518f4763bfbfaf0669fbb061"
            ]
          }
        },
        "54fcaef14fa448039bce868444104274": {
          "model_module": "@jupyter-widgets/base",
          "model_name": "LayoutModel",
          "model_module_version": "1.2.0",
          "state": {
            "_view_name": "LayoutView",
            "grid_template_rows": null,
            "right": null,
            "justify_content": null,
            "_view_module": "@jupyter-widgets/base",
            "overflow": null,
            "_model_module_version": "1.2.0",
            "_view_count": null,
            "flex_flow": null,
            "width": null,
            "min_width": null,
            "border": null,
            "align_items": null,
            "bottom": null,
            "_model_module": "@jupyter-widgets/base",
            "top": null,
            "grid_column": null,
            "overflow_y": null,
            "overflow_x": null,
            "grid_auto_flow": null,
            "grid_area": null,
            "grid_template_columns": null,
            "flex": null,
            "_model_name": "LayoutModel",
            "justify_items": null,
            "grid_row": null,
            "max_height": null,
            "align_content": null,
            "visibility": null,
            "align_self": null,
            "height": null,
            "min_height": null,
            "padding": null,
            "grid_auto_rows": null,
            "grid_gap": null,
            "max_width": null,
            "order": null,
            "_view_module_version": "1.2.0",
            "grid_template_areas": null,
            "object_position": null,
            "object_fit": null,
            "grid_auto_columns": null,
            "margin": null,
            "display": null,
            "left": null
          }
        },
        "2e8c5a26dd3542eab5019538dee33e39": {
          "model_module": "@jupyter-widgets/controls",
          "model_name": "HTMLModel",
          "model_module_version": "1.5.0",
          "state": {
            "_view_name": "HTMLView",
            "style": "IPY_MODEL_300861b4eefd4f4a8bb7fe009b93446d",
            "_dom_classes": [],
            "description": "",
            "_model_name": "HTMLModel",
            "placeholder": "​",
            "_view_module": "@jupyter-widgets/controls",
            "_model_module_version": "1.5.0",
            "value": "Downloading: 100%",
            "_view_count": null,
            "_view_module_version": "1.5.0",
            "description_tooltip": null,
            "_model_module": "@jupyter-widgets/controls",
            "layout": "IPY_MODEL_548b92b31c1744faa849f4e34222ced4"
          }
        },
        "1d31d8002327424f97d12ca1d88273ac": {
          "model_module": "@jupyter-widgets/controls",
          "model_name": "FloatProgressModel",
          "model_module_version": "1.5.0",
          "state": {
            "_view_name": "ProgressView",
            "style": "IPY_MODEL_1fdcd131aa8648af8f4d7ac9b5be9ec7",
            "_dom_classes": [],
            "description": "",
            "_model_name": "FloatProgressModel",
            "bar_style": "success",
            "max": 1975,
            "_view_module": "@jupyter-widgets/controls",
            "_model_module_version": "1.5.0",
            "value": 1975,
            "_view_count": null,
            "_view_module_version": "1.5.0",
            "orientation": "horizontal",
            "min": 0,
            "description_tooltip": null,
            "_model_module": "@jupyter-widgets/controls",
            "layout": "IPY_MODEL_6b22cd9307e94f1d8eceab8006ff1ddb"
          }
        },
        "17f3be68518f4763bfbfaf0669fbb061": {
          "model_module": "@jupyter-widgets/controls",
          "model_name": "HTMLModel",
          "model_module_version": "1.5.0",
          "state": {
            "_view_name": "HTMLView",
            "style": "IPY_MODEL_9dc9e238ddda457e85be93432c58b9c3",
            "_dom_classes": [],
            "description": "",
            "_model_name": "HTMLModel",
            "placeholder": "​",
            "_view_module": "@jupyter-widgets/controls",
            "_model_module_version": "1.5.0",
            "value": " 1.98k/1.98k [00:00&lt;00:00, 48.4kB/s]",
            "_view_count": null,
            "_view_module_version": "1.5.0",
            "description_tooltip": null,
            "_model_module": "@jupyter-widgets/controls",
            "layout": "IPY_MODEL_03552a34bfbf4ee3a6622dd2f7107d48"
          }
        },
        "300861b4eefd4f4a8bb7fe009b93446d": {
          "model_module": "@jupyter-widgets/controls",
          "model_name": "DescriptionStyleModel",
          "model_module_version": "1.5.0",
          "state": {
            "_view_name": "StyleView",
            "_model_name": "DescriptionStyleModel",
            "description_width": "",
            "_view_module": "@jupyter-widgets/base",
            "_model_module_version": "1.5.0",
            "_view_count": null,
            "_view_module_version": "1.2.0",
            "_model_module": "@jupyter-widgets/controls"
          }
        },
        "548b92b31c1744faa849f4e34222ced4": {
          "model_module": "@jupyter-widgets/base",
          "model_name": "LayoutModel",
          "model_module_version": "1.2.0",
          "state": {
            "_view_name": "LayoutView",
            "grid_template_rows": null,
            "right": null,
            "justify_content": null,
            "_view_module": "@jupyter-widgets/base",
            "overflow": null,
            "_model_module_version": "1.2.0",
            "_view_count": null,
            "flex_flow": null,
            "width": null,
            "min_width": null,
            "border": null,
            "align_items": null,
            "bottom": null,
            "_model_module": "@jupyter-widgets/base",
            "top": null,
            "grid_column": null,
            "overflow_y": null,
            "overflow_x": null,
            "grid_auto_flow": null,
            "grid_area": null,
            "grid_template_columns": null,
            "flex": null,
            "_model_name": "LayoutModel",
            "justify_items": null,
            "grid_row": null,
            "max_height": null,
            "align_content": null,
            "visibility": null,
            "align_self": null,
            "height": null,
            "min_height": null,
            "padding": null,
            "grid_auto_rows": null,
            "grid_gap": null,
            "max_width": null,
            "order": null,
            "_view_module_version": "1.2.0",
            "grid_template_areas": null,
            "object_position": null,
            "object_fit": null,
            "grid_auto_columns": null,
            "margin": null,
            "display": null,
            "left": null
          }
        },
        "1fdcd131aa8648af8f4d7ac9b5be9ec7": {
          "model_module": "@jupyter-widgets/controls",
          "model_name": "ProgressStyleModel",
          "model_module_version": "1.5.0",
          "state": {
            "_view_name": "StyleView",
            "_model_name": "ProgressStyleModel",
            "description_width": "",
            "_view_module": "@jupyter-widgets/base",
            "_model_module_version": "1.5.0",
            "_view_count": null,
            "_view_module_version": "1.2.0",
            "bar_color": null,
            "_model_module": "@jupyter-widgets/controls"
          }
        },
        "6b22cd9307e94f1d8eceab8006ff1ddb": {
          "model_module": "@jupyter-widgets/base",
          "model_name": "LayoutModel",
          "model_module_version": "1.2.0",
          "state": {
            "_view_name": "LayoutView",
            "grid_template_rows": null,
            "right": null,
            "justify_content": null,
            "_view_module": "@jupyter-widgets/base",
            "overflow": null,
            "_model_module_version": "1.2.0",
            "_view_count": null,
            "flex_flow": null,
            "width": null,
            "min_width": null,
            "border": null,
            "align_items": null,
            "bottom": null,
            "_model_module": "@jupyter-widgets/base",
            "top": null,
            "grid_column": null,
            "overflow_y": null,
            "overflow_x": null,
            "grid_auto_flow": null,
            "grid_area": null,
            "grid_template_columns": null,
            "flex": null,
            "_model_name": "LayoutModel",
            "justify_items": null,
            "grid_row": null,
            "max_height": null,
            "align_content": null,
            "visibility": null,
            "align_self": null,
            "height": null,
            "min_height": null,
            "padding": null,
            "grid_auto_rows": null,
            "grid_gap": null,
            "max_width": null,
            "order": null,
            "_view_module_version": "1.2.0",
            "grid_template_areas": null,
            "object_position": null,
            "object_fit": null,
            "grid_auto_columns": null,
            "margin": null,
            "display": null,
            "left": null
          }
        },
        "9dc9e238ddda457e85be93432c58b9c3": {
          "model_module": "@jupyter-widgets/controls",
          "model_name": "DescriptionStyleModel",
          "model_module_version": "1.5.0",
          "state": {
            "_view_name": "StyleView",
            "_model_name": "DescriptionStyleModel",
            "description_width": "",
            "_view_module": "@jupyter-widgets/base",
            "_model_module_version": "1.5.0",
            "_view_count": null,
            "_view_module_version": "1.2.0",
            "_model_module": "@jupyter-widgets/controls"
          }
        },
        "03552a34bfbf4ee3a6622dd2f7107d48": {
          "model_module": "@jupyter-widgets/base",
          "model_name": "LayoutModel",
          "model_module_version": "1.2.0",
          "state": {
            "_view_name": "LayoutView",
            "grid_template_rows": null,
            "right": null,
            "justify_content": null,
            "_view_module": "@jupyter-widgets/base",
            "overflow": null,
            "_model_module_version": "1.2.0",
            "_view_count": null,
            "flex_flow": null,
            "width": null,
            "min_width": null,
            "border": null,
            "align_items": null,
            "bottom": null,
            "_model_module": "@jupyter-widgets/base",
            "top": null,
            "grid_column": null,
            "overflow_y": null,
            "overflow_x": null,
            "grid_auto_flow": null,
            "grid_area": null,
            "grid_template_columns": null,
            "flex": null,
            "_model_name": "LayoutModel",
            "justify_items": null,
            "grid_row": null,
            "max_height": null,
            "align_content": null,
            "visibility": null,
            "align_self": null,
            "height": null,
            "min_height": null,
            "padding": null,
            "grid_auto_rows": null,
            "grid_gap": null,
            "max_width": null,
            "order": null,
            "_view_module_version": "1.2.0",
            "grid_template_areas": null,
            "object_position": null,
            "object_fit": null,
            "grid_auto_columns": null,
            "margin": null,
            "display": null,
            "left": null
          }
        },
        "47eebfffc24346f1b91313f07a992ce9": {
          "model_module": "@jupyter-widgets/controls",
          "model_name": "HBoxModel",
          "model_module_version": "1.5.0",
          "state": {
            "_view_name": "HBoxView",
            "_dom_classes": [],
            "_model_name": "HBoxModel",
            "_view_module": "@jupyter-widgets/controls",
            "_model_module_version": "1.5.0",
            "_view_count": null,
            "_view_module_version": "1.5.0",
            "box_style": "",
            "layout": "IPY_MODEL_0134ac478ba049b58a6a8fce8a5a03ee",
            "_model_module": "@jupyter-widgets/controls",
            "children": [
              "IPY_MODEL_4c2b599613d6405b9baa02c8d210745d",
              "IPY_MODEL_8de61edd65b94ef5974b55e18adfa73d",
              "IPY_MODEL_ce09a4f66f384e7da2e4edfbfbf5acfe"
            ]
          }
        },
        "0134ac478ba049b58a6a8fce8a5a03ee": {
          "model_module": "@jupyter-widgets/base",
          "model_name": "LayoutModel",
          "model_module_version": "1.2.0",
          "state": {
            "_view_name": "LayoutView",
            "grid_template_rows": null,
            "right": null,
            "justify_content": null,
            "_view_module": "@jupyter-widgets/base",
            "overflow": null,
            "_model_module_version": "1.2.0",
            "_view_count": null,
            "flex_flow": null,
            "width": null,
            "min_width": null,
            "border": null,
            "align_items": null,
            "bottom": null,
            "_model_module": "@jupyter-widgets/base",
            "top": null,
            "grid_column": null,
            "overflow_y": null,
            "overflow_x": null,
            "grid_auto_flow": null,
            "grid_area": null,
            "grid_template_columns": null,
            "flex": null,
            "_model_name": "LayoutModel",
            "justify_items": null,
            "grid_row": null,
            "max_height": null,
            "align_content": null,
            "visibility": null,
            "align_self": null,
            "height": null,
            "min_height": null,
            "padding": null,
            "grid_auto_rows": null,
            "grid_gap": null,
            "max_width": null,
            "order": null,
            "_view_module_version": "1.2.0",
            "grid_template_areas": null,
            "object_position": null,
            "object_fit": null,
            "grid_auto_columns": null,
            "margin": null,
            "display": null,
            "left": null
          }
        },
        "4c2b599613d6405b9baa02c8d210745d": {
          "model_module": "@jupyter-widgets/controls",
          "model_name": "HTMLModel",
          "model_module_version": "1.5.0",
          "state": {
            "_view_name": "HTMLView",
            "style": "IPY_MODEL_a100ee95274e4dac9be29ccb6c04e1de",
            "_dom_classes": [],
            "description": "",
            "_model_name": "HTMLModel",
            "placeholder": "​",
            "_view_module": "@jupyter-widgets/controls",
            "_model_module_version": "1.5.0",
            "value": "100%",
            "_view_count": null,
            "_view_module_version": "1.5.0",
            "description_tooltip": null,
            "_model_module": "@jupyter-widgets/controls",
            "layout": "IPY_MODEL_744110285cc844428d760fcabbfe91e3"
          }
        },
        "8de61edd65b94ef5974b55e18adfa73d": {
          "model_module": "@jupyter-widgets/controls",
          "model_name": "FloatProgressModel",
          "model_module_version": "1.5.0",
          "state": {
            "_view_name": "ProgressView",
            "style": "IPY_MODEL_a1da0080ff0d490a82a7d9422b92c34f",
            "_dom_classes": [],
            "description": "",
            "_model_name": "FloatProgressModel",
            "bar_style": "success",
            "max": 10000,
            "_view_module": "@jupyter-widgets/controls",
            "_model_module_version": "1.5.0",
            "value": 10000,
            "_view_count": null,
            "_view_module_version": "1.5.0",
            "orientation": "horizontal",
            "min": 0,
            "description_tooltip": null,
            "_model_module": "@jupyter-widgets/controls",
            "layout": "IPY_MODEL_ea69b9d528664cd2a3ab7cd413d840c0"
          }
        },
        "ce09a4f66f384e7da2e4edfbfbf5acfe": {
          "model_module": "@jupyter-widgets/controls",
          "model_name": "HTMLModel",
          "model_module_version": "1.5.0",
          "state": {
            "_view_name": "HTMLView",
            "style": "IPY_MODEL_f56d2059a9964f6b8edfe876e65e8cc6",
            "_dom_classes": [],
            "description": "",
            "_model_name": "HTMLModel",
            "placeholder": "​",
            "_view_module": "@jupyter-widgets/controls",
            "_model_module_version": "1.5.0",
            "value": " 10000/10000 [00:12&lt;00:00, 710.52it/s]",
            "_view_count": null,
            "_view_module_version": "1.5.0",
            "description_tooltip": null,
            "_model_module": "@jupyter-widgets/controls",
            "layout": "IPY_MODEL_6bcc98d68d37468f85e0adb92feed7fa"
          }
        },
        "a100ee95274e4dac9be29ccb6c04e1de": {
          "model_module": "@jupyter-widgets/controls",
          "model_name": "DescriptionStyleModel",
          "model_module_version": "1.5.0",
          "state": {
            "_view_name": "StyleView",
            "_model_name": "DescriptionStyleModel",
            "description_width": "",
            "_view_module": "@jupyter-widgets/base",
            "_model_module_version": "1.5.0",
            "_view_count": null,
            "_view_module_version": "1.2.0",
            "_model_module": "@jupyter-widgets/controls"
          }
        },
        "744110285cc844428d760fcabbfe91e3": {
          "model_module": "@jupyter-widgets/base",
          "model_name": "LayoutModel",
          "model_module_version": "1.2.0",
          "state": {
            "_view_name": "LayoutView",
            "grid_template_rows": null,
            "right": null,
            "justify_content": null,
            "_view_module": "@jupyter-widgets/base",
            "overflow": null,
            "_model_module_version": "1.2.0",
            "_view_count": null,
            "flex_flow": null,
            "width": null,
            "min_width": null,
            "border": null,
            "align_items": null,
            "bottom": null,
            "_model_module": "@jupyter-widgets/base",
            "top": null,
            "grid_column": null,
            "overflow_y": null,
            "overflow_x": null,
            "grid_auto_flow": null,
            "grid_area": null,
            "grid_template_columns": null,
            "flex": null,
            "_model_name": "LayoutModel",
            "justify_items": null,
            "grid_row": null,
            "max_height": null,
            "align_content": null,
            "visibility": null,
            "align_self": null,
            "height": null,
            "min_height": null,
            "padding": null,
            "grid_auto_rows": null,
            "grid_gap": null,
            "max_width": null,
            "order": null,
            "_view_module_version": "1.2.0",
            "grid_template_areas": null,
            "object_position": null,
            "object_fit": null,
            "grid_auto_columns": null,
            "margin": null,
            "display": null,
            "left": null
          }
        },
        "a1da0080ff0d490a82a7d9422b92c34f": {
          "model_module": "@jupyter-widgets/controls",
          "model_name": "ProgressStyleModel",
          "model_module_version": "1.5.0",
          "state": {
            "_view_name": "StyleView",
            "_model_name": "ProgressStyleModel",
            "description_width": "",
            "_view_module": "@jupyter-widgets/base",
            "_model_module_version": "1.5.0",
            "_view_count": null,
            "_view_module_version": "1.2.0",
            "bar_color": null,
            "_model_module": "@jupyter-widgets/controls"
          }
        },
        "ea69b9d528664cd2a3ab7cd413d840c0": {
          "model_module": "@jupyter-widgets/base",
          "model_name": "LayoutModel",
          "model_module_version": "1.2.0",
          "state": {
            "_view_name": "LayoutView",
            "grid_template_rows": null,
            "right": null,
            "justify_content": null,
            "_view_module": "@jupyter-widgets/base",
            "overflow": null,
            "_model_module_version": "1.2.0",
            "_view_count": null,
            "flex_flow": null,
            "width": null,
            "min_width": null,
            "border": null,
            "align_items": null,
            "bottom": null,
            "_model_module": "@jupyter-widgets/base",
            "top": null,
            "grid_column": null,
            "overflow_y": null,
            "overflow_x": null,
            "grid_auto_flow": null,
            "grid_area": null,
            "grid_template_columns": null,
            "flex": null,
            "_model_name": "LayoutModel",
            "justify_items": null,
            "grid_row": null,
            "max_height": null,
            "align_content": null,
            "visibility": null,
            "align_self": null,
            "height": null,
            "min_height": null,
            "padding": null,
            "grid_auto_rows": null,
            "grid_gap": null,
            "max_width": null,
            "order": null,
            "_view_module_version": "1.2.0",
            "grid_template_areas": null,
            "object_position": null,
            "object_fit": null,
            "grid_auto_columns": null,
            "margin": null,
            "display": null,
            "left": null
          }
        },
        "f56d2059a9964f6b8edfe876e65e8cc6": {
          "model_module": "@jupyter-widgets/controls",
          "model_name": "DescriptionStyleModel",
          "model_module_version": "1.5.0",
          "state": {
            "_view_name": "StyleView",
            "_model_name": "DescriptionStyleModel",
            "description_width": "",
            "_view_module": "@jupyter-widgets/base",
            "_model_module_version": "1.5.0",
            "_view_count": null,
            "_view_module_version": "1.2.0",
            "_model_module": "@jupyter-widgets/controls"
          }
        },
        "6bcc98d68d37468f85e0adb92feed7fa": {
          "model_module": "@jupyter-widgets/base",
          "model_name": "LayoutModel",
          "model_module_version": "1.2.0",
          "state": {
            "_view_name": "LayoutView",
            "grid_template_rows": null,
            "right": null,
            "justify_content": null,
            "_view_module": "@jupyter-widgets/base",
            "overflow": null,
            "_model_module_version": "1.2.0",
            "_view_count": null,
            "flex_flow": null,
            "width": null,
            "min_width": null,
            "border": null,
            "align_items": null,
            "bottom": null,
            "_model_module": "@jupyter-widgets/base",
            "top": null,
            "grid_column": null,
            "overflow_y": null,
            "overflow_x": null,
            "grid_auto_flow": null,
            "grid_area": null,
            "grid_template_columns": null,
            "flex": null,
            "_model_name": "LayoutModel",
            "justify_items": null,
            "grid_row": null,
            "max_height": null,
            "align_content": null,
            "visibility": null,
            "align_self": null,
            "height": null,
            "min_height": null,
            "padding": null,
            "grid_auto_rows": null,
            "grid_gap": null,
            "max_width": null,
            "order": null,
            "_view_module_version": "1.2.0",
            "grid_template_areas": null,
            "object_position": null,
            "object_fit": null,
            "grid_auto_columns": null,
            "margin": null,
            "display": null,
            "left": null
          }
        }
      }
    }
  },
  "cells": [
    {
      "cell_type": "code",
      "metadata": {
        "colab": {
          "base_uri": "https://localhost:8080/"
        },
        "id": "YhcciX89G19k",
        "outputId": "e35d6eef-ac91-492d-d7fb-4c83675503a2"
      },
      "source": [
        "from google.colab import drive\n",
        "drive.mount('/content/drive')"
      ],
      "execution_count": null,
      "outputs": [
        {
          "output_type": "stream",
          "name": "stdout",
          "text": [
            "Mounted at /content/drive\n"
          ]
        }
      ]
    },
    {
      "cell_type": "code",
      "metadata": {
        "id": "t0N6nEWIG-eA",
        "colab": {
          "base_uri": "https://localhost:8080/"
        },
        "outputId": "fc8bd72e-03d9-419d-a9ff-b3bf794b25f5"
      },
      "source": [
        "%cd /content/drive/MyDrive/Voice_Vertification"
      ],
      "execution_count": null,
      "outputs": [
        {
          "output_type": "stream",
          "name": "stdout",
          "text": [
            "/content/drive/MyDrive/Voice_Vertification\n"
          ]
        }
      ]
    },
    {
      "cell_type": "markdown",
      "metadata": {
        "id": "ct3ySBmv8558"
      },
      "source": [
        "# <b> <font color = 'cyan' size = '+3' > 1. Examine Speech Embedding"
      ]
    },
    {
      "cell_type": "markdown",
      "metadata": {
        "id": "HX_IbTlkItXa"
      },
      "source": [
        "## 1.1 Torchaudio"
      ]
    },
    {
      "cell_type": "code",
      "metadata": {
        "id": "gwwm2LfsAdNk"
      },
      "source": [
        "!pip install torchaudio"
      ],
      "execution_count": null,
      "outputs": []
    },
    {
      "cell_type": "code",
      "metadata": {
        "id": "kO7WW3seAenl"
      },
      "source": [
        "TEST_ROOT = 'Zalo_Voice_Verification/Train-Test-Data/dataset/272-M-26/splitaudio'"
      ],
      "execution_count": null,
      "outputs": []
    },
    {
      "cell_type": "code",
      "metadata": {
        "id": "yNdkPinY4455"
      },
      "source": [
        "import glob \n",
        "import os \n",
        "import random\n",
        "\n",
        "test_files = glob.glob(os.path.join(TEST_ROOT,'*.wav'))"
      ],
      "execution_count": null,
      "outputs": []
    },
    {
      "cell_type": "code",
      "metadata": {
        "colab": {
          "base_uri": "https://localhost:8080/"
        },
        "id": "QKHDT6g75Enn",
        "outputId": "75ad0129-3179-4e32-fe3d-519ce9a03b99"
      },
      "source": [
        "test_file = random.choice(test_files)\n",
        "print(test_file)"
      ],
      "execution_count": null,
      "outputs": [
        {
          "output_type": "stream",
          "name": "stdout",
          "text": [
            "Zalo_Voice_Verification/Train-Test-Data/dataset/272-M-26/splitaudio/20_chunk3.wav\n"
          ]
        }
      ]
    },
    {
      "cell_type": "code",
      "metadata": {
        "id": "y-TPWerm5agC"
      },
      "source": [
        "import torchaudio\n",
        "import torchaudio.transforms as tf\n",
        "\n",
        "test , sr = torchaudio.load(test_file)"
      ],
      "execution_count": null,
      "outputs": []
    },
    {
      "cell_type": "code",
      "metadata": {
        "colab": {
          "base_uri": "https://localhost:8080/"
        },
        "id": "x1dTRt_957eA",
        "outputId": "3ed771f6-a120-4ece-f2d1-bec80b2222d3"
      },
      "source": [
        "print(test.shape)"
      ],
      "execution_count": null,
      "outputs": [
        {
          "output_type": "stream",
          "name": "stdout",
          "text": [
            "torch.Size([1, 72000])\n"
          ]
        }
      ]
    },
    {
      "cell_type": "code",
      "metadata": {
        "colab": {
          "base_uri": "https://localhost:8080/"
        },
        "id": "LW6vu952-RwP",
        "outputId": "67c022da-1868-429f-95b3-e44a92d4d75c"
      },
      "source": [
        "t1 = test.shape[1]/sr\n",
        "print(t1)"
      ],
      "execution_count": null,
      "outputs": [
        {
          "output_type": "stream",
          "name": "stdout",
          "text": [
            "1.5\n"
          ]
        }
      ]
    },
    {
      "cell_type": "code",
      "metadata": {
        "id": "RRBpeoAM5_Sf"
      },
      "source": [
        "test = tf.Resample(sr,16000)(test)"
      ],
      "execution_count": null,
      "outputs": []
    },
    {
      "cell_type": "code",
      "metadata": {
        "colab": {
          "base_uri": "https://localhost:8080/"
        },
        "id": "Er4mBtn59sF2",
        "outputId": "8cad025c-502a-472f-a679-18155aed4e32"
      },
      "source": [
        "print(test.shape[1]/t1)"
      ],
      "execution_count": null,
      "outputs": [
        {
          "output_type": "stream",
          "name": "stdout",
          "text": [
            "16000.0\n"
          ]
        }
      ]
    },
    {
      "cell_type": "code",
      "metadata": {
        "colab": {
          "base_uri": "https://localhost:8080/"
        },
        "id": "jhjYU-OgCbei",
        "outputId": "2cd01b4c-693a-40be-f7fc-6801a7496fb3"
      },
      "source": [
        "tf.MFCC(sample_rate =16000,n_mfcc=40)(test).shape"
      ],
      "execution_count": null,
      "outputs": [
        {
          "output_type": "stream",
          "name": "stderr",
          "text": [
            "/usr/local/lib/python3.7/dist-packages/torchaudio/functional/functional.py:433: UserWarning: At least one mel filterbank has all zero values. The value for `n_mels` (128) may be set too high. Or, the value for `n_freqs` (201) may be set too low.\n",
            "  \"At least one mel filterbank has all zero values. \"\n"
          ]
        },
        {
          "output_type": "execute_result",
          "data": {
            "text/plain": [
              "torch.Size([1, 40, 121])"
            ]
          },
          "metadata": {},
          "execution_count": 12
        }
      ]
    },
    {
      "cell_type": "code",
      "metadata": {
        "colab": {
          "base_uri": "https://localhost:8080/"
        },
        "id": "p9XQf4dDDK0q",
        "outputId": "91dcf7b5-dd7e-46ac-aa38-28b1fea4af16"
      },
      "source": [
        "tf.MelSpectrogram(sample_rate =  16000, n_fft= 400)(test).shape"
      ],
      "execution_count": null,
      "outputs": [
        {
          "output_type": "stream",
          "name": "stderr",
          "text": [
            "/usr/local/lib/python3.7/dist-packages/torchaudio/functional/functional.py:433: UserWarning: At least one mel filterbank has all zero values. The value for `n_mels` (128) may be set too high. Or, the value for `n_freqs` (201) may be set too low.\n",
            "  \"At least one mel filterbank has all zero values. \"\n"
          ]
        },
        {
          "output_type": "execute_result",
          "data": {
            "text/plain": [
              "torch.Size([1, 128, 121])"
            ]
          },
          "metadata": {},
          "execution_count": 13
        }
      ]
    },
    {
      "cell_type": "code",
      "metadata": {
        "id": "4nx6G-KsLCeB"
      },
      "source": [
        "def get_melspec(file,sample_rate =  16000, n_fft= 400):\n",
        "  test , sr = torchaudio.load(file)\n",
        "  test = tf.Resample(sr,sample_rate)(test)\n",
        "  test = tf.MelSpectrogram(sample_rate =  sample_rate, n_fft= n_fft)(test)\n",
        "  if test.shape[0] !=1:\n",
        "    test = test[0].unsqueeze(dim=0)\n",
        "  return test"
      ],
      "execution_count": null,
      "outputs": []
    },
    {
      "cell_type": "code",
      "metadata": {
        "colab": {
          "base_uri": "https://localhost:8080/"
        },
        "id": "U-IMy1BcLX0j",
        "outputId": "3345e98a-77ce-404e-91f9-ed688dec8fe7"
      },
      "source": [
        "get_melspec(test_file).shape"
      ],
      "execution_count": null,
      "outputs": [
        {
          "output_type": "stream",
          "name": "stderr",
          "text": [
            "/usr/local/lib/python3.7/dist-packages/torchaudio/functional/functional.py:433: UserWarning: At least one mel filterbank has all zero values. The value for `n_mels` (128) may be set too high. Or, the value for `n_freqs` (201) may be set too low.\n",
            "  \"At least one mel filterbank has all zero values. \"\n"
          ]
        },
        {
          "output_type": "execute_result",
          "data": {
            "text/plain": [
              "torch.Size([1, 128, 121])"
            ]
          },
          "metadata": {},
          "execution_count": 15
        }
      ]
    },
    {
      "cell_type": "markdown",
      "metadata": {
        "id": "JlKk3OaPOWPA"
      },
      "source": [
        "## 1.2  ECAPA-TDNN embeddings on Voxceleb\n"
      ]
    },
    {
      "cell_type": "code",
      "metadata": {
        "colab": {
          "base_uri": "https://localhost:8080/"
        },
        "id": "jmaerrGfOtII",
        "outputId": "3c77e85c-9bc1-4f93-e0c7-25a75fc84a33"
      },
      "source": [
        "!pip install speechbrain"
      ],
      "execution_count": null,
      "outputs": [
        {
          "output_type": "stream",
          "name": "stdout",
          "text": [
            "Collecting speechbrain\n",
            "  Downloading speechbrain-0.5.10-py3-none-any.whl (393 kB)\n",
            "\u001b[?25l\r\u001b[K     |▉                               | 10 kB 24.7 MB/s eta 0:00:01\r\u001b[K     |█▋                              | 20 kB 26.3 MB/s eta 0:00:01\r\u001b[K     |██▌                             | 30 kB 12.7 MB/s eta 0:00:01\r\u001b[K     |███▎                            | 40 kB 9.6 MB/s eta 0:00:01\r\u001b[K     |████▏                           | 51 kB 5.3 MB/s eta 0:00:01\r\u001b[K     |█████                           | 61 kB 5.7 MB/s eta 0:00:01\r\u001b[K     |█████▉                          | 71 kB 5.5 MB/s eta 0:00:01\r\u001b[K     |██████▋                         | 81 kB 6.1 MB/s eta 0:00:01\r\u001b[K     |███████▌                        | 92 kB 4.7 MB/s eta 0:00:01\r\u001b[K     |████████▎                       | 102 kB 5.1 MB/s eta 0:00:01\r\u001b[K     |█████████▏                      | 112 kB 5.1 MB/s eta 0:00:01\r\u001b[K     |██████████                      | 122 kB 5.1 MB/s eta 0:00:01\r\u001b[K     |██████████▉                     | 133 kB 5.1 MB/s eta 0:00:01\r\u001b[K     |███████████▋                    | 143 kB 5.1 MB/s eta 0:00:01\r\u001b[K     |████████████▌                   | 153 kB 5.1 MB/s eta 0:00:01\r\u001b[K     |█████████████▎                  | 163 kB 5.1 MB/s eta 0:00:01\r\u001b[K     |██████████████▏                 | 174 kB 5.1 MB/s eta 0:00:01\r\u001b[K     |███████████████                 | 184 kB 5.1 MB/s eta 0:00:01\r\u001b[K     |███████████████▉                | 194 kB 5.1 MB/s eta 0:00:01\r\u001b[K     |████████████████▋               | 204 kB 5.1 MB/s eta 0:00:01\r\u001b[K     |█████████████████▌              | 215 kB 5.1 MB/s eta 0:00:01\r\u001b[K     |██████████████████▎             | 225 kB 5.1 MB/s eta 0:00:01\r\u001b[K     |███████████████████▏            | 235 kB 5.1 MB/s eta 0:00:01\r\u001b[K     |████████████████████            | 245 kB 5.1 MB/s eta 0:00:01\r\u001b[K     |████████████████████▉           | 256 kB 5.1 MB/s eta 0:00:01\r\u001b[K     |█████████████████████▋          | 266 kB 5.1 MB/s eta 0:00:01\r\u001b[K     |██████████████████████▌         | 276 kB 5.1 MB/s eta 0:00:01\r\u001b[K     |███████████████████████▎        | 286 kB 5.1 MB/s eta 0:00:01\r\u001b[K     |████████████████████████▏       | 296 kB 5.1 MB/s eta 0:00:01\r\u001b[K     |█████████████████████████       | 307 kB 5.1 MB/s eta 0:00:01\r\u001b[K     |█████████████████████████▉      | 317 kB 5.1 MB/s eta 0:00:01\r\u001b[K     |██████████████████████████▋     | 327 kB 5.1 MB/s eta 0:00:01\r\u001b[K     |███████████████████████████▌    | 337 kB 5.1 MB/s eta 0:00:01\r\u001b[K     |████████████████████████████▎   | 348 kB 5.1 MB/s eta 0:00:01\r\u001b[K     |█████████████████████████████▏  | 358 kB 5.1 MB/s eta 0:00:01\r\u001b[K     |██████████████████████████████  | 368 kB 5.1 MB/s eta 0:00:01\r\u001b[K     |██████████████████████████████▉ | 378 kB 5.1 MB/s eta 0:00:01\r\u001b[K     |███████████████████████████████▋| 389 kB 5.1 MB/s eta 0:00:01\r\u001b[K     |████████████████████████████████| 393 kB 5.1 MB/s \n",
            "\u001b[?25hRequirement already satisfied: scipy in /usr/local/lib/python3.7/dist-packages (from speechbrain) (1.4.1)\n",
            "Collecting sentencepiece\n",
            "  Downloading sentencepiece-0.1.96-cp37-cp37m-manylinux_2_17_x86_64.manylinux2014_x86_64.whl (1.2 MB)\n",
            "\u001b[K     |████████████████████████████████| 1.2 MB 38.9 MB/s \n",
            "\u001b[?25hRequirement already satisfied: joblib in /usr/local/lib/python3.7/dist-packages (from speechbrain) (1.0.1)\n",
            "Requirement already satisfied: tqdm in /usr/local/lib/python3.7/dist-packages (from speechbrain) (4.62.3)\n",
            "Requirement already satisfied: numpy in /usr/local/lib/python3.7/dist-packages (from speechbrain) (1.19.5)\n",
            "Requirement already satisfied: packaging in /usr/local/lib/python3.7/dist-packages (from speechbrain) (21.0)\n",
            "Collecting hyperpyyaml\n",
            "  Downloading HyperPyYAML-1.0.0-py3-none-any.whl (15 kB)\n",
            "Requirement already satisfied: torch in /usr/local/lib/python3.7/dist-packages (from speechbrain) (1.9.1)\n",
            "Requirement already satisfied: torchaudio in /usr/local/lib/python3.7/dist-packages (from speechbrain) (0.9.1)\n",
            "Collecting huggingface-hub\n",
            "  Downloading huggingface_hub-0.0.19-py3-none-any.whl (56 kB)\n",
            "\u001b[K     |████████████████████████████████| 56 kB 4.9 MB/s \n",
            "\u001b[?25hRequirement already satisfied: importlib-metadata in /usr/local/lib/python3.7/dist-packages (from huggingface-hub->speechbrain) (4.8.1)\n",
            "Requirement already satisfied: pyyaml in /usr/local/lib/python3.7/dist-packages (from huggingface-hub->speechbrain) (3.13)\n",
            "Requirement already satisfied: filelock in /usr/local/lib/python3.7/dist-packages (from huggingface-hub->speechbrain) (3.3.0)\n",
            "Requirement already satisfied: typing-extensions in /usr/local/lib/python3.7/dist-packages (from huggingface-hub->speechbrain) (3.7.4.3)\n",
            "Requirement already satisfied: requests in /usr/local/lib/python3.7/dist-packages (from huggingface-hub->speechbrain) (2.23.0)\n",
            "Requirement already satisfied: pyparsing>=2.0.2 in /usr/local/lib/python3.7/dist-packages (from packaging->speechbrain) (2.4.7)\n",
            "Collecting ruamel.yaml>=0.15\n",
            "  Downloading ruamel.yaml-0.17.16-py3-none-any.whl (109 kB)\n",
            "\u001b[K     |████████████████████████████████| 109 kB 59.6 MB/s \n",
            "\u001b[?25hCollecting pyyaml\n",
            "  Downloading PyYAML-5.4.1-cp37-cp37m-manylinux1_x86_64.whl (636 kB)\n",
            "\u001b[K     |████████████████████████████████| 636 kB 47.0 MB/s \n",
            "\u001b[?25hCollecting ruamel.yaml.clib>=0.1.2\n",
            "  Downloading ruamel.yaml.clib-0.2.6-cp37-cp37m-manylinux1_x86_64.whl (546 kB)\n",
            "\u001b[K     |████████████████████████████████| 546 kB 47.4 MB/s \n",
            "\u001b[?25hRequirement already satisfied: zipp>=0.5 in /usr/local/lib/python3.7/dist-packages (from importlib-metadata->huggingface-hub->speechbrain) (3.6.0)\n",
            "Requirement already satisfied: idna<3,>=2.5 in /usr/local/lib/python3.7/dist-packages (from requests->huggingface-hub->speechbrain) (2.10)\n",
            "Requirement already satisfied: chardet<4,>=3.0.2 in /usr/local/lib/python3.7/dist-packages (from requests->huggingface-hub->speechbrain) (3.0.4)\n",
            "Requirement already satisfied: certifi>=2017.4.17 in /usr/local/lib/python3.7/dist-packages (from requests->huggingface-hub->speechbrain) (2021.5.30)\n",
            "Requirement already satisfied: urllib3!=1.25.0,!=1.25.1,<1.26,>=1.21.1 in /usr/local/lib/python3.7/dist-packages (from requests->huggingface-hub->speechbrain) (1.24.3)\n",
            "Installing collected packages: ruamel.yaml.clib, ruamel.yaml, pyyaml, sentencepiece, hyperpyyaml, huggingface-hub, speechbrain\n",
            "  Attempting uninstall: pyyaml\n",
            "    Found existing installation: PyYAML 3.13\n",
            "    Uninstalling PyYAML-3.13:\n",
            "      Successfully uninstalled PyYAML-3.13\n",
            "Successfully installed huggingface-hub-0.0.19 hyperpyyaml-1.0.0 pyyaml-5.4.1 ruamel.yaml-0.17.16 ruamel.yaml.clib-0.2.6 sentencepiece-0.1.96 speechbrain-0.5.10\n"
          ]
        },
        {
          "output_type": "display_data",
          "data": {
            "application/vnd.colab-display-data+json": {
              "pip_warning": {
                "packages": [
                  "yaml"
                ]
              }
            }
          },
          "metadata": {}
        }
      ]
    },
    {
      "cell_type": "code",
      "metadata": {
        "colab": {
          "base_uri": "https://localhost:8080/"
        },
        "id": "j8QYVmjaSa8V",
        "outputId": "b544d5cf-f704-47fe-a12c-2ddf24182eb7"
      },
      "source": [
        "test_file = random.choice(test_files)\n",
        "print(test_file)"
      ],
      "execution_count": null,
      "outputs": [
        {
          "output_type": "stream",
          "name": "stdout",
          "text": [
            "Zalo_Voice_Verification/Train-Test-Data/dataset/272-M-26/splitaudio/10_chunk0.wav\n"
          ]
        }
      ]
    },
    {
      "cell_type": "code",
      "metadata": {
        "colab": {
          "base_uri": "https://localhost:8080/",
          "referenced_widgets": [
            "b0648d34e68241ce96a95557aed440fd",
            "54fcaef14fa448039bce868444104274",
            "2e8c5a26dd3542eab5019538dee33e39",
            "1d31d8002327424f97d12ca1d88273ac",
            "17f3be68518f4763bfbfaf0669fbb061",
            "300861b4eefd4f4a8bb7fe009b93446d",
            "548b92b31c1744faa849f4e34222ced4",
            "1fdcd131aa8648af8f4d7ac9b5be9ec7",
            "6b22cd9307e94f1d8eceab8006ff1ddb",
            "9dc9e238ddda457e85be93432c58b9c3",
            "03552a34bfbf4ee3a6622dd2f7107d48",
            "1d64e2b217bd4a9ba6ca29629e18798b",
            "d3b6961f72e349d8a3b26a1794006bbd",
            "00c520fef6dd4969a58ada6a24e435f3",
            "e76f5e7607474f70bbbfce3288e09dd4"
          ]
        },
        "id": "o8bi7eDAOzf_",
        "outputId": "71c7caf0-dcf3-4b3e-fcc7-3f22b9e4bb2f"
      },
      "source": [
        "from speechbrain.pretrained import EncoderClassifier\n",
        "classifier = EncoderClassifier.from_hparams(source=\"speechbrain/spkrec-ecapa-voxceleb\")\n",
        "signal, fs = torchaudio.load(test_file)\n",
        "embeddings = classifier.encode_batch(signal)\n",
        "print(embeddings.shape)"
      ],
      "execution_count": null,
      "outputs": [
        {
          "output_type": "display_data",
          "data": {
            "application/vnd.jupyter.widget-view+json": {
              "model_id": "b0648d34e68241ce96a95557aed440fd",
              "version_minor": 0,
              "version_major": 2
            },
            "text/plain": [
              "Downloading:   0%|          | 0.00/1.98k [00:00<?, ?B/s]"
            ]
          },
          "metadata": {}
        },
        {
          "output_type": "display_data",
          "data": {
            "application/vnd.jupyter.widget-view+json": {
              "model_id": "1d64e2b217bd4a9ba6ca29629e18798b",
              "version_minor": 0,
              "version_major": 2
            },
            "text/plain": [
              "Downloading:   0%|          | 0.00/83.3M [00:00<?, ?B/s]"
            ]
          },
          "metadata": {}
        },
        {
          "output_type": "display_data",
          "data": {
            "application/vnd.jupyter.widget-view+json": {
              "model_id": "d3b6961f72e349d8a3b26a1794006bbd",
              "version_minor": 0,
              "version_major": 2
            },
            "text/plain": [
              "Downloading:   0%|          | 0.00/1.92k [00:00<?, ?B/s]"
            ]
          },
          "metadata": {}
        },
        {
          "output_type": "display_data",
          "data": {
            "application/vnd.jupyter.widget-view+json": {
              "model_id": "00c520fef6dd4969a58ada6a24e435f3",
              "version_minor": 0,
              "version_major": 2
            },
            "text/plain": [
              "Downloading:   0%|          | 0.00/5.53M [00:00<?, ?B/s]"
            ]
          },
          "metadata": {}
        },
        {
          "output_type": "display_data",
          "data": {
            "application/vnd.jupyter.widget-view+json": {
              "model_id": "e76f5e7607474f70bbbfce3288e09dd4",
              "version_minor": 0,
              "version_major": 2
            },
            "text/plain": [
              "Downloading:   0%|          | 0.00/129k [00:00<?, ?B/s]"
            ]
          },
          "metadata": {}
        },
        {
          "output_type": "stream",
          "name": "stdout",
          "text": [
            "torch.Size([1, 1, 192])\n"
          ]
        }
      ]
    },
    {
      "cell_type": "code",
      "metadata": {
        "id": "9pwxSCBSOzwY"
      },
      "source": [
        "from speechbrain.pretrained import SpeakerRecognition\n",
        "other_test_audio = random.choice(test_files)\n",
        "verification = SpeakerRecognition.from_hparams(source=\"speechbrain/spkrec-ecapa-voxceleb\", savedir=\"pretrained_models/spkrec-ecapa-voxceleb\")\n",
        "# score, prediction = verification."
      ],
      "execution_count": null,
      "outputs": []
    },
    {
      "cell_type": "code",
      "metadata": {
        "colab": {
          "base_uri": "https://localhost:8080/"
        },
        "id": "bmxHvXs9WmzH",
        "outputId": "68e5258f-11ea-45d6-8a8c-db9ada151eaf"
      },
      "source": [
        "print(test_file)"
      ],
      "execution_count": null,
      "outputs": [
        {
          "output_type": "stream",
          "name": "stdout",
          "text": [
            "Zalo_Voice_Verification/Train-Test-Data/dataset/272-M-26/splitaudio/10_chunk0.wav\n"
          ]
        }
      ]
    },
    {
      "cell_type": "markdown",
      "metadata": {
        "id": "3x1qT7rhIxNT"
      },
      "source": [
        "## 1.3 HuggingFace"
      ]
    },
    {
      "cell_type": "code",
      "metadata": {
        "id": "fgpy7bGJ7wJk"
      },
      "source": [
        "!pip3 install transformers==4.9.2 soundfile datasets==1.11.0 pyctcdecode\n",
        "!pip3 install https://github.com/kpu/kenlm/archive/master.zip"
      ],
      "execution_count": null,
      "outputs": []
    },
    {
      "cell_type": "code",
      "metadata": {
        "id": "rCOD3gdZ9upA"
      },
      "source": [
        "from transformers.file_utils import cached_path, hf_bucket_url\n",
        "from transformers import Wav2Vec2Processor, Wav2Vec2ForCTC\n",
        "import os, zipfile\n",
        "import torch"
      ],
      "execution_count": null,
      "outputs": []
    },
    {
      "cell_type": "code",
      "metadata": {
        "colab": {
          "base_uri": "https://localhost:8080/"
        },
        "id": "iM_whnvwI4P8",
        "outputId": "6dc8e93a-c754-4300-9f0d-b9cfaf15d996"
      },
      "source": [
        "cache_dir = './cache/'\n",
        "processor = Wav2Vec2Processor.from_pretrained(\"nguyenvulebinh/wav2vec2-base-vietnamese-250h\", cache_dir=cache_dir)\n",
        "model = Wav2Vec2ForCTC.from_pretrained(\"nguyenvulebinh/wav2vec2-base-vietnamese-250h\", cache_dir=cache_dir)\n",
        "lm_file = hf_bucket_url(\"nguyenvulebinh/wav2vec2-base-vietnamese-250h\", filename='vi_lm_4grams.bin.zip')\n",
        "lm_file = cached_path(lm_file,cache_dir=cache_dir)\n",
        "with zipfile.ZipFile(lm_file, 'r') as zip_ref:\n",
        "    zip_ref.extractall(cache_dir)\n",
        "lm_file = cache_dir + 'vi_lm_4grams.bin'"
      ],
      "execution_count": null,
      "outputs": [
        {
          "output_type": "stream",
          "name": "stderr",
          "text": [
            "Special tokens have been added in the vocabulary, make sure the associated word embeddings are fine-tuned or trained.\n"
          ]
        }
      ]
    },
    {
      "cell_type": "code",
      "metadata": {
        "id": "exv84K5pI79-"
      },
      "source": [
        "audio_file = 'Zalo_Voice_Verification/Train-Test-Data/dataset/426-F-48/426-13.wav'"
      ],
      "execution_count": null,
      "outputs": []
    },
    {
      "cell_type": "code",
      "metadata": {
        "id": "FAsV5lgoWtay"
      },
      "source": [
        "import librosa\n",
        "signal, sr = librosa.load(audio_file,sr=16000)"
      ],
      "execution_count": null,
      "outputs": []
    },
    {
      "cell_type": "code",
      "metadata": {
        "colab": {
          "base_uri": "https://localhost:8080/"
        },
        "id": "4_xbWp73W27l",
        "outputId": "a715432e-c963-4ea4-c027-c71d97ad7d9e"
      },
      "source": [
        "print(signal.shape)"
      ],
      "execution_count": null,
      "outputs": [
        {
          "output_type": "stream",
          "name": "stdout",
          "text": [
            "(25030,)\n"
          ]
        }
      ]
    },
    {
      "cell_type": "code",
      "metadata": {
        "id": "csx-RKDHJCeX"
      },
      "source": [
        "def map_to_array(batch):\n",
        "    speech, sr = librosa.load(batch['file'],sr=16000)\n",
        "    batch[\"speech\"] = speech\n",
        "    batch[\"sampling_rate\"] = sr\n",
        "    return batch"
      ],
      "execution_count": null,
      "outputs": []
    },
    {
      "cell_type": "code",
      "metadata": {
        "colab": {
          "base_uri": "https://localhost:8080/"
        },
        "id": "zUGFlh5fJmB4",
        "outputId": "717f3fa1-e543-41b7-81e9-b1ff7e58c709"
      },
      "source": [
        "# test thu\n",
        "def get_embedding(wave_file):\n",
        "  ds = map_to_array({\"file\": wave_file})\n",
        "\n",
        "  input_values = processor(\n",
        "        ds[\"speech\"], \n",
        "        sampling_rate=ds[\"sampling_rate\"], \n",
        "        return_tensors=\"pt\"\n",
        "  ).input_values\n",
        "  logits = model(input_values).logits[0]\n",
        "  return logits\n",
        "\n",
        "print(get_embedding(audio_file).shape)"
      ],
      "execution_count": null,
      "outputs": [
        {
          "output_type": "stream",
          "name": "stdout",
          "text": [
            "torch.Size([77, 110])\n"
          ]
        }
      ]
    },
    {
      "cell_type": "markdown",
      "metadata": {
        "id": "x3RM7zcAffeQ"
      },
      "source": [
        "# <b> <font color = 'cyan' size = '+3' >  2.Data Exploration"
      ]
    },
    {
      "cell_type": "code",
      "metadata": {
        "id": "Ic9E7wrZJE3T"
      },
      "source": [
        "import librosa.display\n",
        "import IPython.display as ipd\n",
        "import matplotlib.pyplot as plt\n",
        "import numpy as np\n",
        "from tqdm.notebook import tqdm\n",
        "import os\n",
        "import random \n",
        "import glob"
      ],
      "execution_count": null,
      "outputs": []
    },
    {
      "cell_type": "code",
      "metadata": {
        "colab": {
          "base_uri": "https://localhost:8080/"
        },
        "id": "9esghyj1fDER",
        "outputId": "5af255b1-6aa9-425c-b648-d9e34da30d33"
      },
      "source": [
        "DATA_ROOT = 'Zalo_Voice_Verification/Train-Test-Data/dataset'\n",
        "subject_folders = os.listdir(DATA_ROOT)\n",
        "print(len(subject_folders))\n",
        "test_subject_folder =  os.path.join(DATA_ROOT, random.choice(subject_folders)) "
      ],
      "execution_count": null,
      "outputs": [
        {
          "output_type": "stream",
          "name": "stdout",
          "text": [
            "400\n"
          ]
        }
      ]
    },
    {
      "cell_type": "code",
      "metadata": {
        "id": "dT9bQA0tf61L"
      },
      "source": [
        "test_audio_files = glob.glob(os.path.join(test_subject_folder,'*.wav'))"
      ],
      "execution_count": null,
      "outputs": []
    },
    {
      "cell_type": "code",
      "metadata": {
        "colab": {
          "base_uri": "https://localhost:8080/"
        },
        "id": "JKaVrquHf8yo",
        "outputId": "4bd92927-098f-4a19-d085-618ef06c59e4"
      },
      "source": [
        "test_audio_file = random.choice(test_audio_files)\n",
        "ipd.Audio(test_audio_file)"
      ],
      "execution_count": null,
      "outputs": [
        {
          "output_type": "execute_result",
          "data": {
            "text/html": [
              "\n",
              "                <audio controls=\"controls\" >\n",
              "                    <source src=\"data:audio/x-wav;base64,UklGRqxCAQBXQVZFZm10IBAAAAABAAEAgLsAAAB3AQACABAAZGF0YexBAQC7/8z/4P/s/+f/4v/V/8v/pP+E/3T/gf+L/4j/hv98/2L/L/8W/xb/Lv8v/y3/L/9I/1j/U/84/x3/Gf8Y/yT/LP81/xb/8P7Y/tL+wf6m/rb+0/7c/sX+0v7q/uX+tf6f/tb+Gv82/yj/LP80/wz/2f7J/vf+Hv8G/+r+6P76/uT+yP69/sz+5v7+/iH/Mf8T//j+7/7//gv/Hv8v/zj/Lf8o/yv/Gv/z/uX+/v4j/yr/LP8x/zr/G//u/t/++v4c/x7/Gv8o/zz/IP/v/tL+8P4b/zv/SP89/xT/4v7L/uX+Av8Y/xH/Df8H/xj/Of9N/1v/Yf9//6D/rv+//9//9v/v/83/tP+7/9D/5P/n/+j/3P/a/9j/5v/7/xkAMQBKAFAASABGAEsAaAB+AK0AzgDeANQAwgC/AMYA4wAPASYBHgH+APkAEQExAUoBVQFCATYBLAFLAW8BnAG0AboBqAGtAbsB4wEVAlECcAJdAikCEAIfAkwCfQKUApkCfAJZAkQCTQKAArQCywKsApUCiAKZAqACmAKVAowCiwJ0AloCPgIyAh8CFAIbAiYCHgL2AdsB0gHbAdkB0wG4AZABZgFcAWABWwFNASoBCQHsAN0A2wDKAL0ArgCcAJMAfgB9AFsASgBGAEcALgAGAO3/6//n/+3/9f/5/+X/zf/E/7v/vP+v/7H/l/+H/3H/Wf89/yz/NP84/yH/Av/o/uT+0v7E/sL+vv7I/rT+pP6L/ob+jP6e/qT+lf6B/mf+Zf5q/nb+kf6J/nb+RP4y/jr+Sv5E/jr+I/4Y/gj+Df4X/hX+DP4K/hn+JP4s/jD+Nf4t/i/+QP5R/lv+S/49/i/+JP4q/in+Kf4I/v/9Af4o/kH+Sf4+/i/+MP47/lL+Yf5t/nf+b/5j/kr+QP5W/nL+dv5X/iL+Ef4T/if+Iv4d/hX+GP4f/ij+Pf5U/mT+bP5s/n3+l/64/s3+1v7S/tz+9v4U/yn/NP86/0T/U/9h/4H/pv/I/97/2//v/wMALwBNAG4AegCXAJ8AzgDwAB0BOAFHAWIBfgGkAcwB7AEOAigCSQJiAowCqgLWAuICCgMkA1EDWQNlA2kDhAOWA7QDwwPEA64DogOoA7oDsQOmA5sDjwN3A2oDggOfA50DcgNNAzwDQwNMA0YDKgPyAsoCrgKzAqECjgJjAjwCEwL9AfgB6wHTAagBgwFgAUoBMwEVAeUAvQCUAHsAWQA4ABcA6f+8/5//kf94/1H/L/8Z//z+3v67/qz+j/5z/k3+O/4s/iL+E/7z/d391P3Y/dL9vP2x/av9sf2r/aD9h/1y/Wr9c/17/Wr9UP1E/Uj9Tf1P/UT9Qf1E/Uv9Yf1s/XT9Z/1g/Wn9h/2o/cn93P3l/eD95v39/RH+Hf4d/iv+QP5a/mL+Xf5a/mb+hP6P/pb+nP61/sn+yP7B/sn+1P7g/uD+6f7l/ub+zv7T/tT+9P4L/xb/Fv/9/uH+0P7n/gf/Av/U/pP+bv5X/lX+X/5p/lP+Ff7Q/bj9xf33/QD+7f3F/az9pf2X/aL9xP3s/fP91P2o/Zn9tf32/TH+Tv5R/mT+gf6u/uD+D/9D/2L/g/+s/+H/MwB7ALUA1AAFAU0BtgEVAm4CwQIDA0QDcQO4AwkEewTaBBUFOwVeBZIFvAXqBSgGhAbQBgUHKAdVB4gHsAfKB+4HFQgyCEMIRQhLCD0IKggeCB8IKggbCAgI8wfqB9sHuAePB2IHPwcVB/cGvgaIBj0G8AWiBVkFFwXSBJMEQwTsA4wDKwPbAogCNwLrAaYBVwH2AJQAPwD4/7b/c/8z/+z+kv5F/vf9wP17/Tn99Pyw/Gf8H/zc+6f7cPtF+xD77fq8+qf6gfpk+kP6Nvoz+in6Cvrz+dj50fm4+b35vvnN+c75x/m4+bP5wvna+fL59vkI+hv6Lvo1+jr6P/pF+lH6fPqq+tn66/r0+vb6A/sL+yv7U/t8+4n7dftb+1j7X/to+3L7kPvE++v78fvj+9/7CvxD/HL8hvyB/HT8UfxG/GL8nvy1/IT8Pfwl/Dn8bvyJ/IP8bPxU/GD8ePyl/NL86fzT/MH8w/zf/Pz8I/1J/Xf9iv2p/b391v0M/n/+6/5B/2H/kf/X/zkAwwBLAbkB8wE3AqkCMwOxAxMEdQTfBDoFowUMBncGxwYVB2sHygciCG8Iswj1CDIJcwm0CecJFwpMCngKlwqfCqEKpwqeCpQKggpwCjsK+QmxCYgJXwkpCcgIbAgeCPUHugd6By0H5AaABhIGtgVpBR0FrwQ6BL8DRgPOAmYCAQKgATABzQBpABQAx/+T/1j/E/++/mD+I/7t/cD9hP1J/RL9wPxr/CP8//ve+577X/su+w375/rB+p/6gPpp+k/6Q/o2+jT6J/oR+gP69/nw+eL53PnZ+dr52fnU+cr5wPnJ+eH5/PkC+gr6Fvoi+kH6WPp2+oX6j/qp+tf6Evs3+0/7SftU+177ffug+8H72PvV+737l/uK+5v7vvvF+7D7i/tT+y/7HvsY+w777fra+rz6gvpE+i76O/o/+jn6PfpH+mD6d/qh+sv6/fpK+5z75/s+/KT8HP1//fj9mv5u/08AHgHSAXUCFwO9A2YEEwW+BUsGvwYxB70HUwjgCIMJNgrtCooLMAznDJoNJw65DjoPrQ8CEFUQoBDIEMcQsxCmEJEQfRBoEFwQSxA3EAMQyQ+ID1QPFg+5DmUODg6oDSoNpQw0DMkLUwvSCkkKrwkLCW8I0wcxB4UG3QVKBbcEHwRzA8cCCwJeAbwAOgDX/2f//f6S/kL+5P15/Qr9o/xC/ND7YPvj+nH6+PmK+TD55Piq+IH4XPgv+AP42/fK98X3yfe29633qvex96H3jvd+93X3ZPdc93b3mfec96j31vcl+Fz4hvjB+Pn4L/lN+ZP52/km+mz6rPr/+kz7qvsJ/FX8hPys/Nz8JP1h/Zv9x/31/RD+Lf5W/pr+7f4q/1j/av+G/6r/8f84AHUAfABmAEoAPAAzACgAHgAMANX/ef8w/xr/O/89/xn/xf5s/ir+Df7+/e79xv2V/Tb9xPx2/H78nPyU/Dj8x/tw+1L7gPvG+/n7FPwR/P37BfxR/PX8qv1K/sL+SP/f/6sAgQEyAqIC9QJYA+EDawTgBEYFqgX6BUwGsAZhBywI6QhmCesJegoiC7YLPgzGDDcNog3ZDfoN+w3wDekNzg2vDYANaA1ODSAN3wyxDJwMeAw2DOgLwgulC3MLHQvCCmkKGgrKCXYJIwm0CCEIZQe+BjEGwAVBBbkEJwSaAyIDpwI7Ar0BXQH6AKYATgAKANb/p/9h/wb/nf5H/vT9iP0W/Z38K/yw+zD7zPqK+mT6LPrm+Zf5b/lf+UP5JvkM+RD5C/n2+Mf4oPiI+G/4RvgS+O733/fI96T3i/eM95H3kfeU97H3zvfr9/r3Dfgs+Ff4ivjQ+Pn4F/kR+Rb5K/lH+V35efmI+Y/5i/mM+Y75ofms+cv53fkE+ir6QfpH+kT6V/po+ov6qPrB+r/6qvqX+pn6l/qQ+oz6oPrD+uD62frL+s369PpV+8z7Rfya/Pn8Vv2u/Q7+g/4e/6X/IQCqAGcBIgLDAjUDoQMlBLAESQXfBXUG9gZbB7oHLwjOCHQJJQq4Cj8LtAskDJgMBw19DecNPw54DocOhQ50DnMOYQ5HDhQO1w2GDTQN8QzPDK0McQwoDN4LqgtfCwcLmworCqEJBwllCNsHQweWBskF6wQeBGkD1AI1Ao4B6gBhAO3/b/8B/5r+Nv7H/UL9w/xS/Nz7cPv7+oz6G/qv+Uv56/iJ+CL4yvdy9yj36vbC9pb2bfZB9ir2KvYk9ib2H/Yp9j32RvY+9jf2RfZP9lH2PPY29jP2OfY69kr2Y/aW9sf2Cfc/94731vck+Gz4wPgk+X75yfn8+Tf6b/qu+ub6E/tA+377xvsD/DT8ZPyu/OX8Df0x/XD9vf33/SP+Q/5l/nv+j/6g/rn+xP7J/rb+mP6G/ov+pP6l/of+Sf4Y/u391/3T/dT90P25/ZD9eP2D/aL9uf2Z/VH99vy5/Kj8svy5/In8Lfy/+3D7Yftx+4L7U/sF+8P6wPr++nX77/s8/GX8ivwC/aP9Rv6v/vP+Gv9S/7r/dABwAYsCmgNhBLMEtgTEBDkF5QV9BtoGDwcgBycHUwfmB9EIyQl5CuAKQAvAC2kMEw2eDQEOPg5bDmkOdQ5pDkMO4w1tDfYMrAyjDMoM8gzxDMgMoAx7DGwMTgw1DP0LnAsPC2oK3AltCREJqAgaCGwHrAbsBU0FxARMBMsDVQPoAowCFwKTAQMBdADs/1z/1/5m/hP+vP1h/fL8kfxE/Pr7qftB+8z6R/q6+TL5yviP+Hz4Xvgz+AH48vf79wX49vfk9+L37fcA+Av4D/gS+Pv33veu95D3hfeP96L3t/fL9wD4P/ib+PH4TPmq+fz5JfpA+lT6k/ri+i/7cvux+/H7HPw5/F/8nfzu/DD9Zf2V/bj95f0J/kf+lP7V/gv/Jf8+/1P/ZP98/6L/wf/U/9L/3v/u////8//f/8X/uv+y/7f/uv/F/8T/xf/C/9r/BQBNAHMAegBXAEIASABoAIQAkACLAIUAeQBpAFUAVQBfAHkAhwCkAMwA8gAJAR4BSwGdAfUBQwJsAoACiwKpAscC3wLjAvICCQMeAyMDJQM8A04DVgNKA1EDdQOlA8ADwAOjA4wDhQOSA5EDegNUAxgD5gKbAm4CTQI8Ah8C8gGvAW4BNQEIAeUAvgCTAGsAQgAbAPL/y/+e/2j/Lv/w/q/+Zf4e/un9pv1j/SH9+fzi/MH8nvx8/GL8Rfwi/BL8EPwg/Bz8B/zh+7v7pfuR+3f7Ufsp+w/77PrK+qT6ovqn+rL6m/qE+mj6WvpR+lb6Zvp++oP6fPpx+ov6svrG+rj6r/rE+t/6yvqf+o76rfrA+qL6Wvor+h36LfpC+lz6c/pg+kH6N/pp+sv6Fvs7+yP7Cfv8+gf7HPsc+yX7Jfsd+wP74PrA+pn6dfpS+kr6RvpH+jz6KPru+b/5q/m/+cj5s/mY+ZH5n/mx+bb5wfnZ+Q/6Vfqi+ur6MPtb+377uPs//Df9kf4iAKgB7QIHBAgF2QU2BiEG3AXQBeIFAgYDBvQF6AUSBpUGlgfuCF4KqAuhDG8NOg4PD9QPcBDrEDQRORHpEGIQvQ8LD0wOpQ0vDfYM/QwlDV8Nhw2YDaENqA20DaENXg3sDGYM3QtQC8IKOArDCTMJfgiWB50GlQWUBL8DAQNoAscBNQGcAPr/YP/e/nj+D/6w/WL9N/0V/fz82vyW/B/8d/u3+tT5zvin95L2nvUD9Zb0bPRo9Iz0y/T79Dz1kPUO9ob28fY+93n3mfeU93D3I/fG9l/28/WB9Rf16fQC9VP1wPVP9vP2p/c1+LP4HfmO+e/5Q/qK+tb6KPuB+8777vvz++X78vv6+wb8CPw6/Ib84vxC/cT9dP41/9n/YADuAIgBRwL9AqwDRAS5BC4FogUeBnsGqQaVBjkGvwVaBWYF0QV0BvUGTAeHB8MHDwhtCOUIVgmqCbMJmwl9CYcJhAlfCfYIeAjtB3YHAQeDBucFMwWVBCYE6gPBA4YDSgPpAmUCtwElAbgAbgD6/3T/0f40/oj91vwp/H77zfoJ+kr5o/gk+Nj3oPdy90P3IvcR9w33/Pbe9sb2mfZx9j72IvYK9ub1pvVJ9fD0oPRl9EX0OPQ/9D/0WPSL9Of0R/Wc9ev1OPZ+9qn2v/bW9uf29vbv9ur28PYM9zH3MPcc9/r2+PYX9033l/f191r4uvgW+Wf5wvku+qH68Prh+qH6Wvpa+nr6pvqW+mf6EPrU+br50vn8+SL6OPpB+lf6d/qW+of6V/ob+tf5m/lh+TL52/hK+J/3JvcL9yD3TfdN9yf34Pa19sT27fYQ9zH3dPf595n4RPnT+S36l/oy+0f86/0dAJYClgRfBf0ENAT3A30EbQUTBvgFEgXyA4QDKQTSBd8H1glwC8QMBg5KD2wQOhHHES0SbhKCElsSFxKhEfIQHRBQD58OTw5gDuYOdg/OD+MPChBgEN0QQhFzEVERyBDgD9gOCg6IDT4N1wwYDAwLwAmXCKcH9gZZBs8FSgW9BBcEdgMDA70CUAK+AS8B6ADFAH8AAgBj/73+I/6O/RD9cPx5+xX6mfhO91X2wvV49Yb1s/XW9fH1GPZk9tL2TffM9zP4Y/he+Cz44fd19//2h/Ya9q/1NvXY9Jn0qPT49Jr1dfZy93D4SfkF+or65/og+1X7p/sO/GT8k/yB/GP8SPxW/HL8ovzR/Bf9a/3J/Tj+yP6h/50AlQFNAtACLQNpA5QDtAPnAy8EeQS6BN8E4gS6BHoEJwTWA5EDeAOOA7EDxAPdAy4EvwRjBfkFfgbyBjYHIwfyBsUGwAbJBrYGiAY+BuMFgwU/BRgFAwX3BOYE8AQSBWAFuAUEBiYGMgY4Bj8GMAYHBsEFYwXqBHYEJwT2A60DOAOeAhYCjQEUAagAYwA1AAYA8f/s/wAA/v/7//H/zv91//7+kf4t/r79PP3G/GD87vt2+wv7x/qE+ln6S/p2+r76Bftk+8P7JPx1/Lb86fz9/Pf83Py8/IH8Rfwb/Br8Ovxg/I78u/zi/Af9M/11/b79CP5L/pP+y/7z/gj/DP8C/9T+p/52/mj+TP4u/v/96/3q/ff98v3m/cv9wP2x/av9mv2N/YX9kP2a/aH9pv2x/ZT9TP3e/I/8Zvwp/ML7Pfvc+p76evpI+hH60fmg+Zr5wPnv+fj5w/lv+Qn5tPh2+Ej45Pc/93v23PWM9Vn1EvW59Gz0VvSH9N30IPUp9Rj1FPVk9dn1Zfa79vz2KPeA9+/3evgT+e75NfsO/TX/PAFmAqcCTwJlAjwDkwRzBYYF9QR2BIAEVAXPBpMIIQpMC1UMnQ0ND1cQNhHNETYSjhLDEuASzBJ3EtMRKRGlEGcQWRCIEOQQVBGZEbsR1xEkEoISxRK4El8S0REaEV8Qrw8qD78OTw6mDbUMhAtqCpoJMgnnCJkIHwiXB/sGTQaYBeMEMQRhA5AC4wF4ASABpAAAAFr/6P6Q/iz+iv2R/FP7EPrx+DD4tPd592j3YPdO9yv3Dvch92P3zfcz+IP4r/i++KH4XPgL+Mf3f/cZ9232zPVb9ST1MvV39R726/bD94/4S/nn+VL6jfq6+uL6B/s7+2X7dvtQ+xj7+PoH+z77gfu6++z7K/yf/DT94v2f/m//LACzAO4AAAENASMBUgGPAdwBLQJ7ArUCuwK0AqsCtAKpAowCgAKNAr8C7QIrA34D7AN5BPwEYQWdBa8FuQWsBa0FygUFBioGHwbqBcAFrQWiBXkFNAXsBPAESQXqBXcGxgbFBq4Gmga6BuoG+Aa4BjMGqQVTBR4F8QSSBAgEbwPmAooCRgIFAqcBPgHeAKQAfQBlAE8ALQDk/2z/1/5J/sH9Qf26/Df8qPsj+6j6OPrA+T35zvh4+Dn4B/gD+CL4UPiA+Kb4zvjk+Ov45vjY+LH4kfhy+Gf4W/hx+J34wfjS+Nf4EPlj+dr5OvqX+sr6+Po3+4b7x/v3+w38GPwJ/Pn78/sB/AX8CvwZ/DH8U/yE/Lf82vzr/N/84Pzb/Ob8/fwZ/R39Df0K/RH9Jf04/ST92fxP/N77pPua+3f7Kvvk+qz6gvo++uf5mPlr+Wj5Yfk0+c34S/jf95P3Z/cZ94f2tfX79Jb0cvRR9AL0lPMg8+Dy7vJC84bzifNn82HzhvPG8xD0aPSi9MH09/R09Uj2Wfe7+Hj6bfw9/oP/KQBKAHUA/wDvAasC0QJoAvcBAgKyAgsEuwVoB/QIcgocDMENOg9aEEAR5RFVEpsSvxK+EnkS6hEuEXkQCBDwDzYQmxADEUcRgxHFES8SohICExQT5xJrEtoRKxGVEBUQkA/7DjoOYw1SDDsLTwrGCW8JGwmcCBMIgwfaBioGbwW7BAEERAOlAgUCZgGeAOn/Nf+w/jT+xf0R/Qv8sfpZ+Tj4cPfz9qL2ZPY69h32DvYQ9iL2bPbI9jL3bveV96P3nPeG91P3HffR9m/29PVt9fb0tvS39B31xPW79rf3mvhO+dj5YPre+lf7vfsM/EP8a/x2/Hj8avx2/Kr88vxI/YL9wP0V/qD+ef9pAGgBRQIFA40D1gMDBCkEVQRzBJEExAQMBT4FVQVdBV0FQQUYBeAEswR1BEUEKAQwBD4EZQSmBAMFTQVvBXwFcwVmBUUFPgVKBVkFRgUOBa0EMQSnAzQD+QLaAsUCmQKPAugCuAOqBDkFGwWOBBkECQRLBG4ELwSGA7YCEwLUAdUBxgFsAdAAVAA5AHoAsACWAEAAAgACACAAKgAJAKv/Hf9t/uH9iv1b/T79EP3X/IT8Lfzt+7/7lvte+yv7+vrl+tX61/rx+h/7a/uh+8H7svux+7T7wfvN+9D72/vf++T7+fsM/CL8Kvwp/Dr8Yfy//DD9kP2z/cD97v08/pL+sP6b/k/++P2Y/VX9Nf08/Vj9TP0k/fD87Pz+/A/9Bf35/Aj9MP1j/Wj9Sv0W/QT9D/0I/dn8hPwp/NT7gvtS+zT7JvsM+9P6hvoh+sf5oPmR+Zz5hflO+db4KfiN9zL3KvcY98r2IvaA9RL19/Tf9Jj0JPSr823zc/O98/Hz3vNt8xrzNfO+83P0/fRP9Wf1e/UF9i/36vjF+qj8Y/6v/zEA+//A/xMA2gB2AXUBDwGyAKgAIQEjAqMDQwXJBkII4gmaCycNSg4nD+UPjxAIEUIRMxG+EPMP+A4cDpMNdw2oDQwOUw53DokO0A5VDwMQhRCwEHEQ+A9VD8kORQ7aDWENsQy4C3cKIwnqB+0GNgbGBXUFMQXHBEAEqgMIA3IC4QFcAdIATwDF/0r/0P5V/sz9af0V/cH8Dfzk+n/5K/gj93r2E/bY9ab1YPUV9eX08fQz9af1Kvaq9gP3Rvdq95v3s/e194H3F/eO9uL1RfW+9IX0kPT/9KP1dfZQ9zr4D/nD+Vf6zvpx+w38o/zm/Av9DP0k/S39Of09/UX9Q/1B/Vj9o/0t/vn+8f8HAQ8C6wKPAwwEaQTJBBcFVgWQBcAF8wUYBiEGDgbzBdwFwwWbBV4FIAXvBOEE8QQyBYYF5gUoBlUGXAZUBkgGMQYrBicGLQYhBukFlQUiBZcEAQR3Aw8DuAJVAgUCyAHJAfkBYALNAhsDNQNTA3sDbwPwAgQCLgGkAIIAWwDt/x3/D/4g/X/8Uvxe/Fv8NPwc/Ff8zPwz/Vb9Wv0x/ej8evwW/Kn7Qfu4+jf6xvls+Tn5HfkH+eH4xPjC+Nv4IPmA+fH5Qvpx+qb66Pox+3T7qfvV+/b7BfwE/AL8I/yD/AL9X/2R/av90P3x/Rz+ZP69/hD/X/+1/yIAjQDbAA4BGQEXASQBLAEOAa8AMgDo/8X/uv+W/0v/8f6i/nD+Xv5n/pP+z/7v/vT+BP86/2n/Zf8G/3L+6f2X/X39Pf2t/O37XPsJ+8X6ffol+r75Rvnk+ML4z/i1+Gj48feP90T3Gffv9qH2Mvat9Tv13PSj9I30hfR59Gj0bvSE9Ln0E/V+9cr1CPaA9oX3wvgk+pT7Zf09/9UA1AFYAnYCegKbAtgC+ALRAp4CmALSAlIDPQScBUwHGwnvCskMcg7tDwkR3RFlEsQSAhMYE9QSPBJwEZUQ6Q9aDwsP2g7bDuwOFA9jD+gPiBASEVsRYxE1EdEQTRDBDyYPfA62DcsMqwtTCuwItAe4BuQFNgWQBPQDRAOaAvMBXgHTAFsA6/9v/+z+df70/Wb9ufwy/M37Zfu++s75rviK92/2gPXD9Cr0rPM/8+ryu/K88gTzdPP383r0/fR89en1Svaq9vb2F/f49qj2Nvan9R31vPSR9Lj0+vSB9Rz26/bc9+74E/oo+zn8Nv0Q/tP+d/8BAGYArQADAU0BfAFzAVwBYQGWAe4BegI5AykEIQX7Bb0GZQcKCJII9ghKCZ0J8gknCjcKMQo7Cj0KLgr3CbIJXAnsCGMI3gdwBy0H9wbgBsIGuwabBncGTwYoBhMG7wXKBY0FOQXGBDMEkAPOAggCNgGMANn/Kv9z/uL9ev1I/Tn9WP2C/Yz9ev1c/T79Lf0L/f385fy//HP8//tr+9/6ZPoc+uD5ufmS+YD5cPmD+az58fk1+oD61vob+y77Kvsp+1T7efuZ+7z7vfum+2D7O/s1+0L7WfuE+8X7C/xN/Jv8FP2i/Uf+5/6C//z/YwDIADABlgHtAUQCjAK/AsECuQKpAp8CiQJ3AngChwKTApQClgKWAqYCtgLPAtYCxwKbAmQCKALxAb0BeQEbAZcAAABl/8/+S/7h/Zf9Uv0U/cj8jvxF/An82PvC+8D7qft3+xb7pPo2+tz5jfkX+YT48feO9zP3w/Yl9p/1X/Va9WT1PPXd9FT07fPZ8wX0J/T586nzevOW89TzEfQ19D30RvRw9N/0afXU9Q/2YPYK9yD4efkV+/L8/f7SAB0C4gJjA+wDggQHBVYFYwVOBUYFhwUJBsAGoAe2CBYKqAtJDc0OLRA5ERASthJYE9gTDRTqE4UT9hJSEqURGxHMEJgQYxAZENwPxQ/tDzoQghCSEEUQ1g9kDx0Pyg5mDtYNLw1eDFULHwrQCJgHdwZvBYcEqwPlAvIB6gDH/8X+3v0P/Uj8nfv/+nD68/mM+Vn5P/kj+dT4TPh896v21vUh9Wf0uPMa85byGvKw8WXxVPFt8Zzx3fFF8s7yjfNb9Ev1JvbZ9lr3t/fv9/r30vef94f3mvfK9yf4pPg8+eH5i/pT+y/8Gv32/db+t/+uAKwBngJzAy8E1gRnBcUF/AUaBjgGVAZ+Bs8GSAfjB2UI4AhFCZoJ1AkDCj8Kmwr0CkcLfwu2C+ILAgwZDBsMAAy8C1ALzwo0CpsJ+whvCPMHfAf2BloGrwUUBZAEJwTRA44DVQMjA/QCzgKkAmAC8wFsAdMAMABw/5j+wP39/Gb87/t9+xH7ovpc+hv65/mU+WH5SflY+YD5pvnc+fr55vm4+Zb5ifmI+V35Ovkd+SX5Gvki+TP5Y/mS+bv55/kb+lT6nPrv+mf73ftf/Nn8Sv2v/fr9S/6X/uf+I/9d/4v/tf/h/xUAWgCiANwAHgFbAaoB5wEjAmICuAIXA34D1wMoBFIEZAROBDYEDwTrA7ADaAMIA6gCPQLRAV8B6AB2APz/h/8Z/7L+Uf7l/Yn9Nv34/LP8bPwp/OH7hfsZ+6z6P/rO+VP57PiL+EL45feC9//2Z/br9bT1vvW39WP14/R29Eb0P/Q39A70s/NG8/Ly4fLv8ubyrPJe8ibyI/JJ8oPyk/KN8obyvvI+89LzbfTt9GP14PWf9sH3Nvmh+vL7UP0Q/y8BWgP6BMwF1wWsBb4FOwbVBjwHTwdGB1gH0wevCN4JFAs6DGcNng7TD9cQjBEgEpcSFBN2E6UTdhPVEvcRDBFoEAgQ0w+HDw8Pdg4BDtsN9A0YDgMOjA3RDAUMaQsNC78KXArYCTYJhAisB7oGtAWRBGADPQJHAYUAtf/X/tf96fz4+xT7O/p8+dL4Q/jy9/L3NPh6+LT44vj3+Ob4jfgH+Gv3yvY29qb1N/XZ9I70RfQX9AH0GfRO9I70+/R/9UL2F/f/9/D48Pnh+rf7Q/yV/KD8oPyh/Nr8Lv2o/Rf+gf7i/kv/s/8PAFYApAAJAYkBJALdAqwDgwRFBfgFoQYvB5UHxwfkB+cH/AcaCE0IcwiFCGwIPQjmB34HHwfMBo0GYgZIBk8GcAahBuYGEwcZB+4GrAZYBuoFYgXfBFsE6ANiA9wCTgK5ARoBeADa/0P/uv5Q/gT+2/3V/fb9Lf5o/oP+ev5S/hj+8P3M/b/9l/18/WT9Y/1Z/TX96/x2/P37pPuM+6n7zfvt+xT8Uvyr/A79ef3f/T/+nv7u/kL/hf/W/woARwBuAKoAzgC9AHsAKwALABAAMgBTAHIAfwCQAK0A9ABRAa0B6QH+AQgCIAJeAqEC2AIEAy8DQgMyA/kCuAJ+Aj4CBALQAbABiQFxAU8BMgEeAQQB+ADSALAAlQCQAIwAfABcAC8A5/+M/yP/sv4u/rL9Q/3o/I/8QPwB/OH7tPuI+1z7Nvsb+/z68/rn+uj69/oo+1f7VPsC+5f6N/oH+tn5nPk8+cr4YPgL+MP3i/dT9yz3B/fq9sn2nvZv9lv2cvbF9h/3cfeW9633tPfe9x34iPjv+Gv5z/k7+rD6Uvsk/CP9X/4aACwCSATGBY8G0gb3BkcH5gebCCIJIAnVCJQItAgXCaUJTwoVC/ILxQx2DQgOeA75DqoPbRAaEWsRXBHzEFEQvg9MDxoPzQ5LDoANrwwNDNkLyAuoCx0LPApBCVgIkgfbBigGgAUDBbQEfQQfBHgDlAKoAeMATgDX/1L/mP7E/dr8BPw1+2H6ivmc+L73Cveq9pX2s/ba9h/3ZvfI9xr4V/hQ+CD43fe897T3rfeP92j3Ovcn9yz3R/dm93f3iffB9xj4pPg++f35uvqE+0/8F/3D/S/+ef6//j//4/+mAFAB4AFBApEC2gIaA0IDOgMRA+ECxQLZAiQDkQMIBGsEzQQoBWoFfwVzBWsFfgWwBeQFDwYQBvUFvgWCBSQFoAT+A1oDxAJCAuEBlgFgASgB5QC7AIgAWQAGAJz/Mf/Z/p/+hv59/m3+V/5D/jD+Ff7k/aH9Uv36/Kn8hvyT/MP88fwg/VH9d/2Y/a/90/36/TD+kv4O/5v/7/8lAEAAVAB6ALUA+AAUAQUB8gD2ABABNwFkAZsBzwH3ARcCFAL1AeQBBgI7AnYClwK2AsACvgLMAtYC2QK3Ao0CWQIMAs8BqAGQAWEBGAHNAHMABACT/0H/Ff/j/rH+e/5c/lH+Vf5J/hT+3/21/ZX9aP0p/e/8ufx4/DX87fub+zj72fqK+kH6/Pm0+W/5Kfnq+LD4h/hf+DL4Dvjr99X3yvfC9773xffo9wb4GfgT+A/4DPj69+X3yPer95b3k/eV93/3Svch9xn3F/cO9/b28vbt9vL2Afch90H3YveB96f3wffk9/v3GPgy+GD4m/jJ+Pv4M/mR+eT5Q/qt+jH7uPsx/Mb8jP2T/ur/sAGoA4gFvgZVB2IHaAexB2AIJgnFCfsJBwrvCesJEQpxChgL2wuPDAYNOQ1oDbkNXQ4UD8cPMhBLEA8Qsw9wD0EPKg/1Do8O5g0nDZcMUAwfDM4LPgt5Co8JgQh+B54G5AVeBQcFxASKBDIExgNRA+ACbwINApcBKAGxAFYA9/+f/yf/hP6x/eD8HPyO+xP7wfqS+o76o/rZ+hL7Q/tX+1v7bPuK+6/72fsC/Dz8hvzf/Dv9iv2x/b39uf3I/eH9+/0T/j/+gf7W/ir/hv/Z/x8ASQBjAIkAtAACAVcByAFHAtECSAORA6kDnQN5A0MDDQPkArEChQJdAlwCcAJ6AmcCLgLWAXsBKAHkAKQAegBpAHgAhgCQAJcAgABNAAMAx/+J/zv/2P6D/kD+B/7W/ab9Z/0J/Yn8+/uC+w/7xfqF+nb6f/qv+un6GftK+3b7rPvJ++77BPw6/Hf83vxW/fH9hP4M/3n/xv8ZAFUApADwAGwB/QGNAgADaQPiA2QE4QRKBZkFvwXfBREGbgbEBgQHMQddB2sHTQcwByIHLAcWB9sGmgZhBjwGJAYPBuwFrgVQBfAEhwQuBOUDsQNzAxsDnwI4AtwBjwExAcUAWQDs/4f/Fv/B/nf+T/4c/tP9bv0I/bD8ZPwm/OP7t/t5+037HfsB++f6y/qh+mb6H/rU+Z35e/le+UH5KfkQ+fP4xfiW+Gz4Rfgd+AD47Pfy9/b3D/gn+EP4Xvhq+Hf4gPiP+KL4uPjI+OL49PgQ+Rv5JPkg+Rf5Bfnp+NT4wfi1+Kf4pfil+LL4tPjB+Nz49fgF+QT5/vgW+T35fPm7+QL6UfqY+tz6H/t1+9X7LvyF/PX8kv1Y/mL/mADWAcICOwNdA2wDoAMbBMoEfQX2BUAGXwZuBogGzQZQB+QHWAiNCKQIwAgOCZIJNwrOCioLMQsPC+IK7QoYC0QLSQsTC7UKTAoECusJ4AnCCYgJIwmMCNcHJQenBk4GBQa/BV4F5QRaBPEDoANYA/MChwINAqUBVwE4ATkBKgEKAcEAYADZ/1b/2P55/iz+D/7+/eH9ov1z/Vv9Rv0h/fb82vy//KL8pvzH/AH9Of11/Z39tf2k/ZL9gv19/Yz9tv3o/Rz+RP5z/rL+AP9Z/5n/tP+p/5v/l/+t/9D/EwBTAIUAkQCkALkA2ADXAMkAwADOAOAA+QASATYBTwFiAVUBJQHNAHUALgD+/97/zf/e/+L/9P/6/w4ACQDk/7b/hP9Z/yb/Cv/z/u3+2f7X/sL+mf5Z/i/+DP71/d/93P3z/fL93v3X/er9EP4L/ur9t/2Z/YH9dP1y/YX9vf3v/RX+K/4z/kX+Wf6C/rv+AP9E/23/lv+y/+z/SAC1AB0BbAGhAdMB+wEnAmAClwLgAiMDjgMPBIYE0wT2BAMFEgUsBVAFjQXWBSIGWgZPBjcGIQYuBi8GJQYIBusFwwWeBZ8FvwXIBZwFRQXuBJYESgQHBN4DrQNtAxcDsgJRAgAC0gGiAWQBEwG6AGQAEgDN/7P/of+b/4b/Z/9G/yL/FP8L//3+4/7A/rT+o/6o/qn+sP6r/pf+ff5i/jv+FP4B/gL+CP4E/u791v24/ab9i/2F/XH9dP1w/WT9WP1O/Vv9Z/1g/VP9Rv1K/T79LP0X/f785vzC/Kf8kPxh/Cv88vu6+3b7KPve+q/6ivpb+jP6BfrX+aT5g/l3+Xb5evl7+Yf5lfmn+bz54PkJ+jf6ZPqN+r/66/ov+2z7xPsm/Jv8JP3H/Xb+Hv+W/+v/MACJAP0AkgEtAsECMwOKA8MDAQRQBL8EPwWnBd8F+QUgBnYGEwfHB2wIzwgKCTcJaAmqCegJIQo2CiMKAArgCckJtAmsCasJmgluCRsJvghcCBYI8QfSB54HQQfpBp8GSQbnBX4FIQXNBIQERAQOBOIDwQO0A6MDgwNcAx8DzwJgAgkCxQGcAVoBGwHkAL8AmwB9AF8ASgA7ACkAIAAUAA0ADAADAAAAAAADAPT/x/+f/5D/pP/J//L/EgAqAFcAkwDOAPYA9AD0AOIAvQCfAIMAhQCEAHwAcQBmAGMAWgBhAE8ARQAtACMAEwD2/+f/0f/L/7L/jf9M/wz/y/6Y/lP+Hv7s/d/9xv21/Zn9hP1Q/RH93/y8/I78Wfwa/P771Puz+4v7dvtf+0r7Qvss+x77//oE+yT7U/t2+5T7s/vX+/37KfxP/G38jPy8/Ab9Yf2y/RT+bv7i/kD/sv8IAGAAswAWAYwBDAKSAg4DfQPEAwoERwSgBO8ETwWfBecFHQZCBm4GnAbWBgEHGgcOB/sG1wa4BqAGjQZ5BkoGJwYOBvsF4AWyBXUFJgW+BGgEIATqA7YDeAMyA9ECeAImAuABngFUARMBzACRAGAAPgAdAN//nv9O/wz/w/6J/l3+Nf4e/vv95v3R/bn9q/2V/Yz9e/1z/WH9Qv0a/Qb9Bf0H/fD81fzD/Ln8pPyP/I38ivyH/IH8fPx0/Gr8Y/xG/Br88/vG+4z7Lfvv+sb6oPpl+hn67Pm8+Yj5Wvk2+Rn59/jj+Nn41PjK+Mn4zPjZ+Oj49vj++A35KflI+WP5ffmz+ej5J/p4+t/6Vfu0+wn8TvyU/OP8W/35/a3+Xv/3/2wAwAATAYABCAKbAhgDbAOVA74DHwSsBE8F3wVjBtQGPAekBxQIegi/CPcIHglGCVEJagl8CZIJognBCeAJ/gkCCiMKUApkClgKJAr9CdoJzQm2CZ0JUwn4CJUISwgiCAkI8QfdB8UHoQdpByMH7QbFBp0GWwYABpoFMgXMBHkEPgQEBN0DowNrAyUD7wLIArkCqQKNAlMCFQLUAacBcAE6AREB7wDWAK8AkAB/AHgAdgBvAF0AUgA+ADQAJAAWAP//5v/C/6P/jv+A/4L/h/+O/3v/XP85/xz/Ev8I/wf//f74/tj+vv6f/pn+l/57/k7+G/7y/c/9qf2P/Y79fP1l/UT9Pv0y/SD9CP3v/Nf8u/yd/IL8XPwz/Bb8A/ze+7H7hvtz+3H7fvuY+7L7v/vP++b7B/wr/E/8dfyI/Jv8t/zt/CL9WP2e/eP9Nv6A/tL+Gf9f/7D/HwB3AMAA8wA+AYgB0wEaAmkCpwLdAhEDWgOqA/EDLwRpBKAE1gQCBSsFSAVRBV4FawV8BX8FfQV7BX8FcgVdBUkFNwUcBQkF8wTiBMEEnAR9BFMEIQT4A+ADxwOQA04DEQPUAooCPAIIAtoBrgFrASkB0wCVAFkAKgADAMn/m/9b/yj/9f7M/pr+Z/4u/v79z/2i/X39Tf0y/Qj95vy3/ID8TvwR/OH7pfts+x/70/qM+kL67PmQ+UL58fiY+Dj49vfF96D3dPdX9y/3Bffo9uH23PbH9q/2qva29r720vbv9iL3R/d796r37fcd+E34e/io+N/4Hvl5+eD5S/qq+gH7X/vO+1v8Ev3I/W3+5v5O/6X/FgCHABABegG/AegBHQJ+AvMCiQMXBKsEIgWkBSIGpAYCB0cHaQeBB48HpAe5B9IH8AcZCDcISQhOCHEIuQgeCXEJiQlxCUIJLwkdCQ8J/gjYCKkITwgOCNIHsgejB7AHzgfYB9YHugemB4cHeQdbBx0HvgZrBjUGDgboBcgFxwWtBZoFdQV1BXsFigWFBXAFRwUzBTIFOQUgBQcF5gTHBI4EXwROBGYEeQSFBHYEXQQvBAIE5QPOA7oDiANBA/ECqgJwAjwCGwL2AdMBmAFLAQcBzQClAIAAUAAhAOf/vf+N/2//Qf8M/7j+YP4D/rT9b/0+/Qr9yvyB/Dz8BfzS+7b7oft7+0z7E/vs+rz6kPp2+mf6WPo4+iL6FPoP+g/6HPpA+lf6f/qa+tX6AvtG+3/7svvf+wb8RvyH/Nf8Kf2O/fL9YP7M/kz/xf9CAKIADgFvAdMBNgKQAu4CNgN2A7kD/wNRBJEEyQTsBBUFPgVpBZIFvAXtBRMGPAZPBnoGjwalBqIGmgaGBoEGggaEBnsGYwZIBi0GDwb7BecF1gXDBa4FjQVdBTIFGwUCBcwEkQRFBAUEuQN5AzgD9AKkAmICKQLwAboBgwE1AeIAjwBCAOr/j/9I/xj/2f59/ir+6f2z/Xf9Lf3r/Jz8OfzW+2X7+fp4+gL6g/kJ+Xv48fd/9xf3sfZb9g/23/Wo9XL1QfUm9Qj17/Ta9Mz0yvTJ9Mb02vTl9An1HvVJ9XX1svXn9Rb2VPaw9h/3kfcE+H74AvmK+T/6Ffv5+738X/3s/XX+/P6m/1kACwGKAewBRALBAlIDAASgBEgF3QVjBtwGXQfeB00IfwiWCIgIjAiDCIwIlAihCKIImgiHCIQIsAj6CEIJRAkHCa8IXggoCAAI4wenB1MH9QagBlYGFwbzBfEF6AXIBZwFYgUtBfgE2AS2BHwEMgTsA7QDfgNMAysDFAMDA+gC1gLnAgsDPwNTA08DQAM/A0sDeQOtA9wD6QPvAwgELwRYBIUEwQQLBT4FWwVjBXoFqAXeBRYGLgY2BjEGKwY1BjgGMwYRBvoF6wXfBbwFkgV5BVYFGwXJBH0EOgT/A78DegMYA6wCRQLaAWoB7wCFACUAtP89/77+Tf7l/ZX9Qf3c/GX8Bvy5+2D7/PqO+j765Pma+VP5JPno+MD4ofiD+Gv4Vvhg+HL4hPiV+Kr4yPjq+Br5Pfle+XT5qfnj+ST6cvrY+kD7sPsW/JH8/fxt/eH9Wv7W/kL/t/8lAJMA5QAwAXMBvgEWAnICuAL8AjYDgwPIAwgESASABKkEzAT2BBcFLgVABVAFXAVTBVUFYAV6BXoFdgVsBVwFRwUuBRsFCgX2BM0EkQRUBBwE8gO0A3ADIgPdApQCTAIaAt8BoQFjAS4B+AC5AG4ALQDj/4z/Pf/4/rj+Vf7f/VX93Pxd/Nr7Xfva+mL63vln+QD5qfhK+Of3nfde9yD3zPaA9kT2C/bZ9ab1iPVq9V/1SfU/9TL1PPU+9T31OvVE9VL1bPWL9c31BfZJ9pX2+fZz9wX40Pix+ZD6Qvvj+3f8FP28/XH+FP+I/9T/DwBhANgAigFQAg4DtAM8BNQEXQUEBowG9AYUBxsHIAc7B1gHhAerB7wHrAegB6wH6QcwCIsIwgjACI8IVAg+CDgIOwggCO8HjQc7B/YGywaxBpYGfAZNBg4G1QW1BZsFfgVFBe0EjQQtBO0DvAOLA1MDGgPrAsYCoAKNApACoAKtAqQCmAKNApwCtwLlAvoC/QLqAt4C6wIWA0ADVwNXA08DUgNeA2YDkwPGA/oDEAQlBEsEZQSIBKYExQTRBMkEyATTBMsEvQSxBKQEfwRTBEEEVgRhBFsENwQIBMkDhQNGAwoDugJxAhMCuwFPAfYApQBsADkACgDS/43/TP8a//L+uv52/jj+A/7X/bf9iv1l/Tf9F/0L/f38//wS/S/9Uf1k/Xf9lv25/dT97v3w/fL9+/0T/kn+df6x/t/+EP87/3T/tv8QAHcA4QAuAVQBdAGrAe8BLAJiApQCuALDAtQC9QImA0EDUwNfA3UDfwOfA7IDzwPSA8cDugOrA6YDuQPFA8gDpQOGA2kDXANOA1YDXwNVAzsDEgPtAs0CxwLGAsICpAJ2AlACGwLwAb8BnQFnAS0B8ADGAIwAUwAUANX/f/8b/63+TP7a/WX92vxW/Mb7Tfvh+oH6HvrD+Xr5Pvn/+L34gPhJ+BH43/er93b3PfcQ9+b2z/au9pb2efZl9mT2bPZx9nj2f/aT9rj25vYm93P3z/c6+NX4g/k8+uH6hvsY/Kb8Lv3L/W7+8P5N/4v/7f9qAA4BwwF9Ai0DzgNaBOgEegUKBmsGlQaeBpoGmQaeBqEGtAasBpUGcQZpBnwGsQbpBhoHIQfuBqsGagZSBkIGHAbRBWUF9QSbBFQEMAQIBO4DuAN1Ay8D5QK2AoICTwIBApIBJwHRAJUAbAAsAOf/mP9b/z3/Nv88/0H/TP9X/1X/Rf9L/2P/gf+R/5H/k/+M/47/ov/B/+H/5f/u//T/8v/z/wEAIQBJAGYAgQCbAMAA7gARARYBCgEBAQUBBAH6APAA5gDXALcAnQCBAHEAWwBKACkAAQDb/6//jP9R/xH/w/5v/hT+wP1w/Sr98fy7/IT8TPwY/P374/vK+7f7nft4+1r7Pfs3+yD7A/vo+uH6+/oa+z77WfuK+7f79vsn/G38tvwG/T39eP2u/fb9RP6T/uj+NP93/7v/CAB+APUAcgHXAT8CmQLlAi4DhwP0A1EEjQSuBNEE/AQ5BWsFmgWvBcgF7AUbBj0GXAZuBm0GZwZNBkYGPAYuBhQG5QWgBVgFEgXlBMAEmQRrBC0E6AOkA2kDNAP6ArkCgAIwAt4BiQFMAQoBuABhABMAxP9p//H+g/4H/pH9DP1+/N/7U/vR+mD61PlE+bP4P/jS93/3Lffm9qX2dfZT9ir2Bfbm9eL11vXN9br1ofWY9Yz1jvWE9Xr1dPV69Yb1lvWy9df1EvZu9tX2SPfW95D4Xvkb+rv6TPvL+0D80Pxs/QH+Uv6P/tP+Of/C/2YAJwHgAXoCAwOOAyEEvgQ9BYwFowWiBa8FuwXNBd8F9gX4BfYF9gUaBmYGuQYDBxcH+gbCBqwGoAahBoEGUAYNBsEFewVEBS8FIwUmBRIFAAXfBMgEwwTFBLUEgwRBBPwDzAOgA2sDLwPnAq8ChAJrAmcCcgJ8AoACdQJzAnYCkgKuAswCxwK3AqQCpgK3AtEC4gLmAtkC0wLRAs4CyALGAtoC1gLNAr8CzQLiAv4CBAP8At8CvgK2Aq4ClQJWAh4C7AHWAbgBngF6AVQBLwH+AMUAgAA+APT/nf9C/9j+f/4U/r/9Y/0L/a/8UvwP/Nn7qvuA+2X7TPst+//6zPqv+pL6f/pa+kH6HvoH+vv5AfoW+ij6Pfpk+o/6yvr++kP7hPu3++H7EfxN/Jr80/wZ/Ur9gP3L/SP+kP7y/kj/mf/k/yEAaAC1AA4BVgGhAeIBJQJVAooC0gINA0QDZQOlA+UDGwRDBF4EdgR/BIYEigSSBJwEoQScBIAEYwRQBEAEKwQTBAYEAwTlA70DkgN8A2kDWQM6AxoD6wLGAp8CcQImAtYBgAExAdMAcgD3/3v/+P59/gL+gf0K/Z78OvzV+2L7/fqX+kX6+Pmw+V35DvnI+JH4Zfg7+B34APji97n3o/eG92r3Tvc89zr3Nvco9xn3Gfc092f3qff491L4y/hc+RL6xPpy+/37b/ze/FH94f1h/r3+A/83/47/+/+FACEByQFjAvMCbwPyA20E3wQnBVQFXwVuBXkFiQWRBZEFhAVzBVIFVAWBBdMFEAYhBg4G8AXVBcYFswWpBXYFPgXqBLQElASBBHgEXQRHBCEEAgTkA84DygO8A6MDbAM7AxMDBQPsAs0CoAJyAlgCSwJYAmsCeQKCAo4CpAK5AtEC9wIaAzkDPwM8A04DYQOEA5sDsAO9A7wDvgO5A70D0APvAwwEGgQgBC8ETARhBHYEdgRoBEwEOwQ4BCQE9gO6A44DgwNuA1UDNwMUA+0CtwJ4Aj0C+AGvAVwB+gCaADsA5v+U/0D/6f6Z/lL+HP7w/cr9m/10/Uv9LP0Q/fn84PzP/Kv8jPxj/Eb8PvxQ/G78lfyx/M787vwa/U79jf25/e39J/50/rr+9P4y/3j/zv8RAFQAmADdABsBUgGXAdgBIAJXApgC2AIQA0IDbAOfA70DzwPSA+0DCQQtBC8ENQQwBDQEGQTyA+ED2gPWA7gDmgOFA2QDRwMjAxYD+ALKApQCdwJlAkYCJAL+AdwBpAF6AU8BMwH8ALcAbAAgAMf/Xf/1/oD++P1r/dX8UfzB+zr7wvpe+gb6tPlm+Sz5AvnV+LT4i/ht+Ev4LfgK+Pb33ffa98z3zffK98332/fp9wL4Gfg0+FD4fPi/+Bb5cPnZ+VT67fqa+0n8Bf2h/TL+pv4m/6z/LACcAAABTgGQAdsBVAL0AqUDQATCBDYFmgUQBoMG7gYqB04HZAd1B30HhAeQB6MHqgehB5oHnwe/B/oHFwgKCNIHmwd5B1sHMAcEB8UGfAYoBt8FtgWYBXcFXAUlBe0EpARqBDQEBATMA4ADMwPmAr8CmwJ2AkUCCgLgAbABkwGJAYoBkAF7AWEBVwFjAYMBngGxAbMBswGrAbEBtwHYAecB8AHoAeoB8gH8AQQCGQItAkICVgJuApUCqwK1ArECpQKRAnkCYgJIAh0C4QGuAYEBZwFHAS8BEAH1AL4AigBKAB4A8v/I/37/Iv/F/nj+Mv7h/Yr9Pf35/MH8ivxu/Ev8NPwQ/Pf71vu4+6b7m/uL+3P7Ufs9+yv7G/sh+zT7UPtn+3D7ifum+877+/sp/Gb8jvy2/ND87fwm/WX9of3T/fz9Mf5n/qj+8v46/3r/pP/d/ysAjADcACUBXAGPAcgB/wFEAngCjgKkArEC0ALYAusC+wIKAwgD/wL7Av8C+wIBAwgDCwP/AvAC4gLZAsgCrgKVAn4CYQJGAh8C+QHJAZEBRgHtAIMAEwCY/xL/gf7a/Tb9i/z4+2z76/pk+vP5gfkz+dr4lvhG+P73tPdw9yj35/ag9mT2E/bS9Zb1afU79Rf1/fT29Oz06vT69CH1WfWZ9en1Rva89lX3Avi1+EX5uvkU+nj6+PqI+wf8ZPym/On8Of2k/Tz+8f6k/0oA3wB5AQoCmAIdA4oD2wMTBDwEcQSkBNwEDAUtBUQFWQV5BbUFBAZQBocGoAalBqEGoQapBrAGlgZoBigG/QXQBbEFjQV6BVgFSQUjBRYFAgX1BOQEtQSCBEYEFgTrA7cDkgNTAx0D4gLTAsMCsgKRAnMCaAJhAmQCYwJbAkYCMgIWAv0B2wHUAb8BsAGNAXQBYAFQAUcBPgE2ASkBKQE4AUYBXwFwAX8BeAFzAWoBYQFPASsBEwHYAKoAeABtAFwATgBCADsALQAdABAADQD//+v/x/+m/3b/V/9J/0X/Mv8L/+T+z/7G/sH+wf65/rf+tv68/sv+0/7m/vT+Bv8R/yX/Rf9t/4X/of+u/8n/4P8MADEASwBlAHIAjQCQAJwAsgC9AMkAyQDfAO0A9gD9AAoBJAE1AVYBbQF/AYkBngGnAbUBugHGAccBtgGtAbIBsAGiAYUBeAFlAVMBJgH9AMoAsgCjAJYAgABvAHcAeQBwAFgAWABaAF4AUQBUAEIAMwAUAPv/1v+e/1r/Cv+9/mL+9/2A/Qz9ofw7/M77ZfsQ+8H6efo2+gH63/nE+bH5mvl5+V/5TflC+Sv5C/no+Mz4qPiI+G34YPha+Fb4XPh7+Kz4/PhR+a75Gfqk+kz7CPy1/ET9vv0a/ob+//5+/+L/IgBfAJkA4QBSAeYBhAL8Al8DzgM2BKIE8wRDBXMFkAWbBaIFpAW/BdcF7gXtBegF3wXrBQ8GWQaJBqQGmAaHBnYGXgZOBjgGCgbGBYgFUwU2BRYF9gTVBL0ErQSaBIUEegR4BGMEQwQYBPED1AOwA4oDVAMZA+wC1wLIArkCqQKeAp0CnwKXApwCmgKTApMChwJ5AlICNwIjAhwCCwL6AecB3AHJAcEBqgGaAY8BlwGtAawBrwG4AbkBsAGMAXQBWwE4ARIBzgCQAFcAOwAcAPz/1v+2/4L/Xv8z/x//9f68/oL+SP4F/sb9jP1g/UD9Ev3j/K38kPx6/G/8XvxR/Ez8QfxE/ET8Rfw+/EH8R/xR/Fb8Z/x7/J/8uvzR/N385fwE/Sr9WP2B/a393v36/R7+MP5i/or+sf7Z/vX+F/83/2n/k/+8/+D/DAA4AF8AhQCwANkA7AD/ABUBMAFGAUkBVQFYAVcBRQE6ASsBHAEGAfIA5gDeANgA0wDMALcAowCGAGQAQwAcAPL/wf+R/1f/Hv/G/nX+D/6u/TH9u/xF/Nj7YPvo+nn6FfrC+Xb5MPnn+J/4Xfgp+Pv3zPe095H3gPdR9yn3Bffs9uH22vbO9sf2wPbT9vH2NPeA9933QPiu+Dr55Pml+nn7OPzZ/Fr90f1d/vf+jv8HAFoAmgDXAC8BowEhAqICFQOGA+EDQgSHBMwE6QTxBOME1wTABL0ErwS4BK0EmgSDBHwEiwShBMkE0wTNBKIEfARdBDYEDQThA7wDiwNXAyUDCgP3AukC1wLBAqwCoQKZApsCkgKMAn8CfgKEAosCigJ9AmcCUAJCAkQCUwJZAmUCagJ2An8CjAKlAsEC5AL1AvgC7gLmAuQC3wLdAtICvgKqAp4CpwK3AsICxALaAvACCAMMAxwDNwM5AyED+ALdAtECxQKqAooCcAJKAiQCAgL3AegBwwGLAV0BNgEOAdYAnABhABMAyP92/yz/7f6y/oH+RP4G/tT9o/19/VH9M/0T/QD99vwI/QL97fzm/Pj8D/0b/Sb9QP1G/VP9XP13/Yr9o/3T/Qr+Q/5v/qT+3f4Z/1L/b/96/5D/vP/d//L/CAAyAFsAhgCxAPIALgFkAZQBtwHZAQECOQJrAoQChQKAAoMCiAKJAooClwKrAqoCngKGAoMCiQKHAnECUwI/AhoC7AGkAWoBIQHFAFMA5/9y/97+Sf66/S79jfzy+2b77fp4+hr6t/lQ+ff4qvhn+An4tvd09zP38Pa29of2TfYV9uP1vfWK9Wz1YfVs9Wv1iPW09fP1M/Z/9tP2I/ew95H4o/lR+rD6Kvv1+7D8HP1p/fv9ov4P/z7/pP9gACsBrAH7AV8C8gJ9A/ADUQSsBNkE7gQJBSsFJwUOBR0FSgVmBVIFYwWeBc0FyAWlBYgFhAVoBVAFJgUFBfQEyQScBFkEKgQHBOMDygOeA3MDRgMmA/ECnQJQAiMCFgLzAdEBtwGpAYABTQEkARoBKgEzATkBJgEuATYBVgFjAXwBkwGvAcEBvwGyAagBnQGQAWEBPgEmASsBKgEzAUABUgFcAXkBlQGxAbYBxQHVAc8BrAGUAYIBggFlAVMBNQEqAR8BHQEWARAB+wDdALEAkwBzAE4AIQD7/9r/sv+B/0n/HP/t/s7+rf6J/mb+Tf4+/jH+Lv46/kL+WP5t/pL+r/7I/ub+//4S/yX/MP8w/yz/Hv8o/y3/N/8y/zr/Vv95/57/r//A/7r/q/+b/5b/i/92/2P/Wf9U/1b/d/+d/8b/2f/9/xYALgBEAGQAfACBAH0AhACDAIIAjwCVAKEAkwCTAJEAlQCYAJcAkgCCAGUAYgBSAEkAJwD6/9D/lv9b/xb/yv58/hz+uP1K/df8evwX/Lb7VPsF+9L6ovp3+kX6DPrH+YP5UfkX+dn4j/hW+Bv43veZ92r3PvcT9/T22vbd9un2CPc792r3rPfn9z/4wfho+SX6xfpL+8H7Lvyn/Cj9xf1R/qr+6f4o/6D/JgC0AD8BwwE8Ar4CQwPLAz8EfgSjBKoEtgTGBOwEFQUrBSYFEgUJBRwFQQV1BZsFowWHBWMFTQVHBSwFDgXcBLUEfQRUBDUEEATcA44DXwMwAygDEgMNA+gCxgKOAm8CSwIyAh4CDQL5AdkBtwGSAXwBfAGCAXwBYgFRAVUBagFzAXwBhQGHAW0BTgEqARQB/wDrAMoAngBsAFAAUQBWAF8AZABmAHgAhQCoAMIA0gDJAMAAogCTAH0AhgCQAJgAlQCZALAAzQDuABIBPQFXAV8BWgFoAYABjwGJAX4BcwFuAWgBbwFtAWoBWQFWAU8BTQFJAVgBaAF8AYABkgGgAbUBvgHFAc4BxgHGAboBwgHPAeQB7gH2AQECEgIYAi0CVAJ9AoUCcQJhAmICVgI7AhcCAALsAeIB8QEIAisCTwJ2Ao4CoQLLAgEDFQPkAosCYwJyAqcCwQKqAn0COQL8AcYBzwEIAlACRAL7AaABcAFqAWMBWAEhAcEATwDd/4H/GP+5/kT+x/0w/aj8P/z1+6H7Tvv++rL6a/ok+vb50fmp+XX5O/n3+Ln4aPgp+On3rvd69z/3Gfff9rT2nvaf9rD2zPbr9hb3Rvd799v3Xvj8+JP5Cvpr+r36D/uE+wf8nvwR/Wb9of3q/V/+8v6L/xAAfgDkAFcBzAFHAo8CwQK8AswC2wILA0ADaQOAA3QDaANpA4kDwQP+Ay8ETgRNBDYEHAQKBP8D6QPQA64DmwOGA4ADcQNqA0kDLQMAA+wC1QLFAqkCcQJCAhAC9gHfAbsBlAFfASQB9QDVANQAwgCjAHoAZABhAGUAWQBLAC4AFwACAP7/BQD6/+P/xf+u/67/rP+2/7b/sv+z/7P/v//R/9//7//2//n/+P/y/+f/1//N/7r/tf+j/5j/j/+Q/5f/n/+i/5n/kf9+/2r/Xv9P/z//HP/u/sL+mP56/mX+Tv49/hn+Av7w/fT9/P0I/gv+Dv4N/hn+Kv4+/kD+O/40/jL+Nf5O/mz+if6b/pj+qf69/uH+BP8r/1P/dP+K/6b/wP/d/+r/8P/8/wsAIAA5AFkAhwCzAMcA7wASAVMBgwGjAbwB1AHvARYCNwJeAmgCbgJ0AogCoAKwAsACvwK6ApwCjAKDAnwCTQIVAr8BbQEGAZkAMQC5/z7/sv48/sX9S/3N/Fj89/ug+0z7Avu/+nv6M/ru+az5cvks+eP4p/ho+DL47fev94D3VPc29xX3C/cG9x33Mvdj95n34/c/+LP4Qvne+XP67vpa+7n7Mvy+/GD9+/17/tj+Jf9+/wkAsgB0ARMChALXAjMDrgMvBI8EywTPBNAEzgT0BDcFZwV9BWYFXgVWBXAFpwXxBSYGHgYDBtoFywXFBbwFrwWMBWQFRAUyBSwFDwXwBMMEmgR6BFMENgQLBNUDnANVAxcDzQKOAkYCDAK9AW4BFQHXAKwAjwBuAEgAIgD9/+b/1P/F/6r/l/+F/4//kv+Y/4j/hv+O/63/z//p/wEAGgAxAEoAcQCpAN8AAgENARQBCwENAREBKgE/AT8BNwEvATYBTAFiAXIBdgF1AXkBggGBAX8BeAFyAVsBPgEYAfIA0QCvAKIAggBnAEIAPwBFAE4ATABAADgAOQA+AFAAVABQADUAHgAIAAsAFAAzAE8AbgB+AJQAtQDcAPgACQEYATUBSgFmAXUBewFoAVkBUAFeAXkBmAHEAdUB9QERAkACbgKSArYC2gLzAgoDIgM+A00DXwN1A5QDqgPRA/ADJgQ4BEYERwROBEwESgQ5BBkE1QN+AxwDsAI0AqkBEwGDAPn/bv/s/mf+6P1o/d/8aPz6+6X7T/v4+qb6UPr5+aX5VvkO+cn4ePg0+Ob3pvde9yf38PbL9q/2pfaP9of2h/aj9tP2GPeB9wT4jvj7+FL5m/nt+VD61Ppl++j7RPyN/N78VP34/az+Yf/n/14AyABOAd8BbQLUAhMDNANlA7EDFQRoBJ0EqgStBLgE7AQ9BaMF8gUUBhsG/wXtBfgFEwYqBhkG8AXSBc4F2gXlBecF1gW+BZQFcwVQBTkFAQXEBF0EAQSYAz0D7AKbAkgC6wGcAVgBIgHqALIAjwB8AGIAQgARAPP/1v/C/6b/iP9u/1r/X/9h/2j/b/99/5T/nf+h/5//r//B/9T/5P/w/+3/4f/O/8H/tP+u/6f/o/+V/4T/ff95/4j/gP9//3n/ef+E/4j/h/+B/3z/fP90/1//Wv9V/1//Wf9S/07/UP9X/2P/ff+Z/7D/vP+//8T/xf/R/9T/xv+u/4n/ef9c/0z/Qv9M/0//Tv87/0H/Q/9A/zX/Jf8k/xn/B//k/sD+pv6c/qD+sf65/sr+2/7+/ib/VP94/5H/nP+o/7r/yv/a/9v/4f/c/9n/3P/x/xEAOQBMAGQAagB/AI0AmQCYAI8AeQBmACkA6f+b/1z/Ff+y/kH+z/1u/Q/9svxR/Pb7m/tP+wT7xfp4+jj69/nA+YH5RPkP+en4wvil+Hz4V/gk+Pb3zPeo94L3afdW91X3Ufda93T3mvfZ9yj4lvge+Zj5A/pM+qD6+/p7+wX8lfwG/Vv9qv0M/pX+Kv/H/1AA1QBSAc8BVQLcAloDtQPkAwQEMwRzBMAEAwUjBS8FLwVRBZ4FCwZtBrIG1QbaBt8G8QYaBzUHQgchBwkH4wbTBskGyQa6BqMGeAZjBkoGOgYXBu0FrwVZBe8EkQQ4BOgDlgM6A+UCjQJDAgkC2QGxAZgBfgFvAUMBJQEDAfEAyQCiAGoARAAkABgADwAJAAIAAgAQABYAKgBBAFkAZABtAGoAaABSAEUAPAA0ACwAKgAqACwALgBCAFkAdACDAJwAtgDIAOQABgE1AV4BegGTAasBxQHgAfMB+wEGAhMCKQIwAjMCOwJBAkcCQgJFAksCPQI7AiECEQLxAdEBtwGfAYcBewFuAV8BSgE9ATEBJwEWAQoB8gDjAMsAyQCxAJQAZQAzABMA+v/8/wUADwAEAPz/BQAjAEYAXwBjAGUAZAByAIcAmACoAK0ArgClAK4AxQDzAB8BRQFdAXsBlwG/AdUB6gHoAd0BuAGQAVoBIgHRAHgADwCu/0X/3/58/h7+uf1W/er8h/wp/Nb7f/sp+836efor+uz5sfl5+UL5BPnH+JD4afhC+Cb4+ffO96H3hPdu92P3V/dV91f3efet9wj4Y/i4+Ar5RvmI+c/5N/q0+if7efux++r7Ofyf/Cn9rP04/qv+Lv+3/1YA5wB/AfABVQKZAucCTwO3AwsELgRABFUEggTLBCwFhAXaBQMGJgYzBlkGhgarBqYGjAZpBksGNQYfBhAG+QXXBa4FjwWEBYkFigV7BU8FCgXDBH0EPgT+A6sDTAPtApQCRwIKAtQBtAGKAW0BQwE1ASABDAHvAMcAmABYAB4A8v/P/7b/lf+K/37/df9p/3L/gP+f/7D/vf/J/8H/vv+k/47/cv9V/z//K/8i/yr/N/8//z7/Q/9M/1P/UP9M/07/Tf9A/yj/C//p/sv+q/6V/ob+gP6D/oD+iv6g/tD+6P7n/uD+8/4N/xH///7t/uv+5f7T/sT+uP7E/uD+8P75/vL+/v4I/wr/+P7n/uj+1/7K/qD+iP5m/k/+Of4z/jj+Sf5a/nD+ff6Y/q3+0P7n/vv+Cv8S/yD/H/8j/xv/Iv8l/zH/R/9l/4v/m/+q/7b/2f8BACIALQA4ADUAMgAjABAA/v/l/8z/pP93/0T/C//U/oL+Nv7c/Xz9E/2e/EP85vuc+z377fqh+mj6Nfr8+c35lflx+Uj5M/kP+f/44fjD+Kb4g/h1+GT4SPg0+CT4Lvg4+FT4aPis+O34Vfmr+Q36YPqm+ur6KPuK+//7d/zT/CT9bv27/Rb+g/4a/6P/IwCiACcBrQEyArUCNAOaA+EDKQSABNsEJQVSBXkFhgWeBcQF+gVSBp0G1AbiBtUG0gbkBvYGAAftBsUGlwZjBjsGFgbvBccFnwVyBUsFPAU5BTEFDwXXBKMEbAQvBPADqQNfAwADpQJHAgACvQGEAV0BJgH0AL0AkgB0AEwAIwDt/7n/hv9h/0L/Kv8L/+7+0P7H/sX+4/73/hb/Lv9W/3j/nf+x/8D/yv/S/9n/4P/e/93/6f/q//T/+P8LABwAKQAzAEAAVQBkAHYAhwCFAH0AcQByAHMAZABnAGcAfQCQALYA3gAEASMBSwFpAYgBkAGZAYkBZgE9ATEBHwERAfYA8gDtAOoA2QDeANIA0wDTANgA1gDJALYAngCFAGcAVQA7AB8AGAAXACYAKQA2AEIATABNAFoAbwBtAGQARgAxAA8A/v/u//D/5P/v/wQAIQA0AD4AWgB4AJYArwDBANIA1wDUAM4AxAC1AJ4AdwBXAD8AJwAeAAoACwDt/8L/iv9Z/y7/7P6f/kj+7P18/RL9p/xG/OH7fvss+9b6jvpB+hD60fmL+VH5GPnt+LX4dfg8+AH4zPeV93L3WPdI90f3PvdL91L3aPd995b3rffV9wf4O/hj+JT42vgw+Yj52vky+o768fpU+7X7J/yO/PH8Qv2a/f39YP6z/g//av/N/zMAngAUAX8B5gFCAq8CCwN4A8sDIgRbBIwEtgTeBAUFJwVQBWUFegV0BXwFjAWrBboFtgWsBbMFwAXKBbgFtQWtBaQFhAVtBWcFbgVpBVYFPAUnBQ8F8gTUBLgEhQRSBBkE4AOkA18DKwPlAp8CUwIgAv4B0wGnAXwBVQEzAQ4B9QDbALMAlQBhAEUAEwD4/9r/yv+v/6D/of+g/6j/rP+//9P/3//k/+P/5//j/+//7P/z/+H/4P/a/9z/2//g//7/EQAkACkALABAAEUAVgBTAFoAVwBWAFgAXgBpAG4AawBsAGcAZQBZAFUAWABaAFEAPwAsABgABwD1//L/6f/h/9n/3P/h/9v/2P/a/9//1v+//6//n/99/1X/M/8W//j+1v7A/rf+oP5+/lv+TP5H/kr+TP5X/mD+av5x/nL+ef6J/pf+pv6r/rj+vP7K/tT+5/7x/vH+7/7y/vT+6/7g/tH+x/69/rX+r/6y/rf+vf7D/sn+3f7v/u/+3/7O/r/+sv6W/oH+YP5F/iP+Cf7v/df9x/2//bD9mP2B/W39Uv0z/Qv95fy2/Ib8ZPw+/Az81vuk+4X7Wvs7+yT7Efv3+t360PrN+sj6v/q1+qD6kfqG+o76kPqL+oj6j/qc+rL60vr8+ij7TPt/+6P7zPvy+zH8efy8/PD8Lf1n/aP92v0M/lH+kf7Y/iH/bf+6/wAAVACjAP8ASQGeAeYBQQKQAt4CKwNxA7gD7AMjBE8EhQSqBM0E2gTwBAIFHAUnBSIFHAURBRgFFAUQBQQF+ATrBN4E0AS+BLAEoQSaBIcEdARUBEQEMAQkBAQE5APEA7cDpgORA2YDRAMeAwAD5QLNArkCnwKEAmoCWAI7AhsC+wHiAcsBtQGeAYkBdQFlAVEBQgEvAS8BJgEfARcBDgENAQEB8QDgAOAA0wDSAMoAzwDPAM0A0QDQANwA2ADtAP0AGwEgAS0BPAFQAWwBfgGaAakBtAHCAccB1AHHAcEBsAGkAZMBhAF8AW0BXAFIAUIBRQFEAUMBPAE9AT4BOgE3ASwBHAEDAfMA2wDPALYAnACHAGIARgAZAPr/3f/W/8n/yP+0/6v/of+W/57/nP+l/6H/oP+j/6r/rf+m/6b/nf+Z/5P/gv9//2b/XP9I/zb/G//2/uX+0P7P/sH+vf62/qr+lf6B/nH+W/5E/iL+GP4B/t79t/2P/Xj9Yv1B/Sn9FP0E/fL85vze/M38sfyY/IH8c/xg/FP8R/xB/Dj8Lvwn/Bn8FPwK/Bb8HPwx/D38TfxU/Fv8Yfxk/G78efyQ/KX8u/zJ/Nn82Pza/NP80/za/Nr83fza/M/8zfzA/Lz8svyr/Lf8v/zK/MH8x/zM/Nf82/zj/PT8/vwH/Qz9Gf0g/Sv9L/08/UX9Sf1W/WH9eP2G/Zf9mv2w/cH94v37/Rn+PP5c/nD+iP6m/sv+7v4Q/zX/XP+D/6v/1P8FAC0AXACGALwA8QAgAUwBbAGXAbAB1wHqAQ0CKgJIAl4CcAKFAqECwQLnAgQDFwMnAy4DPwNFA1QDYwNrA3UDfwOMA5wDngObA5wDmQOhA6QDoQOVA4YDdwNmA1UDOgMmAxIDAgPvAtUCpQKCAmQCUgJCAisCFgIIAvAB5AHGAa8BjwFyAVoBRwE3ASoBFwEEAesA4ADQAMYAsQCuAKkAsACjAJwAogCkALsAuADEAMMAygDNAMwAygDJAMkAvQC+ALIAtACnAKAAowCbAJQAfwB7AG8AXQBMAEAAQgA0ADAAKwA7ADkAMwAlACsAOQBDAEMAPwBEAEEASQBAAEIAOwA4AC0AJwAZAA8ABgD3//f/6P/i/9j/zP/G/7b/t/+q/5//jf+M/4H/fP9t/2T/Xf9T/0H/Mv8f/wz/8P7f/sb+sv6Z/nj+Zf5L/j3+LP4j/hf+D/7+/eb90/3K/cP9vv2z/av9o/2Z/ZH9f/2A/Xj9ev12/Xj9hP2Q/Y39jP2E/Yj9iv2b/aj9v/3O/eL9+v0C/gf+Bf4M/hT+HP4l/i7+PP5G/kr+T/5H/lj+X/5u/nf+gv6X/qX+rP6m/rP+wf7e/un+9/75/v/+Af8J/w3/DP8N/wr/D/8N/wf/+v7r/tP+yf6u/p3+f/5y/mP+W/5D/jb+IP4U/v/98P3r/ef96f3c/d392/3z/Qn+GP4o/i7+T/5n/or+s/7Y/vn+D/8u/1P/gv+q/87/5v///xUAMwBMAGcAfgCbALIAyADbAPgAEwEoAT4BVgF7AZoBwAHeAfkBCQIfAjYCUwJjAnYChwKhArECuQK9AsICvQK0AqkCpQKhApkCkgKSAowCfQJxAmoCawJYAlACSAJRAkACMgISAgUC7AHgAb8BqAGQAYMBeQFmAUsBLwEbARQBCgEJAf4A/QAAAQYBEwEaATYBQQFSAVwBcQGBAZYBmgGyAb8BzwHdAeYB9QHqAeYB2wHXAdAB2QHOAcwBwQHDAcIBwgGtAaEBiwF7AXIBawFXAUQBMQEfAQ0B7QDYALcAmgB6AGAAQQAjAAMA8//S/67/kv92/13/Qv8h/xX/7P7c/sr+xv6r/o3+ev5z/mL+Qv4n/hr++v3p/dL9xv28/Z39jv1w/Wr9Xv1a/Un9Q/05/T79LP0i/RP9Ff0L/QL99vzw/OT8zfy+/Lj8sPyi/JD8hPx//H38fPx+/ID8gvyB/Ir8kfyg/K78ufzJ/NL84fzq/PP8/vwJ/RX9EP0b/SX9PP07/Tr9Q/1b/Wn9bP1u/Xz9g/19/Y39mf2v/bf9v/3T/eT98v33/fr9/f0H/hL+Gf4b/g7+Df4B/gD+AP4B/gf+CP4H/gn+AP4K/hb+If4n/ib+Lf42/jb+M/47/jf+P/44/j7+Qv5F/kb+S/5H/lD+W/5z/on+l/6t/rv+yP7K/tX+5P7u/vT++f4K/xf/GP8V/xX/HP8g/x3/Gv8W/xX/Ff8M/wz/Bf8V/yX/MP9D/0z/Yf91/4D/i/+K/5P/mv+p/7X/xf/b/+b/9v8IACIANABAAE8AawCDAJYAqgDIAO8ACgEiATwBXQF5AZ8BvwHlAf0BFwItAkcCYAJrAnkCkAKyAtsC5wL8Ag0DNANLA1gDXQNuA34DkQOPA5MDigOTA5sDowOaA48DiAOJA4IDeANqA1sDTQNAAzQDHgMGA+cC2gK/AqcCjQJ4AmgCQAIoAgUC7gHIAa0BmgGCAWABQAEwASQBEAH7APUA8ADkAMoAtACkAJwAlwCUAIoAeQByAGoAaABVAEcAPwAtACwAFgAQAAIA/v/6/+7/1v/F/7P/rv+h/5X/iv96/3L/Zv9i/1X/Sv9C/zD/If8M/wP/9v7n/tn+z/7J/sH+uP6y/rD+q/6l/pj+kP6M/pL+kf6L/or+if6H/oH+iP6M/pL+l/6Z/qv+pP6k/rf+x/7h/ub+8P7t/u3+6/70/gL/Av8S/xH/Hf8d/zH/NP85/zz/Vf9t/3f/eP+N/57/r/+5/77/x//D/9D/0P/U/9L/4P/x//v///8SAA4AEgAQACYAOAA5ADYAPwBKAEoARABNAFkAYgBfAF0AXQBjAGcAYQBZAEwARAA/AEQAPAAyAC0AKgA0AC4AKwAqAC4AMgAyAEMATgBXAFAAWQBaAGAAVgBYAFcAXABlAGwAcgB7AIAAjwCZAKsAugDVAOgA+wAQAR8BLAE3AUEBRQFOAVABXgFlAWsBawFrAXEBgAGSAZwBpQGxAbwBvgHAAb8BzgHTAd8B2gHTAcUB1AHNAcYBsAG/AbABiQFsAaABxwGoAVYBWAGBAXMBKwEPAUgBXQE2AQoBDwEPAeUAuQCvALAAnACAAHwAbgBiAEoAQQA0ACYAHQAdABwAIAAZAB0AFQAVAAcABgAIABQADQACAPj/BwADAP7/6P/j/+L/4P/g/+b/6P/o/+n/4P/g/9r/2P/c/93/5//s/+f/5f/s////CwAXABoAIQAoADAAOQBCAEQARwBCADUAOQBCAE8ASgBMAEoAUgBCADkANAAzAC8AMAAvACUAFgAAAAAA8v/y/9n/0f+y/7T/nf+X/3//c/9r/1j/Sf8z/yT/Cf/0/u3+6v7j/sv+uv6q/p3+jP6E/oP+eP5l/lP+Pf4v/hj+G/4Z/hj+C/4E/vv97f3p/er97/3j/dj92v3g/d393/3e/en93/3b/dn90v3h/eP99P32/fn9Bv4U/iT+Of5M/l3+Zf5l/nf+gf6M/pb+of6s/rH+rf6o/qj+s/7E/sP+xf68/sT+wf7F/sL+xP6+/rf+t/6y/rT+sf66/sL+xv7K/sv+2P7c/u3+5/7w/vH+Af/9/vb+7v74/vr+8f7x/vn+C/8L/xT/KP86/0D/Rf9l/4j/nv+q/7r/zf/b/+r///8WAB8ALQAxADsARABQAFwAXABUAF4AYQBlAGAAagB0AIAAhwCPAJ0AlQCLAJAAogCuAK8AtQDGANAAxgC0AK0AtwC4ALEArACtALUAsQCjAKEAmgCgAKUApgCuAK8AsAC6AL4AwgDCAMMAwwC8ALkAtAC6AK0ArwCnAKAAjACAAH4AgwB9AHcAdgB7AH0AdQBsAGUAZQBgAGQAXQBdAFYATgBLAEkAUABQAFUATABKAEoATgBQAEMARABLAFAATgBAADsAMAAiABkAEQAGAPn/7v/u/+j/3f/a/9f/3P/X/9b/0v/O/8//0//O/8T/wP/H/9X/1f/V/93/4//v//n/AgANAAcAEwAZACUAJgAsADIASABIAFAATQBOAFAAVABOAFcAUgBYAEwARAA4ADMALQAtACsAMwA7ADwASQBGAFEARgBKAEIASQBPAFAAVQBNAFIARgBKAEYAUgBVAFMAVgBZAF0AXABZAFIAVQBKAFEASQA6ADEAIgAdABUABwAIAP3/9//s/+f/3//U/9H/0v/Z/9r/4v/o/+3/7P/x//f/9v/x//T/8v/4//H//f/+/wMA+/8BAPz//v/9/wQA+f/x/+n/5P/l/87/z//N/83/uv+y/6j/r/+h/6D/k/+P/4T/ef91/2r/bv9u/3P/bf9o/2X/Y/9X/1f/U/9O/0P/O/89/zH/IP8J/wf/Af/7/u3+5v7a/tj+0P7M/sD+tv6x/rD+pv6d/p3+l/6N/or+j/6W/pX+h/59/nX+dP50/nn+d/56/n7+gv6D/oD+hP6D/on+jP6d/pb+mf6M/oj+fP58/oL+gP58/nH+gP6N/o3+i/6U/qX+sf6p/q/+sf65/rP+tP67/sH+u/6w/qX+qv6i/qz+sP6u/rL+q/7A/sD+wP69/s/+2P7j/u/+B/8N/wX///4V/x//L/84/0r/TP9O/1v/av9o/2j/cv+L/5H/lP+k/6z/tv+7/87/0f/R/8P/0f/O/8z/yv/Q/9X/y//H/9X/5f/t/+r/7f/x//b/9//1//H/7//6/wEAAwAEAA4AIAAdABcAFgAlADgAUABmAHsAiACOAJYAqADBAM8AzQDLAM4A4ADhANQA0ADIALsArQClAK4AqgCgAIQAeQBtAGEAUQBCADwAMwApACMAJQAJAN//vv/G/93/3v/I/43/Vv8j/yH/JP8i/xr/C/8J/+3+4f7X/tD+v/68/sv+2v7e/tT+1P7T/tb+0P7J/sf+1f7q/vz+Cf8c/yz/K/8p/zP/Rv9c/2v/gf+a/6f/sv+9/8//3P/w////DwAcAC4AQwBLAFQAZQB6AIcAkACSAJsAoACvALcAugC/AMEAzQDCAMUAvQDAAL0AvwDBALEAqgCoALIAoQCXAIgAhgByAFgASQAuACUAEAAKAPX/5P/X/8X/s/+Z/4n/fP90/3T/bf9i/1b/V/9a/1v/Uf9L/0P/Pf9C/0T/Pv8t/yL/Kf82/zf/Kf8S/xD/D/8i/yX/MP86/0H/Rf9J/1b/X/9m/2v/bv9+/4L/jP+U/5f/of+c/7D/tv/L/8T/zf/S/+b/5f/e/9v/5f/9/wgADwAWABoAJgAhAC0ALQAtACoALAA1ADwAOwA2ADkAPwBFAEcAQwBDAEAASgBNAE8ATABLAE8ATABFAD8AOQAvACgAJAAhAB0AFQAUABUAHwAZABQABQADAAUABwAIAA0AEAAOABAAGQAcAB4AJAAsACsAHwAiACgAMgA7AEcAWQBiAGcAXAA5AA8A+v///w8AHwAyAEMAOwAeAPv/7P/h/+P/4f/t//3/BAACAPv/6v/V/8z/zP/Y/9D/z//M/9D/2P/M/9P/wP/K/87/1f/e/+z///8AAPj/6v/0//L/8//y/+v/6P/0/wMAEgACAAEAAAAHABAAGQAcACMALwBDAE4ARQBWAGEAcgBjAGMAcQB+AHUAbAB2AHoAgACAAIQAhgB/AHcAdwB4AIAAigCUAJQAkgCIAIAAcgBuAGMAUgBAADgAOgAzAB0AFgAQAP//5P/P/77/qf+E/4D/dv9e/z7/Kv8Z//b+zP7E/rz+qv6Q/ob+dv5f/lr+Xf5c/jv+Kf4X/gf++f0A/g3+//3u/e798v31/e398/3s/ez99f0K/gz+GP4p/jz+Pv5I/mb+gv6A/on+nv69/tH+5/75/hD/Pv+A/7P/sv+g/67/yf/g/93/9v8YAE4AfQCkALsAsACnAKAAswDPAO4ACQE5AWMBegF1AXcBdgFhATQBGwExAU8BYQFYAVcBUwFmAWIBKwHrAN4AAwEBAccArgDPAOkA2wDJAL0AiQBMAFwAjACSAGUAcAChAJcAXwBHAF4AWQBPAF0AoQDtAFkBkgFXAbYAXABsAIcAewCbAPAAEQHOAJwAoQCzAIUAYwBzAK0A3ADpAOgA5ADtAOIAxwCdAJcAoQCmAKgArQC9AK4AjgBtAFgATwA9ADUAPQBKAFYAWgBoAGoAZABYAFwAVgBOAD8AWQBbAEcANAA6AE8ASgBCAE0AVABLADwAQABHAEoAUwBvAIgAgQB6AH8AjQCBAHgAhgCrALsAtwDBANAA3AC9AKkAqgC1AMEAvADIANAA0wDOAMEAugC3ALEArwDEAM4AzQC1ALoAwAC4AKoAvQDqANoAkgBoAIIAoQCaAIkAlgCiAI0AgQCLAJYAfABMACwAHAARAB8ATQB1AHQAQgAUAAUAGAAvAE0AXQBPACAA4//Q/9j/7f/4/xEAKgAlAA8A9//9/9r/sv+i/9f/GwAuACcAMAAuAPf/oP+O/7//3v/L/8X/5//2/9D/l/+X/7n/3P/8/xwANAAxAC4ANQBAAFcAiwCiAH8AYACGAN0ABgEVAS0BVAFmAXQBegFnAUcBQAGDAcwB5AHEAZYBegFwAXkBmAHMAfUB/AG3AWEBNwFcAa4B9QEvAjICDwLfAbwBlwFSASwBSAGUAegBCgIZAgMCrwEtAcsAywAdAWEBfgF5AW8BYwErAcsAbgBYAGoAdQB/AOYAdAGIAdgADQDT/xgAHQAAACsAkwCyAGYASwCGAMwAxQC/APAALwE2AfIAwQDdACYBOgHtAJ0AngDaAOMAyADvADcBOwH9APkASwGBAWYBRAFMAUsBOwE0ASYBFQESAUUBUAEgAf0AKQFKAREB2gDrABIBywBrAHYAxgD1AOcABwFAAUYB6ABkAEUAewDGANMA6gAsAU0BBgGbAHIAjwCLAG0AhwDRAOIAowByAHAAcABLACMAGwAtAHYAyQANAegAnwBvAHIAbgBmAHwAvADMAKQAUgBQAIsAnAASAF7/H/+D//L/KwBMAGoAWwDg/2j/MP8X//f+F/+Q//z/CgCz/zX/mf4x/iL+cP6i/qf+uP7S/uv+7/7t/r/+OP65/Xv9lf36/Yz+6/7O/lv+8/2z/Yz9df2N/Zr9q/3g/Uf+jP6L/mf+L/7p/bD9pv26/eb9Pv7C/hP/GP/0/vH+SP/U/ygAxP8M/7n+Dv90/5D/1P85AD8AyP9f/3P/qP+T/13/Zf+p//X/DgAvAGIAfQAaAGz/Df9Z/9j/IQBNAJMAegCr/9n+1v5x/7n/o//E/x8AGACu/4j/uf+o/yL/rv6p/ur+IP89/zz/Bf+8/oL+qP4g/7n/CADd/2//CP/N/rL+0v4d/2v/dP9P/xT/8f67/oD+Uf5X/p/+B/9+/+n/TACmAN0AxgAqAGD/4P4K/6b/QQC2AAMBCQGJAKb//v4Q/6P/LwCAANAARgF6AU8B7ACdADsAt/9+/+//wgAyAR0B0QCZAEYA7P/J//7/LgA/AHAA7gBwAYsBNAGoABwA0f/P//T/LQBqAO8AdQEBAlcCRAJxASgAR/9t/1wAVAEfAnYCRgJAAez/5f6S/gL/HQB7AVICVQL3AY4B6gD7/67/hQC+AS0CuQFQAUIBRwHdAB4Ahv+U/yAAqQD3AEkBnwF5AfwApgCwAJYASQBJAOYAhQGfAS4BqQBhAGQAwABCAZUBYwHUAGAAUwBwAIMAngDFANMArwCFAFoA2P9O/0r/EQDsAF4BcQFlAR4BiwANAOH/EQB4AOsARgFnAXABMgGKANb/uP9JALwA3wD4AD4BIwGmACcAAwAKADIAtQBzAcsBdgGhAPb/5P9jACwBvgEAAvABdQG7ABgA5f8NAHMA+QBoAXUBCwGIAPj/tP8nAFwBZQJuArUBFgG+AIIAUwBWAGoAkQDTAP8A/wDUALMAMwBY/8b+Nv9UADIBagFNAfoAXABv/8X+zf6D/1EAvQCxAGoAMgAKAML/RP///jL/uv8NACwAMQAfALv/N//G/r7+If/r/54AwQB3ADAAAQDH/5j/zf8zAIMAswD2ACQB8wCEACcA8f/f/+r/NQC3AD8BegEdAX4AIQBFAIkAsQDBANoA5wDkAOIA6ADuAP4AEgEQAQEB7QDdAKkAeQBdAGoAoADyAD0BNwEEAdQA4gABASYBUwGPAcEBwgF2AQsB1gDiAA8BEgEZATEBPAEbAdoApACmANwAMAFuAY0BpwGqAXEB+gCbAH8AoACsAMEA8gA6ATgB5gB8AEYAQABHAF0AlgDCANcAwAC/AMwA4wDRAI4AYwB3AKcAswDCAPYASAFiAT4BFQHnALcAjACVAOQAPgF1AXoBaAE2AbsAMQD6/ysAZwCWAMUA/wD9ALIATwAGANz/7P8kAFQASgAjAAgA7P+b/zr/Iv9z/8X/2P/G/8L/qv9x/0b/V/97/5n/v//v/wYACwDj/7L/Xf8q/zb/aP+S/6X/wP/M/9f/wv/J/wIAMwAkAPj/7P8OABUAGABYALkA5gDmAN8A1gCfAEAAGgAZADcAQgBeAIoApgCMAGMANQAiAPf/5f/4/0AAgQCuAK0AngB9AE0A6v92/yj/Kv9N/3H/i/+q/7n/tv+y/5H/Yf9I/1P/Zv9b/0v/Xv9z/3X/Yf9T/1P/S/82/yv/Tf+R/8H/v/+P/2L/Sf82/xr//f4I/zb/TP87/xj/CP8O/zf/hv/K/8L/iP9V/0L/QP83/yX/AP/W/rP+kv59/pn+1P4H/xX/Dv/8/sb+jP58/qP+3/4g/0v/Pf/6/rP+gP5c/kr+Zv6m/tP+2P7j/sf+jv4c/u39+v0c/hP+Af4Z/mX+kf6H/lL+Lf4U/gv+G/5Q/on+mP6J/mD+PP4C/uH91P3v/Sv+c/6C/kb+/f3z/Qj+Hf4y/oj+4f75/sD+if5//o3+l/6c/pf+mv6t/tH+7/78/vz+4/65/on+XP4v/vb96/0K/iD+/P20/ZH9mf2f/Wv9E/3G/LH8vfzL/Ln8pPyf/KD8lfx6/If8yPwy/af9H/5//s7+EP9s/+//cgDNAAkBKAE4ATsBTwGOAe4BOgJpAncClgLiAlwD7wNyBOsEVQWvBe4FPAaqBkIHzwdICIgIlAh2CEkIOQhDCEwIRQgvCBgIBAjTB4wHLwflBq0GkgaBBmwGTwYZBvkF6QUGBg0G3QVtBfYEoQRiBCgE1wNvA/wCjwImAssBaQEiAfAA2AC0AI4AaQBpAJQAzAD+AOgAjwAvAPn/AwD8/87/dP8S/77+mf6S/p3+hv5k/kv+SP5r/pT+xv7g/v/+Rf+X/+D/FwBdALgA7ADyANwA6gD5AAAB8wDZAMUApwCTAHkAVQAvABkAIgA6AHAAwQAVAU8BfgGoAc4BzwHBAcUBzQG8AZIBYwFfAUkBJQHUAJkAegB/AIMAigCCAIMAaQBIACEAHQAjAAoA4//A/7T/lP9Z/yL//P7W/pD+Pv75/cP9j/1h/S398vyu/Gv8Ovwe/Bv8NPxI/Fn8R/w0/BD87/u6+2/7C/u0+o36hvps+iz60vmJ+WX5bfmR+bD5tfmw+cn58/kl+j/6Xvpa+kz6O/pH+kz6Hvq/+Wj5Jvn9+NL4p/iA+EP46veH90L3Jfck9xH33vad9l32NvYU9gH2APYD9u31rvV19W71m/X+9dT2Tvgy+vX7Qf32/TT+Nf5s/hb/+/+vAOkApgAvAAAAWgD7AG8BqQHyAYQCQQNBBJEFIAedCOUJygpRC4cLpQvPC/8LRAydDOIM1wyZDF4MOAwEDMoLkAtVC/kKfwr+CZAJYQl7CcMJ+AkKCgYK3wmRCUEJHAkTCfQImQgMCEgHZwZ6BYMEmwOaAqcBrQDO/yr/vP6R/oP+mP64/sH+mf4//uD9pv2h/Zn9aP3+/Hr87vtN+7b6RvoB+sj5dvks+fb43PjQ+Of4K/mC+c/5Ffp3+uf6dvsY/ND8i/0Y/oj+zv4G/xn/N/9X/4D/jv+B/3D/af9z/5z/7f9ZAN0AXwHlAWEC1wJdA/kDmAQfBX8FwgXsBf4FAgYZBjYGTQY2BgQGvQWGBVcFPgUxBTAFJQX8BMMEgQRaBE4EWQRqBHEEewR4BHAESgQIBLwDVQPrAncCBwKAAeYASQDT/4//WP8T/7T+hP6V/sb+zf6N/lf+Wv6Z/sH+mf49/tj9kP1b/RH9w/xn/Bb83fvY+wD8JPwZ/AH8AvwN/Ar8+vsQ/F384PyK/Tb+kf6D/jf+J/5y/hT/mP/c/77/hP9U/03/YP+B/57/oP+t/9v/SQC7ABwBZgGpAfoBTwKkAuoCKwNvA7cDywOiA0kD5AKhAqAC0QLzAtQCjgJxAnMCcgJRAjUCKQIoAjQCVAJ3Am8CRALxAZ0BUgEwAQ0BzgB0ACoA+/+5/zz/rf4c/pn9D/2U/DX8D/z5++v7xfuX+237Qfsn+yz7QftC+yD74Pqc+j/6zvll+QH5kPgD+Hj3A/eJ9hz2pPVN9fT0u/Sb9IL0ZfRV9Fz0YPQ89PXzxvOs873zz/PQ86fzZ/NZ85LzIPQF9Vz2D/jt+br7a/3p/hkA9gC2AZ0CmgNkBMcE2QT5BCcFeAXMBUoGwwYdB3gHLwhlCcYKFAwwDUcOKg+/DxsQahDSEBURLBEdERAR9hCwEDsQzw+CDzoPoQ6wDZ8MtwsEC18KuQkMCYwIEAilBz0H9Qa9BnsGKAbPBYUFHAWLBMYD3QLaAb0Aif9X/hf94vu++sP5+Pht+Aj4zPei94j3hfeI95f3tff39zj4XfhM+C/4Ivga+Bb4DPgd+CT4DPjN95T3fPd794X3kPes9+X3RvjP+Gz5I/ry+uj79vzt/c7+oP9uAE0BJQL5AqoDGQRNBGEEfwSaBK8EtgS+BMsE4wQPBVoFsAX3BUUGpwYSB2EHkAfABwwIZgjACPsIGgkMCd4IqQh2CC4IyAdNB7wGGAZZBYwEygMWA2kC0QFJAc0ASAC//1T/A//R/o3+TP75/av9Q/3T/FH80ftT+9r6Tvqk+fb4aPjq9473Kvfr9rr2jfZW9i72J/Y99mz2oPbZ9hL3Ufe79zv4vvgq+Yn5/vmM+lP7P/wv/bT9s/1n/Wb90/2G/hz/e/+l/8r/CACBAE8BPQIsA/wDxwSwBawGiQcVCFsIhwixCMcIwgjCCNkI5QigCBkIfgcLB8IGpAa0BtQGuwZmBv0F2gXdBcMFbAUGBccEsQSYBHAEMATYA0MDfwKwASYBzwB9ANz/+v4Z/lH9q/z3+1f74PqV+lb6Ivr/+fj55/nM+bn5u/nB+a/5ofmb+Zn5cvkj+db4sPiS+IX4UPgp+AD4/PcS+EL4bvh++Gj4ZviG+BL5zfmI+gr7UvuI+8n7DfxI/GH8XPwx/O/7o/tA+9H6Zvr++Zr5FvmY+D/4HvgJ+Nz3pPdx9zv38fax9pr2s/bD9sj21fYW91T3efeX9+73u/j3+cL7Dv69ABMDhATvBA8FqgXVBhAItAi3CF8I7AehB68HFAimCP0IEQkdCUMJugmPCuMLXQ1+Dv8OFQ9CD50PBRAuECUQ0g9SD6AOCA6qDXQNEQ0yDOIKdglACEEHLAbZBGEDEAIoAZwAYAAuANn/Zf/4/tz++f5D/2f/V//x/lz+tf0z/bz8QPym+9P64vna+P73d/dY93j3mves9633uvcO+K/4nPl1+hH7a/vE+0r86/yU/S/+w/5C/8D/PgDLAFkBxQEAAhsCPgKQAvgCZAPdA4AEWwU3BgYHwweQCFMJDgq8CmULDQyTDAsNVA1kDSINxgxqDA0MnwsfC5IK/AlOCacILgjiB7IHbQcIB6IGNQbhBZEFTgUPBcgEXQTeA10D5gJ4AvsBYgGjALj/vf68/cD8xPvd+gj6Qfl7+Mz3R/fi9qH2c/Zr9lP2WfZk9qD24vYt94/3//dY+Ib4nfiq+Kf4kPiH+Iz4nvip+M74Avkz+Vr5m/n3+Wr63/p9+y382fx2/SX+7v7C/5UAdwFTAikDzgNzBPkEYQWsBf4FQwaEBp0GzAY7BzUIcAk0CuQJ2QguCIsIaQkFChAK5wmKCfQISQj1B/4HBAjABzsHngbrBSoFvASuBN8ErQTiA8oC5gFeAQYBnQADABT/zv1+/Kb7YPtE+8/6IfqV+UD52/gn+Gj38fbV9u/2CvcV9wj35vam9ov2i/bQ9hP3RvdM92P3ovcN+Fb4ifjG+DT5o/nB+bv55Pl3+kL73ftB/HP8ufwj/cv9kf5B/7f/6/8TADQAQQBEADsAUABvAIoAoACrAKgAfgA9AAUA7//f/5z/I/+i/kz+Hf68/ST9V/yj+xj7hfrX+RX5d/j493z30fYH9lL15fSw9HP0CPR38wbzrfJ78l7yf/Lr8njzE/TP9PT1qvfY+Vj82f79AGQCFQOLA14EdwVrBsYGnwY9BsQFUQUNBUMFxwVFBnsGiAbVBoIHlQjaCSwLOQzsDFUNvA07DrgOBQ8lDx4P4g6MDiMO3w11DccMnwtQCucIfQcKBo4EKgPOAZwAsP8o/+z+uf59/k/+WP6Z/gP/hf/2/zEAAwCN/wb/rP5W/gH+af2j/Kf7qPrg+UX56/iF+DX46/fB98D35/dS+N/4gfkb+q76Sfvv+7b8ov26/vD/EQEIAr8CVAPQAz0EiATABOUEBQUUBRsFHwU6BWkFogXZBRoGWgaoBv0GXQfKBy8IjAjWCBIJMwk7CTIJIAkICdMImQg8CM0HNweKBvQFUgWwBOADCQM2Al4BfwCf/97+Rf7D/Un96fyj/HL8Ufw1/Cf8D/zo+6X7T/vw+o76NPrW+Xn5CPmj+EP4+/eu92f3K/f39uf22fb19iH3afe/9y/4r/g5+b75RvrZ+nr7JPzV/JT9T/76/ov/CgCPAPwAVwFxAYQBjAGtAc0B5gH3ARACPAJ3AswCJgOFA9QDHgRlBK8EAgVQBaAFzAXbBd0F4wXxBfAFxAWLBTUF3QRzBAUEmQMuA88ClQKSAqkCkgIZAmsBwgBsADUAKQArAGEAlQB9AOH/B/9R/hL+H/4r/uP9VP2X/O77dvtF+1H7j/vD+7n7Z/vw+r367/pX+6n7n/tm+zb7VPuu+yz8ffyt/KD8hvxa/FL8d/zP/Bv9T/1Z/Wr9if2r/c/94v0D/jX+df7P/iv/k//U//X/DwBdANkASwGOAZgBlAGQAYABbQFnAXQBfQFYAQYB0gDMAOUAxwBxAP7/jP8s/9T+nv6B/l/+Mv7k/Xv99fx6/Bf8w/tX+876Ofqn+Qn5Yfir9/z2Y/bm9W317/Rk9O/znPNf8zPz7fKa8kHyDPID8gXy8PHk8eXxCvIe8kvyq/Jv83n0qfUU9wr5zfvz/scBogPKBKIFtwbsBzkJNwrGCqEKJAqvCakJFAq8CkMLZAsGC4cKYwr4ChYMOA3YDdsNwQ3QDSsOdA6ADkcO4A1PDasMHwyqC0oLoQqNCQQIXAbABD4DmAHI/939A/xt+jH5Wfij99X2+vVW9Sr1XfXG9Sv2X/ZV9gn2w/Wn9dv1K/ZQ9hv2nvU09f70C/Ug9UD1RvU79ST1OvWe9Ur2C/fJ93T4IvnV+a/6sPvc/DX+nf8dAY8CAQRVBYkGbwcgCLAIOgmrCfUJHQo/ClgKYQpICh0K+gnlCcoJjgktCdQIiwhNCA4I1AewB3wHLQfPBpsGjQZ3BjYGzQVSBcIEEQRMA3wCswHUAMf/h/4z/ff7z/q7+av4tvfh9jb2r/Vj9T31KfUj9SH1J/Uh9Sn1JfUz9TD1P/Vd9Y31xPUP9l/2qfbc9hL3W/ex9/n3Pfh/+MT4Eflk+dz5Xvrt+on7IfzR/JT9cv5y/2MAYAFYAksDHQTKBG0FDAaWBvkGKAdEB1EHXwdeB0wHMgcSB/UGwQZ7BikG5QWXBTgFxgRWBOYDfQMUA7cCXQL2AZcBNAHjAG4A9f9l/+j+UP63/RP9g/wN/H775Po5+qL5Jfm3+Hz4g/i++PT48vjM+K34uPj8+HP5C/qO+rL6c/og+hX6hfog+6v7+fsW/A78Ffxh/Ab9zP1v/uX+Zf/m/1UAlgD+AHcB9AEZAkUCmQImA3UDcANfA30DvAPhA+sD+QMGBOoDtQOcA7YD1gO/A2oDJAPwAuYC2ALkAvYC7gKsAjIC0wG1AcwB1gGbAUQB3wCLAEIA7v+1/2f/Ff+q/lP+Gf7n/aj9W/0V/ej8svx1/Df8B/zf+6j7eftU+1H7WPtH+yb79/ra+sX6vfql+or6V/oC+pj5J/nY+Jf4Wfj995z3OPfk9qb2fvZ29nX2d/Zt9mb2ZvZ19o32o/am9rH2y/YF9z33dPe99zP43fiv+cH6Ffys/Y7/4AGRBCUH/gj1CYkKMwsCDLQMNA2EDZMNNQ12DM4LmgvHCwIM4gtfC6EKCQrvCVYK1AoLC8wKagoRCuEJtgmBCTAJsgj+ByEHUAaqBSMFdwRlA+8BWwDn/qf9Vvzd+iP5bffv9dv0SPT787LzTvPq8sLy9vJ18x70tfQY9Tr1TPWI9fn1qfZk9xf4qfgV+Y75GPrG+l/77vts/OX8ZP3l/aH+fP9bAA4BoAEwAtgCiQNeBGEFiAa/B+MIHQpKC24MUg0BDoIO1w4WD0IPWA9NDxYPvA5GDsENOQ2sDAoMUQt7CpsJtwjTB+4GEQY7BXoEsgPbAvsBOQGhACQAnv8M/2L+vf0W/WX8sfv7+lX6mfm5+Mf35/YN9jL1XfSr8xnznvJH8hXyEPIh8kjyhvLR8jzztfM59K70K/W19Vn2Evf09+X41fm2+oL7U/wb/fr91v6o/1cA9wCLARICnAItA9ADUgS3BBcFiwUeBsMGbQcHCKIIJQmsCSAKlQoAC14Lmgu0C70LmgtiCxALwQphCuoJYQnKCCYIcAenBsEFswSoA6YCtQG0ALb/xf7p/Qn9SPyj+yL7rvo++s/5bfn8+KX4UPgV+NX3k/c99972jvZA9vz1v/WQ9Xb1Z/Vw9ZT1ufXx9T32y/aM94z4ufne+t77w/zk/Tf/dgBoASYC7AK7A3EEHgXABWcG3gY5B5kHIgiyCBwJPgk8CSAJBAn0CBYJSglHCdkISQjjB88HugeSB1oHFweuBiEGsAWEBXsFPAWnBPIDXwPjAlECrgEhAasA/v8h/1r+/P3O/Yf9Dv2Z/EH8FPzy+9v7uPuN+2X7Q/s1+0b7ffuv+877yvvQ++f7GfxI/Gj8dPx1/Gj8TfxO/Hb8sfy4/KX8mPy2/Nf86/z4/A39Dv33/Ob85/wG/Qz93fx4/Bj8yPuK+yj7zPqE+jr63Plv+SX5BfnX+J74UPgS+OD3yPfE99P30fe695L3fPd796X32vc0+LH4P/np+av6q/vo/HL+fwD9AnMFXAeeCIAJWQokC+0LlAwZDUIN5gwwDHQLDwv2CuMKhwrKCdEIzgchB/sGGAc/BxcHywaEBl8GZAZ4BocGeAZJBvgFjQVWBUUFLAWyBL0DngKFAY8Aif9q/hP9kfsL+qj4ovfy9nj2EvaZ9S/18vQZ9Yb1Hfar9g33UfeI9+z3pPiP+Y76bfsw/NT8dP0g/sv+aP/Z/ygAaACMALMA4AAhAVoBXgE9ASIBJgFeAboBOgLTAnMDJwT3BNwFwgaYB00I5AhRCasJAQpNCoYKlgp2CisKvwloCRQJvAgvCGYHdwZmBUwENAMkAioBJwAk/y7+Tf2m/Cf8yPt++0H7D/vt+tD6x/rG+sX6pvqB+lf6Lfry+ZH5GPmh+Bz4vfdq90P3GfcS9xP3LPc491H3jvfo9zz4hPjh+FX55vlx+if7FPwn/Sf+Cv/X/8QAsQGbAmgDLQTLBE0FoQXwBSIGRAZFBi8GBwbVBaIFfgVZBUsFOgUnBQoF5gTTBMMEuwSyBJUEawQ9BAwEzgOBA0EDBAO3AlIC+QG0AVkB2ABBAJ//7f4w/nn9xvwX/Fz7t/oU+nj59/ic+E74C/jb97/3u/fB9+D3FPg5+Hn4vfge+Wf5uPkS+nj63/o/+8D7MPyv/Bz9iv3g/TL+fv7K/g7/Uv+J/7P/xv/3/yoAdADdAJQBhwJnAxgEtgRcBfIFhAYpB+kHfQifCF0I+QecB2EHLQf7BsUGZQasBbEEwAMcA58CDwJZAYoAsP+6/uX9WP0a/dH8Ufy/+2H7Svs3+yH7CvsX+xn78/q5+p/6sfqS+if6pvli+Vr5O/kE+cr4vPi9+LX4x/gm+cL5R/pu+m/6nfoZ+6/7OfzD/Fz98f1a/sH+Rf8IALkAJgFMAWgBoAHSAeYB4gHaAcUBdAEWAcMAnwB3AEEADgDl/9H/zf/P/9j/5v/b/67/aP82/z//N/8M/6H+L/68/VH98fyS/Dr8z/s5+376w/lF+en4c/ja90f3zvZG9rf1VvU69RL1zPSc9Jn0sfS39Nf0I/WE9Qr2xPa798v4Evqu+8v9PQCpAuAEngb5BwQJ3wmtCmYLFgx7DHcMGQyiC0wLEwv1CtIKkAoMCmcJ2giwCOwISgmDCXsJXglPCUAJHQn7COoI4QiiCEEI2gekB3MHBgc9BioFBgTTApEBQwDi/m790fsd+o74YPeO9uL1PPWh9C707vPT8/7zY/Tb9DL1SfVm9cL1dvZ193b4eflV+jP7+fu+/JP9dv5K/+b/PwCSAP8AjgH/AUoCWAJPAj0COAJdArgCOQPrA6EEfgVLBjgHHAj+CK4JLwqYCvkKUwucC9kLCAwRDOILnwtbCxILmArmCR4JUwhvB2oGQgUgBOoCqgFSAA7/6/38/C38evvM+ij6mvk4+fD43vjj+Pj49fjd+OP48PgC+dX4nvhp+DH46/eb93D3aPdt93H3dveB95L3nfev98P38fcy+In48fh1+RX61fqy+5/8mf2a/qz/vAC9AbkCrgOsBH0FNQbEBkQHlgfMB+gH8wfxB/AH4AezB18HEwfbBqcGXwYhBuAFmwVABeoElARABNsDegMlA9UClgJgAiwC7gGwAWYBFAGwAEUAxP8T/0z+k/3d/CX8bPu6+gz6RPmN+Ov3bPfy9ov2U/YY9uX1qPWe9ar13PUd9mX2o/bq9lX34Pd4+BX50fmT+kf76/uO/ED96v2F/hj/mv8QAHEAzgAuAXoBwQHyAWQCDQPsA6kESwXeBYMGDgeIBw8IzwhvCbgJoAl/CYIJpAnOCdQJyQmBCf4IQwikBzgH7gZnBo4FhQSHA4cCkgGuAPr/Rf9d/ln9hPwV/Nz7n/tO+/36uPp4+kT6Qvpb+mT6Evqj+VP5UPll+Wj5UPk4+TL5L/lA+Xb56vli+qL6p/ql+tv6RvvD+zr8tPwp/Z39Bv6U/lP/LADgAFEBmQH+AXsCDAN4A7gD3APbA88DuAO8A9YD4gPLA5wDbwNvA3QDiwOOA4gDWgMOA8oCqgKqAo8CXAL9Aa8BYgEkAeQAnQBCAM3/K/9+/sz9Mf2T/OL7GvtH+nX5uvgL+Hr3/faK9gj2gfX79Jr0V/Qf9OrztvOc843zkvOl8/zzlvRa9Tv2Yfcf+WT7zv3s/5sB7gIUBBEFIgY3B1gIHglyCXUJWwloCZMJ1gkHCg8KwwlJCdsIwgj/CFgJgAlfCf8IrAhoCEgIOQhACEgIMgj/B+gH+QcpCCAI2QdQB50GyAXpBAgEMgMmAsYAI/+R/Uj8WvuP+tf5Gvl6+PT3nPdj90T3J/cC98z2jfZv9qX2K/fe94L4MfnX+Yr6QPsZ/B79KP4H/7H/RQDSAHMBCAJ6AqUCjgJaAicCDgIyAn4C9gJYA8kDMQS6BE4F+AWgBiQHfAe/Bx4IhggHCXsJ5QkiCksKbQqhCsIK1wrRCr4KbQrpCToJewipB7gGqAV+BD4DCwLoAN3/9v4e/mn9q/z4+3P7M/sS++X6rfqF+nH6Tvok+gz6DPoR+gH68fn0+R76R/p9+qj60/rO+qT6dfpa+k76NvoM+ur50vnD+dP5A/pb+sD6Mvu5+1P8Af3W/bP+pv97AEQBCALJAn4DIQSyBEUF0gVUBrYGBwdXB6QH1wfXB7gHlQdbBwcHlQYlBqkFGwV7BNsDTwPNAmcCGgLiAbQBnQGTAZgBgwF1AVkBNgH7ALsAhQA8AOn/kf8//9H+Ov6k/SX9svwu/LP7Ofu++if6ovky+fL4pvhp+CH4+Pfu9yL4d/jd+Er5xvlN+tP6Y/sZ/NX8hv0a/qD+Lv+2/yoAkwDqAEsBnQHkARgCdgIDA5EDCwR0BPUESAVNBRMFMwWSBRkGRgZDBhsG8QXYBd8FCAY5BlQGPAbnBX0FNAUcBQAFqAQpBJ0D9wI1AnAB7gCOACEAc/+8/h7+qP1A/dH8c/wP/Kn7FPuY+lf6W/pf+i36/Pnn+Qv6M/p1+tD6QfuU+9T7EPx6/PT8ef3U/QL+F/41/nj+vf4N/03/jv+t/6//wf/v/ykATABIADoAHwACAPr/+f/0/8v/kP9Z/y//Jf8x/1b/Wv9U/zL/Lv8x/0b/XP9X/zP/8/67/qb+lv6N/nX+Yf5E/iT+D/4C/gP+Av4A/uP9x/2b/X79V/0g/db8ePwJ/KL7RPsQ+9n6lvpG+uP5mflJ+Rb54Pi6+ID4Qfjx96v3ePdd9033Nvcw9zb3effi94P4WPmE+hX8F/41ACkCuAMCBSAGIQf9B90IzgmtCkILiAukC8kL+AsvDFwMTAzYCxQLSwq0CWAJJAnnCIUI3AcFBx8GZQXuBJ4EZgQjBOIDqwOZA6cDugO0A28D2wIKAi0BfADh/0D/YP5Y/UX8TvuL+vv5gfkL+Xj46/dW9+72qfac9ov2Vvbp9Y31aPWa9Q72uvaW93f4Wfkv+in7Tfyi/fX+PQBNAUoCMAMTBOIEmwUcBmcGdQZ1BoUGxwYeB4IHyQf1BwgIAgj8B98Hyge2B5oHcgdFBzMHVweDB6YHqAehB5kHlwewB9kH7wfPB3AHAAdxBtkFFQVEBEoDPwIgARQAHf8x/lv9gPy3+8/66vkW+W/47feC9xf3svZT9g727PXn9Qz2R/ae9v72b/f395X4NfnZ+Wj66fpC+4j7xPv/+yr8WPyQ/MH87fwP/UD9hv3H/Qb+Rv6M/uX+Sf/O/1QA1gBYAdYBWwLRAlMD4AORBD4F9AWaBj4H2AddCNMIIwllCYUJigl5CT4JBAmxCFoI6AdkB9cGOAaYBfsEcATyA2sD4QJFAqAB/gBnANj/Sv+9/kf+5f15/R39zvye/Gf8Jvzb+5r7SPsP+9P6qfpj+hr61PmU+UL59/i2+Iz4Vfgu+Br4Hfgw+Eb4dvif+Mr4/fhT+aT5AvpP+s36WPsM/NH8sf2j/or/bwBIARoC1QKDAzMEEwXsBZAG6wYVB1QHegeGB3kHhAeMB3gHPQcXBwkHHQckBxoH4QaKBhIGqgVZBRsF/ATDBHcEEASyA20DNAMFA9cClQIqAqQBKQHSAHoADQCF//D+V/6t/RL9jvw2/Nr7efvt+of6S/o9+iz6H/oM+gz66fnG+cD56/ks+ln6cvqM+qz68/pI+7D7C/xh/K788/wn/Vn9nf3Q/QL+CP4L/gb+Gf46/l7+ff6n/r3+y/7N/uz+Df84/1r/jP+0/9H/9f8dAEcAYwB+AKYA0QDvAB0BMwFQAU4BTAEpAesAjwA6AMn/W//H/kD+u/01/az8FPyN+xb7rfo4+rz5O/nA+E745feF9zX34PaU9kr2B/bw9fn1KfZf9sH2Zvde+Jz56/pH/Ij9rv6o/3gAQwEnAjcDLwQDBZ0FPQbYBoYHLAjCCCIJVAlQCT4JKAk6CW0JrgnWCcsJlgk+CecInQhrCDwIGAj+BwkIKQhnCKUIxwjECIwIQQjpB6AHawc1B+oGgQYNBokFDAWSBCYEtQMjA3ACpgHlADgAqf8K/03+eP2p/Nz7F/tn+vP5p/lv+Tf5FfkC+Rv5QfmO+er5Vfq7+if7lPsT/J38Hf2M/d/9Kv56/tL+M/+W/xEAfgDZABoBRwFzAY4BnwGqAa4BrgG2AdcBAAI3AnACnALXAgsDVwONA9sDNwS0BCUFiwXfBSgGagabBskG1AbgBuMG8wbnBuUG3wbaBrwGgAYnBsEFVgX2BJAEJASlAx8DhwLzAW8B9wB1AP7/kv8y/8P+Wv4N/sz9lv1T/Q/90/yM/Fb8IPzj+6T7Zvsv+wD7y/qc+nH6TPox+iT6J/on+iP6LPo/+lX6Vvph+nr6nPq6+tn6Afsy+377yvsd/Gn8x/wr/Y395/1T/sP+Lf+a/xYAlAAIAWQBvgEIAlcCsAICA04DkQPOAxUEOwRZBG8EhQSUBJIEgwRwBGsEWgQ8BBAE/QPfA70DfgNLAyYDBwPSAowCUgIXAtEBdQEXAdAAiAA2ANH/dv8i/+T+r/5z/jb+D/7t/dT9sf2h/aj9xf3T/d794v32/QX+Gv4t/mP+kP60/sf++P46/2v/kv+4/+f/HQBTAI8AxwD8ADMBZgGRAbMB7QEGAi0CQwJ7ApsCuwLUAvAC+QL2AvkC/wIJAwcDAwP1AtwCsgKOAmcCWgJRAjICEQLjAcIBmgF9AV4BTgEsAQoBzQCOAFkANwARAM3/if9L/w3/zP6U/mT+JP7T/Yf9Vv0w/RL98vzX/LP8kfx6/Gv8afxs/Hb8gfyB/IL8ivyi/M789PwQ/Sz9Sv1r/Yv9pf3E/eL9BP4h/jz+X/6F/rP+0f4A/yT/TP9Z/3H/iP+g/7b/1f8GACIAJwAlACUAJgAOAAAA6P/Q/6X/cf9F/wr/1f6T/lX+B/68/W39HP3C/Gn8IfzP+377KPve+o/6Ovrt+ab5ZfkW+d34s/iQ+Gr4TPhS+GT4lfjR+C75lPkS+pP6I/um+yD8nPwl/br9bf4e/9b/hAAhAbQBLQKiAisDtQNHBL4ELQWOBegFRwbBBkMHpgfcB+cH5gfUB8AHuAfMB+IH8AfuB+sH3AfFB6sHmAd2B0gHEgf2BvMG7gbdBr4GmgZwBjcG+AW/BZEFZQUzBeMElAROBCcE9wO9A3ADGQOkAiACoAEyAcEAWgD//7L/Uv/k/nr+Hv7E/XL9Mv3z/Lf8fPxT/DX8Dvzt+8f7oft8+2v7aftl+1n7YPtp+4P7kfuy++j7Kfxr/KX84vwV/Vv9lP3e/Q3+Of5U/ob+vP73/jH/av+i/8//7f8TADEARwBhAHsAlACfALIAywDoAPgADQEkATUBMwE+AUsBVgFqAYABnwGzAcABwAG+AZ0BhgFsAVEBNQESAfIAxACVAHAAOgD4/7z/hP9R/wz/wv6R/kf+BP6y/YH9Sv0o/fz85vzL/ML8wfzB/MH8yPzh/Pz8Gf07/VT9cP16/Y/9pf2+/d79AP4P/iH+Nf5h/oX+n/7L/vn+KP8//2L/gP+p/8j/7f8RACkAPQBUAHcAjgCmALIAuwDMAN0A5QDwAO4A/gD0ANsAtQCVAGgAOQAEANX/rf+F/2j/XP9K/z3/K/8b/xT/DP8C///+9v74/vr++P7u/t3+yf7J/r7+sP6c/of+eP5r/m/+hf6S/qn+t/7e/vn+Hf9C/2P/fv+f/9D/AQA4AHAAsgDkAAMBLQFXAX4BigGgAbIBxQHSAdQB0QHKAb8BugGmAYwBbQFTAUIBJgEQAfAAzgC8AKYAmQB3AFsALQAAAMn/p/+N/3v/a/9U/0n/Mv8j/xD/Af/t/tf+w/6p/ov+df5Y/kH+Kv4f/g/+7v3Q/bb9o/2M/W79af1X/UD9J/0f/SD9IP0Z/Q/9Cv0J/R79O/1R/Wz9if2o/dD99P0v/mL+kf62/sr+2P7X/tb+0/7W/sv+r/59/kD+AP67/XH9IP3H/HD8Ifzh+5b7TvsG+9P6mPpd+jj6E/rz+bz5i/lY+Sr5/fjT+KX4cPhK+Cj4GfgE+BL4OfiC+Or4a/kV+sj6k/tS/An9qP1G/uL+qf+BAHsBbgJaAyUE3gSBBRYGsgZBB9UHUAjBCCQJhgnZCTIKkArfCgIL5AqZCkMK8gm4CZwJkAmGCXwJawlZCTwJDAnYCJwIYwgjCOsHuwenB6IHhQdTB/kGngZGBvoFuAVvBS4F2gSABBsEvwN0AxEDowIVAnoBzgAiAH//9f5u/vT9gP0R/a78UPwJ/K77a/sc++n6tvqJ+m/6T/o2+g36+fn1+RT6Rvp/+rz6AvtQ+537/fti/Mr8Ov2t/ST+gP7N/iX/mP8KAGAArADxADQBgAHPATAChwLXAigDawOmA8ED3wP9AxYEGAQUBCUEPARnBHgEngS5BM8E2gTuBPoEDQUbBTsFVwVbBUQFJgUCBdcEoQRuBCsE4QOcA2oDNwPkApcCVgIZAssBZgEHAbQATAD0/4//LP+n/kj+8P2//Xn9Rv0T/fX83/zl/PX8Cf0V/S/9Pv1g/X/9sv3R/fv9Fv41/lL+eP66/vv+UP+c/+7/KgBnAKAA0gDpAPkACAEQARwBJwFFAVABWAFlAXABfAF+AZgBtAHAAb8BtgHEAckB4AHsAfQB6gHmAd0B2QHKAcEB1QHiAekB3gHmAe4B6gHYAb8BrgGCAU8BIQEEAeEAwACYAHMATwA2ACwAMAAtADgAQgBbAGIAeQCBAIkAgwCBAIwAjwClAK8AxQDTAO8AGAFCAXIBnAHEAeIB8QEEAh0CRwKBAqwCxgLCAqYCigJhAlMCRAJGAjcCOAIkAhcC9AHdAcsBpwGIAUkBAAGyAHIANQDy/6b/Z/8u//f+wv6W/mP+Ff7F/Xr9Rv0c/ff80Pyf/G/8Rfwm/O37yPuq+637pvuk+6371vsF/DP8Tvxt/If8rfzJ/O38BP0e/Tb9Tv1y/aX93/0e/lr+mP7S/gX/Of98/77/9f8vAGgAmwC/ANYACQEsAUIBSgFQAVUBSQE+ASAB+ADKAKAAbAAeALX/S/+8/jD+pP0u/bj8PvzX+377Gvuz+kL62fl++Sr55/id+Fr4FfjQ9433Z/dF9zH3Gfce9zP3Z/ev9yL4wPiG+XH6e/uS/Kb9m/56/1EAKwEWAgsDGQQnBSMG+wa3B1YI5wiBCRwKuQo9C68LEgxsDMoMHQ1iDX4Ndw0vDb8MPQzRC3ELJAviCqwKeQpACgMKvwl6CSYJwQhFCNEHbgclB98GowZqBhIGjgUEBaAEawRLBDEEBgTOA4sDVwMwAwADxgJyAvsBWAGYAPT/a////pb+Nf7Y/Wz9A/2q/HX8XfxF/Dv8KPwg/Cf8R/x6/Jr8qvy4/NL8Dv1t/eT9av74/nz//P9tAPIAkQExAsICPAOiA/UDMARmBKIEzgTtBPUE/wQLBSkFSQWBBbgF6gX5BfQF7wXoBegF1gXIBakFhQVcBUUFOwUwBSUFDAX2BN4EywTRBOEE/gQEBQMF7ATUBKUEYgQjBNsDnANDA+wClQJCAv0BuQFvARoBwgBpAAcAk/8g/7n+Wf7w/YD9D/2l/Dj81/t6+zT7+frT+sn6z/ro+gz7Pfty+6L7zPsO/E38nfzm/CT9XP2X/eX9Lf53/qv++v5O/53/6P8kAGAAjwC2AOMADQEpATMBOwFDAVEBYQF1AY8BlwGnAa0B0QHxASACTwJ/ArAC4wIXA0ADUQNMA0IDQgM0AzMDLQM8A0UDRQNAAzIDJAMMA/ICzgKwApACbAJJAh0C6wG9AYABRwH9ALUAZwAiAOH/n/9W/xb/4P64/pT+fv5y/mP+R/4j/vP9xP2e/Yz9jf2e/bD9yv3n/e799v33/fn9Cf4T/jT+S/5j/nL+l/68/tn+6f70/gX/Ev8W/xv/Mf9V/4X/q//R/+X/CgAjAD8AQwBCAEUARABAAEIAUABiAGwAbwB2AIIAiwCKAIoAggB8AGYAUQBJAEoATQA5AB0A6/+5/4r/c/9x/2r/Uf8t/wj/8v7W/sT+s/6i/oX+Wf42/gr+7v3T/cX9sf2I/Wj9Xf1T/U79Qf05/TP9Ff3//OX80Py4/JP8ZPwa/MP7bPsQ+676QfrT+WL5Cvm4+IP4Ufgr+BL48/fc9733sPen96T3ofek97H3zvfz9yD4WfiP+ND4GfmK+ST66/rP++f8HP5z/8wAFgJLA2YEZQVpBm8HfwiDCXsKZAskDMAMOA2qDRUOaw64DvkOHg8kDxEPBg8HD/gOwQ49DoMNlAyPC4wKmQnMCAIIQweABtAFJwWHBNoDLgOEAuABSAHLAHEAPQAWAMv/bf/2/on+If7f/c/91P3S/cD9tv25/bX9x/3T/c79jf0n/bH8T/z/+877xfu5+6v7g/tk+2X7i/vU+yH8dvzO/Dr9tf09/sT+QP+u/xEAagDRAD8ByQFrAhwDzANkBPwEjwUyBtYGeQcSCI0I3wgDCRkJJQkqCRAJ2giXCEkI/wewB28HKAfqBpwGQgbWBWgFCgWrBD8E0gNwAwwDpQJAAuwBnQFAAeEAmwBeADEAJgA6AFoAbABtAGAANwAAAL7/lf9e/xz/zv6L/kf+D/7V/an9dP07/fj8wfyW/Hv8aPxV/E78Rvw2/BH8/fvv+wL8B/wW/DD8bvy2/A/9ev0B/pH+Ff+P/w0AjAASAZUBEAKAAtwCLwN8A78D/AM0BG8EogTXBAQFMAVPBW4FjAWlBaQFkAV7BWoFUgUrBfoExQSCBDIE5wOcA3QDRgMhA/MCywKxApgCjAJ9AnQCVwIpAvsB1gGzAZABYgFBAREB3gClAH8AVwArAPn/zv+u/4z/VP8i//r+6P7M/q7+hP5j/jr+DP7e/bj9pP2R/Zn9ov29/dX98v0U/i/+Rf5h/oL+qP7H/un+Hv9o/7P/AAA3AH0AqQDOAOYAAwEnAV4BnQHbAQACHQIkAj8CQAI+AjUCLAIeAgoC8QHrAecB5wHaAdoB3AHlAd8B0gG0AZ4BgQFxAV4BWwFgAV0BYwFTATQB8gDDAJgAgwBYACgAAADw/73/gP85/wH/1v6W/lb+Hv7x/cz9pv2M/WH9Tv1B/Uv9Tv1H/Un9Wf1m/WX9Yv1v/X39gv2W/a/9zP3U/cv9wv2x/af9nv2S/XP9RP0Z/e/8uPxl/Ab8o/s8+8f6YfoA+rn5dflO+SX5BvnX+LD4lfh6+Fn4Pfgq+Cb4Ivgq+C34QfhT+HL4kvjN+CL5mPlH+iL7P/yF/ef+VwC3Af4CHwQyBU0GbAeOCKQJrAqXC0oM0gw8DZIN8w1IDpkO0g70DgYPAg/yDtIOog5GDq4N0wzQC6gKdAlCCDUHTAZeBXYEigO6AuwBIQFUAJv/+P5y/g3+1/29/az9gf01/cP8S/zy+8P7yPvT++b75/v6+wj8Ivw8/F/8bPxb/Bn82vuR+2j7TPtO+1b7Tfss+xH7Cfsn+2z70/tY/N78cP0K/r3+ef8pAM4AaAHtAXsCDAO3A1wE/wSaBTIGswYnB6UHPAjNCEwJpgnnCf8JAAr1Cd4JtAlmCQUJlwgYCJAHDwecBjsGyAVRBdkEXQTvA4oDLAPNAmgCAgKKAQsBewAIAI//B/+G/hb+2f2m/ZD9if2W/X/9Yf01/Q396vzL/L78tPyF/ET8Avzf+777m/tt+0T7KfsL+//6Avsf+1D7jvu3++D7/vsi/ET8bPys/Pb8Pv2M/ev9Y/7n/nb/JADOAG4BAAKkAlgDAQSNBBIFigXiBQoGKgY6Bk8GTwZABikG+gXRBZIFZAUiBfIEsQRxBCwE4AOcA1MDAAOmAkEC2gFkAesAewAbAMP/dv8p/+z+qP53/l3+T/42/ij+E/7//dv9u/2l/Y/9Z/1D/Rf96Pyq/Hr8ZfxT/Dv8GfwE/Af8A/wI/Br8Pvxs/JH8t/zs/BL9Rf1n/Z/92v0g/nH+z/4s/4n/5v9CAJcA1AAQAVYBtAERAl4CpQLQAuwC+wIMAyIDJgMfAxUD/wLnArsCkQJoAkwCGgLpAbIBkgFiASEB0ACJAEEAAwDI/6H/hf94/2j/Sv8l//r+zP6r/p3+mv6V/p3+qv68/rb+rv6e/nv+Uf48/jf+FP70/eT93f3V/bT9o/2A/WH9Rf0e/fz81/y8/JD8dvx1/H38Y/xS/Gb8dfyB/Jr8zPzh/N38AP1E/WP9cP2f/eb9Cf4L/hb+Jv4H/tz9wP2u/Yr9Ov3o/JL8Ovzn+5P7KPuu+jn6zPlw+Qj5uvh7+EX47veX9z33APfE9qf2evZQ9i/2MPYw9iH2J/Zb9rX2KPfd9+j4Fvph+8b8SP68/wwBUAKTA/UEWAbCBxoJUwpbCx8MngwCDUcNnQ3tDUQOaQ58Dp4OvQ6NDiIOrw1aDawMiQtMCjEJAQiwBmUFdgR1A0oCFAE0AH//sv7g/U391/xl/Ab8/Psz/FL8R/w1/Bj88fuy+6T7wfsG/E78evyY/ML8Ef1a/Xn9iv26/cD9hv1A/T39bP1j/TD9Jv1E/Uz9Lv0i/W392v1F/rH+Tf8IAL0AUwEDAtYCpANEBMoEZgUcBs4GYQfcB1EIyAgqCWcJrgkLCocKygraCsMKogpyCikK0wllCeMIOwhzB4kGnQXGBAAELANVAn0ByAASAG//4/5z/hP+mv0R/YL8APyO+zP73fqP+kv6G/r1+db51fn7+TH6SPpZ+mj6mfrM+gj7RfuA+7370vvH+7j7ufvB+6z7nvus+8b7xfvL++v7Lvx5/LL88fw6/Z79+P1D/pP+KP+t/xAAWADiAIUBAwKAAhwDzQM8BJQEDQWkBR8GcAaaBrsGuAacBmgGNgYPBtkFhAUJBYwEJAS9A1MD3gJ8AiwCxgFLAcoAgAA3AMX/Q//q/qj+N/6o/V/9Uv01/df8k/yF/JD8dfxx/Jz80/zu/Av9PP1k/YH9uP0e/lP+S/48/kz+X/5k/nz+qP6v/qD+pP7S/u/+BP8v/3P/uP/2/00AnQDTAP8AUwG+AQ8CVAKqAiMDbgOFA44DsgPpAwsEMARmBJEEpQSeBIoEagQvBO8DrgN2AzkD5gJ+AgQCkQEmAbQAPwDP/3b/MP/c/nP+A/7E/YH9Q/0E/fr87vzS/Kv8sfyr/Iz8bfx9/JX8pvzR/BP9VP19/bb99v0k/kX+e/6j/sP+2/4P/zP/PP9H/17/bP9j/1v/WP9U/0n/Xf9q/27/XP9c/13/VP89/z7/RP8+/yf/Jf8s/xv//P7r/uz+4P7I/tL+4f7R/pb+Yv5D/hf+u/1a/fr8ofw5/ND7X/v5+nj6A/qY+Tz54/iR+Ez4B/iy91j3FffQ9oT2MPbz9b31i/Vj9Un1M/Un9UT1i/UI9t/2E/iI+RL7xvyw/pAAOQLaA40FSgfnCG8K8Qs/DUcO/Q59D+0PURDNEBwRQRFKEWARbhFSERMRtBBHEJwPrQ55DSoMygpBCb0HTAb7BIoDCwK1AIL/S/4N/R38YfvV+mr6Q/o2+iL6EPod+g/62Pms+aL5qfnI+Rn6lvrq+h/7cfvl+z38efzc/Ev9cv1N/Ub9cf2K/Xv9sv0W/kn+O/5S/qD+4P4Q/4n/UAAcAdEBrgKPA3UEUwUoBv4Gugd+CBgJkgn+CXYK1QoPCzsLbAuWC78L7gsBDPcLvgtjC94KUAq8CQ4JPAhpB4EGXgUYBAEDAQLvAMD/vP7U/e78+vs1+676QPq7+Tb51PiM+Bj4rvd194n3gPds9373zPch+Gv40vhA+bX5I/qi+gn7fPsD/K78OP2k/eL9Fv4//nb+rf7y/kr/h/+c/7L/CwCHANUALgGXAR0CagK0AhgDmgMTBI8E7wQ5BXEFywUnBn4Guwb6BjgHeAesB9QH8QcbCBgI8AejB1oH7wZZBrkFJwVnBHMDbgKNAa0Ayf/6/k3+uv0b/Xz84vta++/6ovpc+hH60vmt+Z75jfl7+X/5mPm4+eb5L/qU+vX6XfvJ+1T82vxo/dj9Of6Y/hz/lP/l/wQAQQB7AJsAmQC1AAkBQwFXAVQBgAG0AfIBLwKFAucCYgPfA1YEwQQyBakF+wUoBmQGtAb4BhoHNQdOB1IHPAchB+sGjgYiBpwFCAViBL8DDgMtAjsBUwBl/2X+cP2N/Kr7zvok+pH5DvmS+Gb4Ufgy+CT4V/i2+AH5Sfm3+Tv6wvo0+977k/xU/ff9q/5s/zIA4wB7AQ4CoAI9A7cDAwQ/BKAE8AQHBeYE3wTgBLMEUgQVBOgDvANrAxoDygKDAkoCJwLYAXsBJwH4ALQAXQABALf/af8P/67+WP4X/tf9df0c/c/8n/xR/Pb7rvts+w37nvo3+rj5JfmQ+A/4hvf99pL2L/a29UL1/fTK9IT0QvQZ9An0+PPr88Xzm/Ob89TzF/Re9NP0kPV49nv34PjS+kn9AQC0AjMFmQflCewLlQ0jD74QHxIbE8ATKhQ/FBgU5xOgEzUTxRJ8EhsSXRF7EJgPjA4eDXQLvgngB8cFbgPzAGP+3vt9+Vz3mfVL9EjzivIG8sTxjPF08aTxK/Ll8tDz5vTd9Yr2B/eo90z44Phr+S76DvvL+0r8x/yF/V/++/5z/yIAMAHyAVgCrgJfAwcEbQTGBGMFCgZ/BucGgwddCEIJEQrfCrgLtQyqDXwOIQ+SD+AP8g/lD6QPUA+0Dt0Nsgw3C5QJvgfuBTQEnQL2AEn/mf3y+yn6bPgK9/H19fT58zLzi/L68XLxMPE48X3x5PFc8gfzD/Rc9av2+veX+XL7MP2q/hkAiQGqAnkDKgTYBF0FyAUTBloGjwbMBucG2AazBsMGyga1BpAGlAaiBm8GGAbVBcIFqAVnBREFygSkBFoEFgQGBDsEYwRDBBEE6wOeAxoDgAL0AU4BjgCW/2r+D/3I+436U/kL+BH3TfaQ9eL0bvQ+9BH09/Me9Jf0NPXe9bP2svem+JH5cPqY+/r8a/7Y/zsBrQIpBJ8FAwcwCCgJBgrXCnoL0wvrC+ALrQtZC94KMgpfCXsIjgeHBmcFUQRbA4UCqAHcACsAnv8X/53+Qf4P/sH9Rf3G/Hf8R/wJ/Mv7ufvE+9X7zPu2+8f7Dfxm/JX8wfwg/aT9Cf4w/l3+jf65/tD+2f4A/1//8P90ALoA+wBTAa4BEgKzAoEDNASzBCoFmwXQBckF0gXjBf8F9wXZBZoFLQWXBNUDAgNYAtIBXAHoAIEACABU/2b+h/3E/BD8mvte+1v7PfsE+7z6gvpW+jn6Ufqw+k77Dvyu/EX9zv1O/qX+7/5j/wMAhQDPAAABRwFxAVEBIAEbATQBEAHPALcAyACLAAIApv+2/7D/W//t/tb+yv56/hr+3P3I/aj9j/2L/X39fP2U/bH9n/19/Y39m/1h/ef8fvw8/NP7IPti+tD5Z/nZ+Cr4sPd39xX3c/bS9aL1hvU49dr0n/Rx9DL0BfQQ9Cr0TvSs9Br1pPVK9m33/fgb++39ZAHABKMHIQp7DIAOGRBvEawSnxNFFK4UrxREFJkT8RIiEgERwA+SDkUNjQuTCaoH3AX/A/UB1//y/UT8ofq3+K321/R184ny7/Gz8d3xU/Lf8jrzovOI9M/1Mvd0+BD68PuB/Xn+H//g/3YA4wA4AcYBMAJmAoUC4wJzA/oDhQQ1Bf4F0QaZB4YIXwkdCsUKfwseDIMM5Ax/DQMOSw5nDqsO7A4CD+cOzA6MDioOqA3nDMoLbgr5CFUHRQXRAlMA4P1Z+9r4lPbB9FjzKvI+8Y/wMvAj8Fbwy/Bk8SPyBvMV9Fz1uPYt+K75TPsE/bn+WADpAYMDKQWuBvIH+wjwCdgKlwsUDDcMIgzcC4ILEQt6CswJHwmCCNIH7AYTBnYFCQWmBGQEdQSSBHAEQARTBI8EdAT+A3UDGQOdAtAB2wACAET/W/4//R38HvsY+gD5Avgr91/2jvXY9Ff08/Oy84PzX/NT82rzsPMB9K30t/US91D4sflm+2T9TP8aAQQD/gTNBjcIagmZCp8LTAylDO8MJA36DHAM6Qt9C9oK+wkbCU8IVwcwBhsFHAQGA84BpQCr/7D+nf2M/NX7afvp+kf63vnq+Qf61/nO+TX6vfoC+yT7ePvc+wX8D/wW/Cr8L/wM/ND7eftH+xr78frN+ur6KPuA+9j7Rfzd/JT9av4+/zoAcgHaAhAENgWDBv0HMQnmCUQKpAosC7sLAgzpC6cLXAvBCosJAQh1BgUFdwPYASwAcf6h/Mf61fj09nj1lPQL9JrzR/NA81XzW/NN81vzvPOC9MX1ZPcy+cv6Hvw4/V/+hP+tANwBMwOABJQFWwbeBhQHBQemBkIGDwYQBhYG4QWBBfIEKwRNA6MCFgKcATgBEwHfAFIApf8b/7j+IP6H/Qr9xvyO/E38/vux+2X76/pF+r/5qfm3+ZP5gPmc+d355/np+Qj6O/ph+qX6Bft1+7/7Cfxb/Nb8P/1w/X39o/3z/Rj+EP4B/hv+D/61/Qv9YvzT+0H7hfq4+fH4F/jz9sX11vRH9M7zafMh8zfzwfPV9GX2v/gs/CAAewPMBQcIrAphDYoPXRHsEgsUjhTFFLoUahTwE2YTfhIhEccPdg6sDDMKqAd7BTcDjADq/dD7B/pF+Hn20fQ+8+zxAPGW8KTwIfHg8YTyAfOv87X0J/bh9/X5Dfzc/WD/rgC3AYACCANhA5gD1AMTBBAEygO0AwQEcgShBMIELgX5BdsGpgdhCC8JLQoSC8ILRgz+DKsNSA6ZDt8O8g7IDoAOTQ4qDsQNAg39C9QKbgmuB8YFzAOgAQT/TvzO+Yn3M/Uc85XxnvCz7/HunO7B7v/uf+9y8Lbx//Jx9EX2RPg4+k/8pf7KAJ0CUwT9BUsHKwgVCQQKsgoDCzMLTwswC+YKgwoBCmUJsAjiB+EG+AUjBUYEUwOZAhACkgEsARYBFwH0APsAXgGzAZ0BhwHlATACFAKdATgBrgC9/6D+gv1n/Ez7Lfrz+KD3c/ar9Rv1iPQT9OLz7/MC9Cn0lPRW9TH2D/f79yn5l/oK/Jn9aP9qAUIDyQRbBv8HdQmACloLHwyiDLkMnQxjDO8LKQstChgJ1AdIBokE5AJiAeL/Pf7a/OH7/vrd+f34nvh7+CD44ffu9yP4JPhC+Hz4s/jw+Ej5ovnl+Uj6yvo9+3j7xPsW/Ez8bfyb/M78Fv1j/Yb9gf2s/Rv+Xv5H/k/+0/6F/y8AzgB/AUUCMgMrBP0ExgW5BqoHawg2CRkKtgqQCgYKdAnnCEoImAe2BmoFtwPTAbn/k/2l+935HPhd9hP1QvSf89jyC/J58UHxX/HR8bfy/fNW9YP2kfea+L35Bfux/K7+nABKArED9gTxBagGGgegBysItwjzCMAIRgi0BwoHNQY6BUoEZQOrAhsCoAEAATEAW/+i/hP+q/2F/ZT9uP2u/Vv9yvxN/BD86Pu6+3n7Qfv2+qv6ZfoY+rP5YPk6+Q754fjY+BX5O/k2+UT5kfnc+Tv6rfpJ+9r7efwO/ZX9If7m/qz/GwBVAI8AwACZAEoACQC9/zj/dP6g/c38+vsQ+wT67fjm99z2y/XL9BH0XvOR8r7xFfG28J3w1vBP8QvyKPPP9ED3lPqa/p4C7AWrCDQL4Q1gEIISFxQXFYwVphWbFVgV4hQUFOcSOhErDwoN8gqaCLsFnQLP/5D9kvum+e73kfZT9Rn05PLp8SXxpvCL8PTwsvF38grzi/Mw9DL1hfYq+Ar69/ug/dL+of88AM4APgF+AYEBbwFzAYYBlgGqAQMCpQJoAykECQUlBmMHrgjqCToLWQxTDQ0Orw5WD+APKRAmEOUPfA/RDuEN4QzsC9wKdgmzB5gFUQPuAJj+Vfwa+uf37PUe9HXy8vDT7yDvrO5v7m/u2O6S74/w4/Fz8y31JfdU+Zb7uP3Z/xECHgSzBeQG3QeTCPUIIglCCVsJTAkPCZUI/gdcB9kGOgZvBZwEuQPfAu8BKgGPABIAkf8i/93+yf66/pv+gP6x/hz/b/+D/4P/nv+l/3P/CP+E/uD9HP02/DX7Lfo/+XP4vfcK92X25fWp9cP1Lvau9k33N/hR+XH6oPsV/bP+MACHAfgCjQT0BSUHSAhWCT0K2wpdC8kLGQxADBkMqAviCv8J+Qi7B0cGpAQGA1IBif/B/S38uvpR+Q34Kfed9hX2j/VM9WT1pvXs9Vj28/aS9yf40Ph1+Rj6kPoj+7j7TPy//EP91/1u/t3+Vf/Y/10ApQDvAFoB2wEcAkACkwINA2EDdwOVA/UDfQT/BHAF0AU/BqIG+AZCB9gHjggMCQoJ0QisCF8IvgfABpcFNgSzAikBrv8q/nz8qfrC+AD3hPVR9IDzCPPT8q/ysvIQ85Tz/PN29GH10PZL+MH5VPsW/bz+IwBoAbECIwSlBRYHTQg4CfAJTApsCkcKDwqiCRIJgwjfBxcHCgb1BNcDsQJ+AWsAjf/a/lH+0/1d/d78cvwg/Nr7nvtd+z37J/sc+/z6wvqI+k/6B/rI+ab5xPnf+e358/kT+lL6k/rP+gj7TfvE+1T85/xQ/az9Gf63/lf/0f8rAJwAIgGIAcAB1gHvAe4BsAE+AaMAHQCt/yb/cf6P/ZT8hPuB+q/51fjS98f26vUW9TP0e/Pq8nTyD/IL8k/yqPJg8+D0NPc/+gj+BwJgBd4HQQryDH0PgREZE1sUABUwFSQV7xRzFLETohIKEf4OyAyeCkgIpAWxAqn/3Pya+tj4cPdF9kb1QfQq8yjye/Em8TbxuPGz8tLz0PSK9Rb24/Y7+CH6O/w0/v//bwGNAlID2wNPBMsEUgWUBXwFSgVOBWoFggWcBf4FjQY7Bw8I8wjfCbIKjQtfDAUNfg3UDRkOZw6pDrAOTg5/DXUMRAsKCs4IeQfgBQEE9gG2/039+PrT+Ov2QvXA82LyCfH671/vAe/a7uTuSO/T76Tw1fF881v1cffF+T/8pP7lACADbAWKB0IJbApCC+gLQQxQDCkM/QuYC+8KIwo1CTIIDgccBiYFFgTyAvIBBQELABX/V/65/UH9zfxx/BX86/v0+yr8YPyG/MP8Gf1z/Z39hf1g/UD9AP2O/Av8kvsJ+2n65fmI+TH51Pie+LH4CvmO+Tv6Cvsb/Fn9pP7j/0QB0gJiBMQFAgc7CGQJSwruCmcLygsGDPwLwQtdC+4KUAqECXMIKAe1BUwE0QInAXP/5f16/AT7hPlP+GH3pPb79ZP1ffW29f/1N/aF9jP3Nfg++Rv66vri++b81f2g/lP/FgDKAEsBkQHeAVQCxAL6AiQDcQPlAzAEUgRsBJsEswTBBM8E+gQSBe8EwgS8BOYE9ATrBOAE4wTqBNMErwR8BF0ENATyA6IDjgN+A/sC0gF2AGn/j/7L/fL8DfwH+/b52vjb9zP3/Pbh9qv2pfYx9wz42/iK+Sn6xPqG+838U/7G/xkBZQJ2Aw4EXgS0BCMFzAWKBiEHRQdCB0gHHQehBh4GwgV5BRUFpAQbBHsDywL3AfoABgB5/zb/Av/C/qv+hv4p/qv9YP1O/Uj9SP1w/an9vv19/Rn9vvx//EP8GfwU/CP8Jvwk/B38Jfwp/Cr8IPxN/L38Uv2p/eb9Rv7O/jD/Yv+y/ywAsQD6ADIBYQGjAdMB0wHMAdsB2gGlAUgBCgHAAFMAzf9m/9T+Fv5W/bD8A/wj+2D6w/lD+dD4i/hH+Pn3ofdt90D3EffT9qr2jfaR9qX2ufbV9hf3cvfn95H4vPmF+zj+jwHeBEAHwggnCvAL4w2wDxUR+hEsEsYRFhFLEF8PKw5yDEIKuwc0BcoCnABi/hz8wfmw9xL2APVU9OnzifMj87fyNPLF8bnxQPIx8yj0GvUN9vT2uveN+LT5dPuP/bH/gQEgA1UEOAXaBa4GmwdSCLkIDglGCUwJKAkmCT8JWAmeCfIJRAqMCvgKdQurC60LowuhC3cLPgvvCoYK3An6CMUHKgZoBM0CewFKAAH/if3M+wH6b/gj9w32KvVt9MbzKvOh8kHyKvJi8uvyjvNG9Ej1jvb093z5U/tv/YH/ZQFMAxkFxgYkCF8JUAr3ClQLYwsbC40K8glICXwIZwc1BvkEtAOMAmUBTgBN/0/+ZP17/Kn7/Pp3+hX6zfmJ+UD5B/n7+Az5N/l6+eD5OvqT+t36Nft6+8n7Hfx6/J38kvxu/Fv8W/xo/Hr8e/yY/L/8Gv2A/RL+zf6e/2cAPAEjAh4DCwTmBL0FbgbyBkYHiAfCB8AHiAcrB8AGLAZqBYoEtAO2ApUBZwBL/zn+C/3w++76AvoQ+UP4v/dr9xP30vbI9gj3a/fm94j4Ufka+uf6zfvR/Nj90v7H/7YAgwEkApkCEQNmA68DxgPUA9MDtQN1AycD4QKoAmUCGgLLAYYBXwEpAQoBzQCsAIgAewBxAGYAXAB0AJgAnQBWAB8AHgAsAAgAxv+z/8b/zf+b/0b/z/5v/jb+HP7r/ZD9MP3J/Fz8CfzQ+6T7VfsW+xL7bfv4+5v8F/1q/a39If6x/ln/JQARAdMBNgJgApsC2gIIAxUDBwPyAuQC3wKuAkgCwwFkAQgBqQA8AOD/of9j/xH/l/4z/vT9sv1n/TP9Q/1K/Sv9Ff0b/SH9/fzb/M783fz5/BT9FP33/O78yfyj/IL8ifyD/Er8FfwF/AP8/vsE/Ar8BvwE/CH8SfyC/Mv8Jf1h/aj9Av5b/pb+1P4p/4f/0f8IADEARgBmAHAAcABlAH8AgwBqAB8A5P+j/3H/S/8o/83+Z/4l/gf+2/2R/Uv9Bf3J/Hr8PfwX/Af83vun+377hft8+1T7N/sv+zr7LPtC+237kfuQ+4T7hfuy++77Ifwk/CH8Ifwq/Dn8ePy7/OX89vw8/dL91P5LABQCxANZBfMGawh7CVAKOwskDMEMCA0rDfsMUgxVCyMK0ghJB5sFtQPGAfX/TP6h/Pr6nPmG+KH37faK9nr2cPZx9oL2zvZI99X3kPib+fv6U/xs/V7+Zv94AIUBrgL7Az8FUwYeB7wHFwhBCFcIewiaCJgIXAgYCN0HkwctB+MG0AbTBsMGvgbpBhsHMQctBzsHQwczBwYHvwZ7BhoGmAXcBPQD6wLMAacAlP+A/mf9TPxB+yD6+/gB+F/38vaN9kH2Efb49fX1O/a89mn3Q/hL+Xf6lvva/FH+8P93AfYCbATIBeMGvwdoCOcIOQlkCVkJDgmaCPUHJAcaBvEEwAOWAmwBSQAi/wv+F/1K/Iz74vpY+tj5cfkd+f74+Pj6+PH4/PgK+T75aPmW+dv5Ufq5+tn68Po1+7f7CvxD/I389Pw//WP9gf3X/TH+jP7O/jX/rP8tALUAWwEKAqQCPgP9A7QEMgWEBdYFHgY+BioGDQbIBVwFwAT9AygDTgJYATgACf8G/hf9CPzs+vj5OPl3+M33RPf79sv2vfa+9u/2PPe39yP4ufh9+WL6Kfvm+7r8q/1//jn/8/+xAEsBtAHxATYCdQKjApQCZQIqAgwC8wHPAYABKAHqAM0AjwA6AA4AGgAFAMH/j/+M/3//TP8p/yX/E/8G/zH/YP9W/wv/2/6//pz+YP44/gf+t/04/bn8OPzA+1X7AfvG+qD6ovrE+gL7Lvte+7b7T/wR/eL9tv6g/5YAdAEgAqQCJAPLA3IE9AQzBVkFYAUuBbkEJQSSA/sCTwKeAfMAQAB6/5P+sv3k/C/8h/v3+pT6WPoj+vb50/nN+c353/kR+k76svo0+9L7SPx+/K/8CP2C/e79Sf6r/v/+Uv+L/7v/3v/2/wcAGgBBAI0A3gAuAVsBjQG5AfMBLAJtAqYC1wIIA0ADaQNlA0ADEgPzArMCWAIAArgBUQG+ACIApf8u/67+Kv6i/TP9zvx1/BD8qftn+z37+fqy+qX6xvri+ub6BPtF+5j73Pse/F78uPwM/V/9o/39/Vv+ov7I/ur+DP8g/zr/Uv9W/y7/9v7T/qz+Zv4H/p/9U/0O/dX8p/yg/Nj8Hf2i/aL+LwDLAVID8ATaBqEI8gkaC0sMXw0KDl0OcA5FDsEN/wwPDNgKWQmQB50FlgOtAer/QP6g/Bn7u/mV+Lf3GPfD9p72rfbD9vb2TPfx97z4v/nb+hv8Rf1o/pL/xwD6ASEDPwRNBSoG2gZ0B+QHIQggCAAIyQeEByAHsgY7Br4FSgXVBHAECwTDA5IDjQOYA8UD7gMTBCMEJgQpBBoEEATtA7MDUQPaAjcCggHLADMAiv/L/gL+Yv3F/CP8hPsJ+5/6Y/pS+mP6ZfqJ+uX6g/sp/PD86v3v/vD/AQE3AmUDfwR7BXQGNwe9Bx0IUwhqCEYI+QdyB7gG2gXdBMsDqAKBAW4Aaf97/nf9kfzI+yz7qfo2+vr50/nS+dz5+/kn+nL65fpZ+7r7IPyi/C/9lv0M/or+E/+E/+H/IwBMAIAAswDPAL4ArgCpAKwAlQCGAHcAYABmAIEAtgDtACwBdAG+ARMCcwK7AvACHQNHA1wDTwMqA/4CtwJcAtgBOAGgAAoAYP9+/rj9Ev12/LL7DfuR+jX60fmE+XD5bflx+Xz5qvn3+Wf67/p2+wP8k/xL/RL+uf5B/8H/XAD0AGQBrwH0ASQCIwLvAcYBpwGCAR4BrABKABcA5v+s/2n/J//0/sj+t/61/rn+xP7I/uH+DP9u/83/9f/c/5//hv+V/+b/SQBwACcAj/8F/7z+pf6w/pT+Nf6Q/fT8ofx9/Fv8IPzN+3H7JPsL+zf7e/ug+5H7Y/s9+0v7nPsd/Kz8GP1k/YX9lv2z/e39P/6Y/vr+Uf+A/4z/iv+S/4z/ff9+/6D/y//a/9P/v/+s/4f/aP9f/2n/gf+K/4b/ef9o/2H/P/8n/yD/Of9O/0n/OP8k//T+wf6c/pP+hf5n/lP+Sv4v/gz+8P3g/bn9if1q/YD9mP2j/ZX9hf2D/Yv9kf2e/bD91P33/Qb+H/4n/kP+Q/5I/k/+bv6L/qf+t/7V/vH+Ff89/2//m/+x/7H/v//l/xUAOQBMAFcAVgA/ACEADQD7/+b/z//O/8v/xP+3/6b/mv+G/4v/g/9+/2P/ZP90/4j/iv9z/07/G//q/sD+p/6T/oT+bv5X/kz+SP5j/r3+c/92AHEBNQLMAnEDawTEBSYHNQjKCP8I/QjqCOcI8gjLCC4IJwf1BckEkgNvAlMBRwAx/wv+9vwN/G/7DPvU+pn6dPpL+kD6a/rk+qL7S/zy/Ij9Hv6e/jb/CgARAfkBtgJAA8MDAARCBKEEIwWXBbkFtQWwBaoFlQVhBUwFQQVSBUwFPAUZBfYE+gQjBV8FaAVSBS0FEQXxBNAEqwRvBP0DaAO9AhECaQHRAD8Akv+z/tH9B/1X/Lr7RvsC+9T6ivpR+ir6P/pd+p/6APt6+/77mfxK/Q/+5v7U/9UAzwGyAngDMgTcBHIF+QVjBpgGrwaoBpYGUQbtBWMF1AQqBH0D1QIxAoEBxAAlAKb/P/+4/jL+z/2S/Xj9Vv1G/T/9Sv1c/X79nf3C/d79Cv49/nv+tP7l/gj/Mf9b/23/cf9+/5z/sP/A/9X/AwA5AFgAcACHAKEA0wAYAXMBzgERAkMCYAKSAr4C7gL4AgkDDAMIA9gClAJJAv8BnwEeAaMANQDl/3P//v5z/vz9h/0Z/bH8Sfz3+7v7pPuO+4j7h/uS+7T76Psp/Gz8w/wh/Xf9vf0P/mj+uf79/k//m//I/93/AQAtADoALAAdADEAegDKAP4A2wC4AL0A5AD9AA8BKAFGAT0BQwFOAW8BbgFXAf8AkwBGACoAGgD0/7r/e//s/jD+iv0+/RD92vyX/Dj8xvs9++P6vvrK+vj6JPs8+2f7xfs//Kn8/vxW/aD91/05/ur+wf9jAM0A9QAGAekA7wAVAW8BxwEDAgICxgF/AUgBLgEXAQcB8QDhANAAsgCFAEgA+v+j/0H/8P7L/rv+ov5d/vf9c/3t/H38Lfwa/BX8Efzm+577TPsJ++/66PoA+yf7X/uJ+7D70PsV/GH8tfwG/U/9o/0E/mr+zP4G/0H/af+b/7j/7P8qAFQAZwBkAIIAowCuAKMAlgCbAJcAigCRAJsAkgBsADsAGQDm/6v/eP9T/y//Bf/m/sf+kf5K/hX+/v0D/gr+Gv4j/iH+Hv4W/iX+IP4e/hj+Ef4K/vr9AP4K/gz+9/3t/eD90/3j/TD+j/68/sr+9P44/3v/uv8/ANAAZwHuAaMCUgP3A3gEFwXJBbIGogdtCLYIrQiOCH8IXQgnCNEHTAdiBlQFQARCAzsCLwElABD//P0U/V78zvtQ+wT75/rb+tT68fo7+7L7PPzn/JL9L/6u/jT/8P/fANYBsgJnA/cDagTHBDgFuwVBBqMG6AYOBxMHCgftBs8GrAadBpsGgQY5BtwFfQU9BRoF+ATOBIAELgTaA4oDQgMNA8kCWALQAWAB/gCNAAwAn/9F/83+Of6w/Wb9SP08/Sz9K/0m/R/9M/12/eL9XP7Y/mP/6f9fAMwAYAH5AZwCKAO/AzsEnQTdBCQFVAVvBWgFXwVLBRIFsgQoBJgDCwOPAgUCaQG7AC0Awv9Y/+r+fP4l/uX9tP2e/Z39qv2+/dH95/0B/iP+Vf6L/s3+Ff9W/5T/zP8BACQAQwB/AL4A+AATATYBRAFLAWABiwG7AcwB4wEFAhQCFgIfAlQCcwKDAogCrQLCAssCvQLCAr0CsQJ1Ah8CyAF+AUMB2QBqAPT/gf/2/mT+4/1v/Qb9kPwu/Nj7o/t3+1j7Nvsx+z37avuw+wX8S/yP/N38Yv3r/Wr+3/5V/8r/QwDOAEgBqwHlASQCVwKLArYC8QIRAy4DTgOHA6UDlwN2A2ADSQMrAwgD4wLAAoQCPQLpAZgBTAH7ALYAdABNAEUAbgCTAH4AIQC+/5j/p//T/wYAIgDu/2b/4P6r/rj+2v7u/gX/Cv8Q/yP/UP9t/3T/bP+H/9X/LQB9AKsA2gDtAOsAzADYAAoBVwFqAWIBQAEgAfkA0QC4ALsAzQDWAMsAugCsAJ4AdQBHADQARwBRAEYAPwBNAFsAKgDc/5f/fP9+/3r/if+U/3//T/8W//z+9f7y/uz+2/7D/pz+ef5O/iD+6v3Z/eb9CP4Y/in+Nv5I/k/+XP57/p3+r/68/uD+Ff9A/1D/XP9a/2P/YP9l/4P/mP+4/9L/1//e/83/3//e/+f/3f/n/+//8P/p/9X/wv+P/0//K/8i/yf/E//u/s/+qf6K/mT+a/5l/lv+LP4S/g3+Hf4k/ib+Gf4P/vD93v3W/eH99/0M/iv+Pf5N/mj+rf7+/lL/m//c/ykAYACTAMsAEAFhAbUBCAJXApICxwIDA00DigPVAzsEzwQ4BVQFHQXmBLEEiwRRBB8E0QM0A1cCeQHXAFcAy/8v/63+R/7q/Zj9dv2a/dP99v38/Sj+f/4F/47/RgDwAH8BtgHnAV0CCAOuAyMEeQTHBN8E0ATFBO0EHwUqBQoF4QSuBEgEywNeAxYD7ALAAowCMALKAWEBGwHzANIAxgC2AKwAjgBwAFgATgBKAFAATwAvAAIA1P/B/63/if9d/yz/Bv/X/qr+l/6U/rD+yv7x/hn/Qv+A/+L/XgDHABgBWgHDARUCYwKsAhwDfAO0A8gD7AMKBAME5QPUA9UDtgNyAxgDuQJJAsMBSwHUAF0A2/9x/wL/qf5G/v39xP2U/W39Wf1g/Xb9lf2y/dD9AP5G/on+wv75/kH/gv+7/+D/BQArAFYAlQDjACgBXQFoAWoBaQGTAbwB2AHeAdUBwwGWAW8BcgFmATwB8gDSAMkAmgBCAOP/rv96/zz/+v7L/pD+SP7y/bb9m/1+/Wf9R/0+/UX9O/0v/Tn9YP2T/cH98/1S/qj+8/4p/3j/2v88AIUA1gAgAXwBqgHXAfEBIQJDAloCaQJ+An4CWAIUAtQBrAF9AVIBGwHdAJEARgATAOf/o/9b/xz/+/7s/g3/T/90/1z/Gv8G/x//S/9u/5H/mv9s/xf/xf6l/p7+rP6i/ov+Y/5R/lH+Wv5x/pv+3/4V/0T/rv9zAGMBCAJAAi4CLQJqAugCeAPgA+cDlAMUA5wCUAIeAvUBnAEvAbIANwC9/0T/3v57/hn+z/25/d398/3p/eD95f3k/df95/0t/qP+EP9k/6r/zv/b/9f/8P8uAHsAxgD3AA4BDgEHAf0A+QDkAOUA8wAJAQ8BAQHqAMsAlwBvAGsAeACBAF0ASQA6AC4ABgDQ/7L/k/95/1T/T/9U/0b/F//X/pL+bf5J/jv+Jv4Y/h3+G/4O/vL94P3Z/df97v0n/nL+l/6c/q7+3v4R/zr/bf+z//X/IQBEAGkAggCQAKYAwgDeAN8A7ADsAOMAwgCSAHEATQAuABYA8P/K/6f/lP95/z//A//G/qv+iv6C/nb+Wv42/hn+Dv76/ev98/0J/gz+BP4e/j3+Vf5M/mz+mP7C/sX+zf7u/hv/Q/9y/6f/0P/7/xcAKgA0ADIAQQBYAIIAtgDcAOcA5wACAS4BSAFMAUwBWwFuAaUBFwLGAlADjgOKA20DXQNLA2ADigONAzoDjgL0AWQB/ACJACUAwf9K/8L+Pv7e/an9l/2U/Y/9jP2Q/av92f0m/pj+DP9d/3j/j//U/08A0QBRAcQBIAJHAk4CbgLBAiIDbgOjA7gDpAOBA28DhwOZA6wDrAO1A5ADXgMkA/UCwQKgAn0CVAL2AaEBXQE0AecAgwAvAPr/uf9i/wr/1f6h/mD++/2m/W39YP1f/Wb9dP2B/ZT9of3O/QL+Zv7M/mL/4v9hALcAGgF9AesBWgLAAicDiQPXA/kDAAQRBEEEaQRaBC0E7AO8A2YDCwObAkUC2gFKAaAABQCW/zj/xv5b/vT9mf1D/QX95/zW/MT8wfzd/Af9H/0y/Uv9d/25/fv9RP6M/sL+AP82/17/lP/i/0gAhwC2AN8AMAFoAYIBowHWARUCLQI3AkgCYgJ+AokClgKcAqYCigJbAiUCAwLjAacBWwEEAbwAcwAzANf/hP8s/+L+if43/vj91v2y/Zn9lv2e/aT9lP2E/ZT91P0t/oP+vv7+/jH/af+z/zEArgAAASIBRAGFAc8BJQJ4AtUCHQNOA1gDVANOA1EDRwNDAzQDCwO+AkQC5AGMAVQBDQHFAHQAJADT/3X/L//5/s7+jf5S/i/+Lv4s/iP+HP4V/hT+KP5U/rz+Pf+6//X/DwAkAF8AnwD7AGEBsAG6AZUBfwGLAaEBrQGvAa0BqAGcAXoBXgFPAVwBVQE5AR0BLwE/AVsBYwFzAX0BdgF+AY0BuQHkARcCJwImAgECzgGZAYYBiQGIAWwBSQH8AIUAGQDf/97/uP+G/1H/Mf/5/s7+rv6a/of+gf6b/sH+5v4U/zn/U/96/7H/3v8EAEMAlwDPAN0A6AD7APAA7ADzAAgBBwEBAQcB/ADTAMQA2wD9AAEBAwEXASABKwExAUYBSQE0AS0BJQEgAQQB7ADMALAAggBbAEcAMAAQANv/uf+h/43/bP9L/zX/LP8l/zf/Qv85/xz/G/82/1n/WP9b/2L/cv96/4j/qv/b/wwAGgD1/67/jv+p/9X/1f/H/8b/vf+M/2f/bv+h/8X/1f/n//D/9v/7/wkAGAA8AGcAfwB4AHEAgwCWAJMAhABvAE8APAA7AEIAJQD6/+H///9WAMYAKAFVAXUBggGFAY8BxgERAjcCGwLsAa8BcwFSAU4BOwEFAcEAiQBYADgAYQCbALEAmQCFAJgArQDRABMBVAGKAZsBmAGSAZYBwAH/ATUCQgIsAvYB4wHfAeoB4QHkAeUB0AGTAVQBLQEYAfgA4QDKAL8ArgCXAIYAhwCaAKMAmQCXALAAwADEAL8A2AD5AAAB7ADSAMUA0gDoAAEB8QDWALcAngCOAHsAjAClAKsAhwBoAGgAdwB6AHQAoADaAPUA0AChAJsArwDQANMA0wC0AJkAhgB9AHgAXAA+ADEALwAXAND/e/83/w7/5P67/pX+d/5V/jr+JP4Q/gL+AP4V/jH+W/6d/tP++f4V/1f/q/8DAEgAgwDEAN0ACQEoAVEBbAGMAbYBxgGoAW8BSgFNAVABUwE0AREB4wC9AI4AYgA1ACQADQDk/6P/ef9Y/zT/9/7M/rT+n/5w/kL+M/4w/jX+Lv4o/hj+HP4e/jP+J/42/mH+pP7J/tj+8/4m/1L/hv/B/wEANQBqAKcA4QANAUABcAGdAbwB4gECAgQC8gHlAeQB1gHUAcoBtQGBAVQBMwEUAd8ArgCXAG4APAD//+z/7//P/5H/U/9Z/3r/eP9I/yb/Lv9D/z7/MP9E/3//0/8bAEEAVQBjAHgAjQC0AO4ALAEsAQsB7gD1ABIBPAFmAYcBfAFUATkBNQFEAVwBagF4AW0BagFJATwBNQE/AT8BFQH2AOUA/gAUASMBKQEmARsB+wDVAM4A4QDuAM0AhQA1AAIA4//V/7//i/9Z/yf/8f6z/o3+mf6j/mj+Ev7z/SP+Wv5o/mb+d/6V/qn+vP7j/iT/df/D//3/HwA0AFIAiwDeADgBewGSAZsBqgHTAfwBEwIVAv4B3gG5AZsBgwFqAT8BBwHEAJcAbAA+AA4A4P/F/5v/av89/w3/7/7a/uT+5f7J/qP+mv6X/qD+i/6V/qT+s/60/qr+tf7Y/gH/Hv8z/0//cf+J/5r/qv/F/8z/0v/f/xIAPwBOADwATwCOAMsAzQC4AMAA2gDJAKQAngC8ANYAyACuAIIAUgAkABsAFgAJAAAA+f/u/+D/1f/a/9v/6f8HACEABwDa/8L/v//P/9n/AgAnACYAAwDo/+L/2f+3/53/l/+k/4D/OP/v/sz+wP6c/oL+bv5Z/jL+BP7x/fX98f3//Q7+K/5F/nn+wv4Q/0T/b/+o/wEAXACoAOUAOwGXAfQBGgJEAnACnQK3ArQCrgKkAo0CXwJEAkUChwLGAuACwAKVAlgCFALMAakBiQFQAfMAcADf/0X/2v6d/mj+F/7B/WL9J/0E/Sj9T/1w/YH9q/3k/TH+j/4R/5j/FgBtAMQACQFoAdEBRwLSAj4DbwNfA0QDTwNtA3wDggNiAygD1QKPAlsCHgLuAb4BiwFFAf0AvQB2ADkADQDy/77/c/81/yL/Ef/7/uP+yv6w/pT+if6L/oT+iv6X/rv+2f7w/v3+Df8a/0X/hv+6/9z/4P/+/xUAKwA5AFwAcABxAFkAZwCAAIEAawBXAGMAZwBaADcAFwAIAPv/8f/U/6//h/9m/z7/Ev/p/sX+rf6N/mf+Pf4h/iD+Fv4a/hX+Gv4k/iv+R/5r/pH+vf7r/iP/Sf9+/7L/5v8CACIAVQCRALgA2QACAR8BLAFGAWQBhwGKAYUBhgGAAWwBYAFKASoBBwHrAMoAmQBnAE0AQgASANL/hv9V/yz/Ev/4/uH+u/6T/mb+V/5W/lr+Uv5N/lf+YP5r/n3+m/6i/qn+uv7c/v7+I/9O/2P/cP9//6b/uf/A/8H/6v8FAB8AKwA8AEcAVQBzAIgAnACdAKcApgCqAKwApwCuAMQA4gDaALcApwCuAKoAhwB5AHgAfQBnAGIAWwBMADoAIwAbAA8AGgAcABUABgACAAoAAgDt//T/+f8GAPn/9v/z////BgAZABsALgA4AFMAXwB2AJwA5ABAAYYBmQF4AV8BRQFNAV4BhAF9ATEBrQBNABAAAgD4//L/0P+k/3H/Uf80/y3/Of9P/0D/I/8X/yn/P/9L/2T/cP+A/23/c/+V//P/bgDRAAABAQH8AB8BWwHAASQCYwJbAiEC7QHjAQsCKwI4AiUCFAIDAu0B5AHtAekB2QHFAdoBCgIuAjwCNAIVAv0B6QHjAckBrAGiAZ0BfAE+AQwB4QCsAIQAgQCXAJsAhQBxAFAALAAMAAYAAwD///n/7//p/9v/5//u/+z/5v/2/wwAHQAuADAANwA/AFMAbQCAAIsAgQBxAHUAiQCYAJEAhgCWAKsAtAC7ANYABAEgASoBLgFCAVYBaAFdAVUBVQFNATMBFgH/APAA0gDYAOEA3gCzAJ0AoACnAJcAkgCfAKkApwCqAKwAlwB+AHkAegBxAGEASQBDACcADADl/8P/x//U/8v/rf+U/5v/mP+M/4X/lf+G/4T/gv+d/6L/qf+z/73/qP+i/6j/v//E/9T/3v/Y/7T/kf91/1j/O/8S//r+5/7b/tD+uP69/uD+If9P/3b/mv+///z/UAC/ADoBqQEnAogCzwL5AjoDlAP4A1gEsATZBMMEfQQpBNoDiAM0A9MCSAKRAdAAKQCk/yf/xP5s/hH+sP1Z/Sr9Mv1l/br9Bf5A/l3+lP7g/kr/uf8yAIoAuwC1AKYAugDqACcBUgFZAUsBMgEmATsBcAG4AQICJAIuAioCQgJ5ArkC/wJIA3kDiwNyA14DYQNsA3QDWQMlA9oCmQJYAvwBigEbAb0ATgDN/0//5P6H/in+7f23/ZT9X/1N/U39c/2j/dj9IP5q/r7+/v5I/6D/EgBdAJEAtwDrABkBRwFmAX8BgQF9AXwBbAFYAUIBTgFbAWIBWAFQATkBLwEgARMBAAH2AOkA1QChAG8AOQAKANv/sf94/zX/4f6i/mv+O/4Z/uj9uv2U/X39Z/1Z/U79WP1z/Y39rv3S/QD+NP51/sD+Ef9j/7H/4/8bAEkAmADVABMBPQFuAYQBogGzAcgB0wHJAcwB0AHSAb4BnAF5AWsBWQE/ARIB7wDYAL8AkgBWABAA4v+9/6L/dP9K/xr///7e/rv+pf6W/oz+iv6Q/p7+of6m/qr+y/7l/gT/GP9I/37/vP/m/wcAKABUAHoAnAC9ANkA+AAJAR8BIQENAfkA5ADcAMAAmwB4AFsASQAfAPD/t/+i/5P/jv90/2v/Z/9u/3X/gv+Y/7T/0P/o/wUAFgAwAFwAiwC3ANcA7gACAQwBBgEUASUBLQEnARwBLwEpARkB+ADzAPQA9wDoAOMA3wDkAN0A2wDpAPEA/ADjANsA2gD0AAYBJgFJAW0BeQF6AXsBawFiAVoBYQFkAUoBLQHzAL8AjwB6AGwAUQA9ACkAFAD5/+n/9f8JABAADgARABgAIwAqAC0APQA/AEIAIAAZABIAHwAoACAAJQAaACEANABMAGcAdQChAMMA4ADrAAcBKwFFAWYBmgHYAe8B6QHgAeUB5AHmAekB4gHCAYUBRwEOAesA0gDIALoAugDsACkBUgFJASoBAQHfAMgA1gDkAL0ALgBw/8v+e/5e/lD+K/7b/Wz9E/3v/An9U/2e/fH9K/5s/sT+W//k/0MAbwCRAL4A3QD7AAcB/gDXAJwAUQD7/6z/eP9q/1f/Q/8p//v+rf5l/jz+Sf5S/mj+fP6I/ob+d/6P/qv+w/7r/h//Xf9//43/o/+x/6//of+T/5n/nP+X/4v/cP9G/xr/5/7g/t/+9f74/gP/F/9I/3L/kP+Q/5n/sv/4/y4AUgBHAEQARgBQADsAIQD///z//P/4/9X/qf+A/1//Jf///un++P7X/pP+Uf4x/h/+Cv7o/dH9p/17/Ur9MP0w/TL9PP0T/fj84Pz+/Az9IP0q/Ub9cf2u/Qr+d/7V/lv/IQBDAX0ChwNyBEkFRgZRB0YICgljCV8J9AhlCOkHewf7BikGAAWoA2gCXAGOANr/Qf+z/kH+2v26/cz9Dv5Z/qH+8v4p/0X/VP9b/1//Xf9Z/zz/6f57/in+Av78/fD9+P0N/h/+QP6I/gD/lv8jAKkAOQHTAYMCNQPxA6gEXgXxBWYGxAYmB4EHvgfLB8IHpQd2BwgHgAboBVMFmAS7A+4COAKYAdkAIQCG/yD/yf59/jn+DP7z/ef96P3u/fH93P3H/bP9tP2L/Vb9G/3z/Nj8svyO/Hr8hvya/Mn8Cv13/fz9hv4B/3j/+/+YACIBoAESAncCyAL1AhQDLgNIA08DQwMjA+YCpQJtAkACAwK5AWcBIQHRAHYAIADX/67/j/9z/0b/Gf/4/vP++P4F/xn/Jf8q/yL/HP8W/wz/BP/q/sv+lP51/lf+P/4g/hL+IP5D/mj+m/7W/iD/a//P/zYArQAeAZkBAgJcAqMC8wJGA30DlgOeA54DlgN5A1QDMQP5AscCggJKAg8C1QGqAYMBYgErAfUAwwCiAIgAYwBGADAAIAAKAPP/3f/S/7z/nf+F/3T/cP9l/0n/PP8v/zz/Sf9S/1n/V/9k/4P/wf8OAFgAjgDAAPYAQwGRAesBOQKRAtECCAMwA0cDXgNvA3oDcwNeA0ADMAMDA84ChwJQAh8C6wGqAWQBGwHgAKMAcAA1AAEA0P+p/4r/bv9a/0j/N/8g/wn/9f7s/uH+0f7Y/ur+/P7w/ub+4P7s/uv+/v4v/13/c/+G/7X/7v8AAAkAEwA3AFEAcACWALAAsAChALEAvgDGALAArQCeAI4AbABfAGkAnQDWAPYA5wCxAI8AfQCHAJcAmgB6ACsAyP9+/1n/Xf9w/2v/Lf/X/pL+ff6V/rH+yv7E/sf+7/5p//3/YwCFAH4AfQCBAKgAAwFWAVgB8QCAADgAKwBHAHkAkABfAAEAwP/B/+X//f/8//T/8v/7/wIAIwA+AEYAKAARAAcA8f/K/5P/bv9D/xz/4P6b/k3+NP5U/nH+bf5a/kz+Of4c/if+ZP6d/rj+v/7w/iz/X/+C/6z/1f/z//3/FgA5AFoAXwBIADAADgAIAAsALwA2ACAA+f/g/+P/5f/0//v/CADx/9T/yf/G/7H/jv9u/0H/E//h/s/+s/5//jH+8v2z/ZT9hP2O/Yr9l/2e/bP9z/0O/k3+f/61/v3+Of9B/0//dv+8//D/EAATAPT/1f/e//D/+f/0/+P/tP9z/z7/Jv8J//v++f7z/s/+r/62/sT+u/6//sv+3/7b/t7+4P7u/gX/Hv8e/wv/Cf8E/9f+l/5i/lH+NP40/ij+Df63/WX9Rf1C/UP9O/05/Rr95fyg/IT8lPzL/A/9QP1x/ZD9xP04/hr/XQCEAW4CRwMrBPoEdwXkBVEGiAZXBt4FXAXUBDwEqAMXA3ACqwHyAFEA3/+h/7T/1v/1/xEAUACZANsAFgFMAXsBhgFbAeMAQgCV/wL/dP7g/WH9z/xT/PH71vvP+9z7CPxQ/Iv8tfwO/ZD9Ff57/vn+k/8gAJ4AEgGRAf4BWwLCAi4DnwP2Ay8EQgQ7BEgESwRSBDkEEgTjA7MDkwNzA0sDIgP/AtICqQJtAj4CFAL8Ae0BtQFPAc8AVwDQ/0P/t/4//rb9Gf2Q/BP8rPtp+1X7aPtv+5b72vtL/LP8Pv3W/XP+4/5S/7L/CgBQAJ0A6wAlAUQBWgFkAV4BTQFWAWcBbgF3AYABgAGGAYkBqQHFAdoB7gEHAiYCOwJZAm0CgQKAAnACSwI2AhEC9AHDAZYBYQEfAcoAbgAEAJ7/L//R/nr+PP79/br9b/06/Sn9LP0+/VP9ef2a/cX9+f0+/nf+rf7g/hX/Sf+F/6T/tf/D//v/MwBYAGQAhQDAAPEAIgFfAaMB1AEAAisCXwKSArIC2ALeAuICyAKzAocCWQIVAssBeAEvAecAkwA/AN7/lP9L/xL/2v6m/mv+Q/4s/j7+UP5c/lv+Zv54/oD+kP6d/sD+2/70/gr/E/8X/xj/Jv8i/yb/G/8k/xn/Df8K/xr/Kv9D/3n/u//7/zoAfQDOAAcBRwGdAfIBMQI7AkcCegLPAgsD9AKbAhwChAHqAG4AOAAGAH//sv7v/YH9Yf19/af9vf2p/XX9bP2a/ff9Wf6o/tX+8P4W/z//YP9t/2P/QP8K/9D+mf5q/k/+Tf5c/mr+dP6K/r/+Cf9+//T/WwCWAMUA2wDvAAUBNQFmAWwBVQExARQB1QCWAFQAKgDq/7n/df9H/wb/yP6E/kX+KP4j/in+Ef7y/dj9yP24/af9l/12/Vf9NP0u/TP9RP1V/VP9Sv1D/Ub9SP1e/Yf9tf3H/db99/0z/mP+pP70/lP/qf/i/xoASACCALQA1ADdAOAA1gC5AHwASwApAAoA1P+X/2X/QP8b//r+5/7W/tf+1v7p/u7+//4W/y3/Qv89/z//Qv8z/yX/Ff8N//L+0/62/qz+nf6g/qT+tf63/tH+4f72/v7+Gv9D/1j/b/+E/6D/tv+3/8D/v/+v/6r/n/+Q/2n/Rv8k//f+vv6B/kb+B/7f/cb9tf2G/WP9Qv0V/d38pvyX/If8g/yN/Lv8wvzB/Lr87vxP/cL9NP6i/jH/CgAfARsC5QK7A4MEIQVYBYcFtwXJBYAFEwW3BEoEuAMLA3QC9wGOAUABAwHzAPAAHgFWAacBBQJsAq8CugKhAn0CbAJEAuUBMAFQAIT/2/4h/lf9ofwo/OD7o/t1+3T7nPvY+xL8Wfy1/Cv9ov0U/or+9f5h/7j/BQBGAH0AxAD+ACsBUAF/Aa8BwgHGAdIB9gERAjECYQKdAtUCEgNHA3MDlAO2A+cDDgQeBC4EMAQiBOUDowNIA+oCZgLQARYBYgCu/xX/gP7q/Un9tfwt/Nr7r/uw+9D7BfxN/I380PwY/V/9mP3H/e/9Ef4g/iH+E/71/dL9t/2t/Yr9X/07/S79L/05/W/9v/0o/ov+/f5g/8z/LQClABUBeAHUARsCPwJNAlMCWwJUAjUCCwLkAbEBkQFoAT8B+gDDAIEARwAKAOv/4f/S/73/tf+5/7b/uf+5/8X/uP+r/6X/mP9s/zD//v7R/qT+cf5J/i7+DP7t/dz94f30/RD+H/5F/mf+rv7x/kv/qv8DAE8AdQChAMsA/QAnATUBOQEYAe4AxACxAJoAcgBOADgANgA0AEUAYwCAAJQApgDJAOsAAQESAR8BMAE7AUwBVwFVAUgBNQEvATcBWQGkARwCiwKvAncCFALWAcQB2wHsAeQBjAH+AIUAVQCCALYA5AC8AIMAPABNAJoAGQGIAcwB2AG4AZ0BhAFsAUIB9gCOAAUAjv8g/8n+ef5p/nj+l/6S/pf+x/4N/3z/4/9PAH0AkgCkAMoA+wAqAV0BggGGAXABVwFRAVIBVgFVAWkBgwGJAYQBfAGAAXcBYwFZAVkBNgEHAeAA1QDEAJoAhwBsAFEAHwADAO3/2f/B/7P/nv9s/zr/GP/y/tL+rv6n/o7+Z/5K/jz+Vv5s/pb+vP7b/gX/J/9Q/2j/fv+I/5b/k/+K/3v/YP9E/x7/GP8e/yf/LP8z/z3/Xv90/57/sf/O//r/NgBbAHQAbgB3AGgAVgA7ABMA8f+5/4f/Sf8i/wf/+P7m/uT+2P7a/tz+7P76/g3/If8v/yD/C/8B/wH/Av8C/wT/Dv8I//X+2/7I/rj+n/5z/kP+FP7g/bz9oP2e/Yf9bf1A/Rf98fzn/Nn81PzS/PT8Mf1r/bz9C/5b/qf+8v5T/7f/VQAzAR0CxAJBA8wDaQTSBP0E+wTmBJUEKwTQA5sDWwP0AnwCCgK7AX0BagFtAYoBswHnASMCbQLSAi4DYANcA0UDFgPFAlMCwAEWAVsArv8I/0v+jP3z/I/8UPwe/Bz8LPxJ/GD8jPzK/CT9cP28/fr9Rf6Z/tX+Bv8m/0f/Wv9h/4D/nv+9/93/EwBMAGkAiwCxAPQAHQFpAbYBFQJiAq4C/gI0A1sDdQOIA5sDoAOjA44DcgNIAx0DzAJhAuABYwHnAHYA8v+D/w7/vf5x/jb+Ff4A/gT+Cf4c/jH+Rv5h/mz+dP5V/jT+/P3G/ZD9XP0u/e/8q/xg/CH8+Pvb+9r72fvx+yv8b/y//BH9cf3S/TL+kf7t/kX/jv/Z/xAAPwBcAHEAawBnAGYAbABmAFoAUwBTAFUAVABUAFkAZQBzAIAAhwCfALcAywDTAMoAxgC0AJ4AhgB1AGcAQAAJAMb/kv9e/yL/3/6d/mP+NP4d/gf+Cf4K/hz+Jf40/k/+c/6Z/sr+DP9I/3j/jv+t/8H/v/+g/4H/eP9u/1X/MP8F//T+4P7V/tP+zv7y/iv/Z/+O/6r/5P8kAFcAgQCeAMYA1QDuAPYA8gDeANEAuACUAGYAUAAwAC4AiQAuAagBdwHtAHsAbQCjAAcBbAF4Af0AUQD+/y4AhgC2AJsAWQAEAMv/4f8wAJIAxgDTAMUAwwDTANsA7gDfAM0AkgBLAAcAx/+R/1//XP9T/0L/+f62/pD+nP6+/uH+/v7v/sb+nv6s/uX+Hf83/zz/N/8r/yT/Mv9Q/1z/Tf9E/03/b/95/3v/Xv9N/0f/av+G/5z/m/+p/67/zf/5/ygAOQBEAEwAdACYAM8A6ADtANUAtQCoAJUAlACGAGwASAAuABgA/v/V/7j/rv+9/9T/1/+7/5D/bf9e/0T/Lv8b///+0v6t/pD+gf5i/k7+Ov4n/gH+//0H/h7+Iv45/lH+a/6P/sb++P4U/x//Uv+B/6X/qf+9/77/xv/C/8L/wf+r/5n/gP9r/03/NP8j/xP/Cf8A//P+7f7p/u3+7/7w/vP+B/8h/zT/OP83/zv/Qv9E/0H/SP9J/0v/Rf9N/03/U/9T/1n/Y/9i/3T/cP9c/0f/RP9X/2b/Wf9X/0j/Rf85/zX/OP8j/xj/5f7B/pX+dv5k/kD+I/78/dT9q/2F/Xv9c/1i/UX9Kf0f/SP9Gv0p/TL9TP1N/Ur9YP1//bj99P1C/pL+B/+j/2AAGgG1AVQC8AKCA+oDMARbBG0EVQQ3BAsE5AOpA1wDDwPMAoECPAIMAhICOwJkApcC0AIcA04DZgNlA1cDIQPIAkUCwwEfAX8Ayf8r/4/+9f1k/fn8rvyH/Gn8efyW/L/85vwV/VD9jP2+/d/9AP4V/iz+NP45/i7+Lv4m/i/+Mf5E/lb+f/6k/tr+Ff9p/7r/CABTAKAA9QBWAbABDwJNAoACnALEAuYCBgMdAyUDIgMQA/ECvgJ+Ah4CwgFjAQ4BtwBfAA4A0f+e/23/T/81/zf/Nf9I/17/d/+N/4z/if9p/0L/A//J/n/+Lv7i/ZP9Qv3j/JL8UPws/AX87/vw+xj8TfyS/M78Gv1o/a/97P0g/lz+j/6y/sb+1f7o/gf/Iv80/zP/Of8+/2X/i//A/+3/IgBVAIIAswDNAPMADQErAT0BTgFgAWYBXwFIATwBGwEAAc8AyAC+AL8AsQCdAIYAbQBRADUAHAAJAAEABAD8//b/6//s/+//9////wMACQANABsAIgA/AG0AnwCTAHAAQQAqACAADgAQAAgA6P+c/13/Mv8q/x7/G/8W/wD/7f7v/h7/eP+9/+P/6f/x/xQAKAAzACUAHgALAOX/xP+y/6b/jf9r/2v/if+2/+D/BwAiAEIAbgC6AAQBMAE/ATwBQgFEAT8BOAEmAQcB0ACgAH8AdwByAGcAbQB4AH4AewBqAHUAewCOAJAAlQCWAIEAaABBAC4AHgACAOP/rf+K/2f/W/9X/0//PP8e/wb/+P7o/tP+xP7C/rv+sP6m/rP+uf67/r3+3P4G/x7/H/8g/yH/J/8d/yP/Hv8V/wD//v4A//z+7v7z/vr+CP8N/yX/UP+A/7D/2v8GACYASgBtAH4AgwCAAIkAhQBcACcA+f/X/6j/dv83//z+tf6C/k7+Hv7l/bD9iv1c/S39/vzc/Lv8gPxD/BT8+fvj+7b7iPtX+0f7R/tZ+3X7ovvn+0/81fxt/Rz+CP9eAPgBcwNhBMAEyATKBN8EHgU7BRcFegS5AyAD4QLQAtkCxAKRAkoCNQKmApYDxgTaBbkGVwe2B8wHmgc4B60GAwY4BVAEXQNKAiwBBgAB/yv+bv3k/IH8WvxY/IX8yPwe/Un9T/1D/Vr9iv3H/fH9DP77/dT9mv1p/Sn93/yG/FX8Wvyh/P78Uv2B/aT9uv36/VD+x/5I/8H/SgDdAIYBGwKMAtYCGgNXA4oDwAPkAxAEFAT+A7EDQgO7AjICsQFZAScBGQEFAfIA7wAYAUkBdwGeAcYB7QH+AQcCIQIbAu0BgQHnADUAbP+u/gP+av3h/G38Bvyn+1f7LPsv+1D7ivvi+1f80fw7/ZH92f0I/hn+D/7r/cv9qf2N/W/9Xf1L/UT9IP0A/eH88vwc/Wv9wv0o/or+8P5O/57/2f8gAGEAwwAQAWABmQHKAeUB8AH6AfwB6wHDAZwBjAF9AXABRwEeAfIAwwCaAH8AgQCGAJYArQDjABUBMgE8AUEBLQEOAeUAxgCcAFgACgC7/1//7f6A/iX+5v2j/Wv9TP1H/U/9Z/2I/Z/9rv20/db9Cf5K/pD+rv6q/o3+dP5c/in+5P26/Z39n/2n/cv9Av4i/kP+Z/6d/uL+LP+D/8j///88AH4AvwDkAO4A/AD2APgA6gDjANEAxACtAJwAhwBuAFwARwBJAF8AgACmAL8A2ADqAPcACgEQASQBZAHxAZcC3QKNAtoBNwHtAOwADwH4AH8At/8T/+H+Hf9T/2X/Of8D/+f+7f5E/7r/LABZAEAAGgAMAPr/xv98/z3/Ff/h/pH+Sv4h/ib+Tf6J/tP+B/8s/0j/fv/c/z4AkACiAI0AYQBWAHEAowC9AJwAWAAeABMACgD3/+L/5/8FACIAQgBZAGQAUAA7AC8ALgAvAB0ABwDl/9b/4v8AAAUAAgDm/9X/w//I/+L/+//2/+z/z/+0/43/if+R/6D/oP+b/6P/sP+//8//5f8LAEsAgACPAHEAWABWAGIAWQA1APz/t/9s/zH/AP/X/qv+g/5d/in+Df4I/iv+Sv5h/mD+bP56/o3+if5y/k/+RP5J/mD+Wf5C/hz+D/4d/kb+cP6W/q/+wP7e/gf/R/9+/73/6/8MADUAbwCqAMoAyQDPAOQA9gD3APcABAEOARABFgETAQ0B7wDdAMkAoQCFAGYAXQA6AAsA6f/E/7D/j/97/2D/UP84/yH/AP/M/qn+jv6N/nf+Wv40/if+Iv4p/ib+Jv4y/kz+cv6Z/sH+//5B/4T/uv/j/xUARAB2AKQAxQDfAPEAAgEKAQsBBQEMARsBIwEtATsBPwFHAToBSwFfAWgBXQFMAT0BPAEvASIBCQHgALkAjgB4AFwAQwAvABEABQDn/9n/uv+s/5z/mP+Y/6P/qv+e/43/ev+J/5L/kP98/2b/XP9Z/1T/Uf9R/0r/Rv9D/0n/S/9F/zb/Lf8q/zL/Sf9j/37/j/+n/9X/AwAyAE8AZQCGAJ0AqAC+AMwAzQC0AJUAhQBmADEA3P+P/z//9v6k/kP+5/2H/UL9Bf3C/F78APyv+3f7TPsl+wn73vqy+pL6fvp0+nP6gvql+tf6KPvO+538mP2l/v//gAG3AmADmwO4A+kDGARVBHIEQwS/AxwDuwKFAlACCwK/AY8BWQFtAe0B6QL/A8sEMwVgBX0FcwUxBaQE8ANCA40CxwHdAPb/F/9N/pH9+fyQ/Ez8NPwx/Fv8kfzS/BT9Tf10/Y39l/3H/fz9F/4A/sj9oP2E/Wj9Kv0E/e78Cv00/XH9vf35/RL+GP4k/lv+oP7w/jH/kf8DAIIA9QBKAZ0B1wH5AfoB9AH8AQYCBALoAaQBQwHWAHgAJADV/5v/kv+9//3/PwCSAN8AQwGgARECZAKdAsIC9QIeAx0D6QKIAgYCXgGvABUAh//+/nn+E/7O/Y79Zf1G/UD9P/1V/Xj9qf3B/dL90f3T/bz9pf1u/Tb99vzH/J78ePxO/CL8+Pu9+5P7cft8+4r7vPv/+0T8d/ym/OP8J/1k/Zf95f04/qD+//5s/8v/EgBWAJ4A6wAZAS4BNgFLAWYBggGhAa8ByQHUAeYB5QEPAnsCHAOcA80DygPCA9ED7wMQBBkE5AN6AwoDtwJ9AiQCsgEUAX8A/v+k/2//Uf89/yf/D/8E/xv/S/9v/27/av+A/6b/sf+R/2D/Lv8K/+r+zf6m/mv+Hv7P/aL9m/2o/bn9tf3A/eX9Nv6L/t3+F/9N/4X/xf8FAC8ASQBWAGgAewCJAJEAlgCQAHoAYABWAFsAYQBdAEYARABPAHkAlQCjAKAAnwCnALYAzADgAOcA3AC+AJUAXwAuAA0A7//O/57/c/9e/0L/KP8E/+r+3v7s/vH+9P7g/ub++P4D//T+5f7v/vr+6P66/ov+cf5g/kj+Iv7r/cX9tv3C/c/90/3g/fb9Fv40/lf+gv6j/tH+6P4K/xb/Nf9b/3D/dv9P/0H/Kv8j/wP/0/6r/o7+kv59/mH+Of4u/if+B/7e/b/9xf3K/cb9uv23/a39sP2z/bb9q/2R/YX9g/2F/Xn9gf2V/bn91/3o/fX9Ef5F/pD+3/5O/wUAHQFwAqQDYwSnBJIEiwSkBNQE3gSbBBwEfwP+ArECkQJ3AjwC4wGQAWoBrAFPAkcDSwQvBdoFVQaXBpkGUAbPBUYFzQRXBLoD7QIZAlwBxQA7AL//TP/s/p3+cv6F/sj+FP87/z7/Q/9M/2H/aP9v/2L/Sf8u/w3/8v6w/lv+/v3I/bH9s/2n/Zb9df1P/SD9+/zu/P38F/1F/Z39IP6//lv/6P9pANgAMAF+AcQBBQI/AmwCgQKEAmECJwLWAZEBVAEoAREBEwFQAZ4B8gFJAq0CFQNcA4UDmwO6A84D4APWA6cDQwO7AhMCbQG+ADIAqP9A/9j+j/5M/gX+yP2k/Z/9pv2k/aD9n/2b/Zn9h/14/Wn9Y/1C/Qn9yvyh/JT8h/x6/G78YPw3/Bb8/PsM/CX8ZPyf/N78E/1U/aL97P0t/oD+6v5X/77/IgCHAPUAUgGbAcUB3AHlAdcBqQGBAWsBcAFvAWkBaAFdAVIBWwFxAaUBzgELAkkCfAKiArwC3ALmAuUC0QK0AoMCSgIOAtgBlAFVARABzwB/AEQAGgAZABcAFwAVABUADgADAOr/2P/M/8H/q/+d/4j/ff9a/y7/7P6u/mn+Ov4J/tv9sv2a/Zj9kP2H/YD9ff2I/aP9z/0K/kX+iP7U/hn/Wf+T/83/7/8VAEEAfgCnAM8AJwGrARcCDwKuAT0BGQFNAa8B/AEDAtEBmgGbAegBWAKlArACjQJsAngCtAIFA00DXAM4A/0C0gKoAmYC9wF/ASEB5wC0AGsAMQAOACQAOwBIAFkAdwCQAIYAZgBPAGUAcwBtADwA/v/O/6r/ef8+//H+t/6C/mP+Uf5E/i3+KP5A/nb+pf62/r/+vP7L/uP+Ef80/0f/VP9l/4//sP/V//f/FwA1AEgAYgBzAIIAmQC5ANYA6wDqAAMBGgE9AUsBWgFpAYIBogG1AcIBsAG1AbABuAGUAWMBJgEFAdgAswB4AEUADQDU/6X/dv9c/0P/Mv8a/wj/BP8R/xf/HP8Y/xT/Cv/x/t/+yf61/qL+o/6m/o7+Vf43/kf+bP5n/jj+DP4P/hr+GP4B/gP+L/5k/nv+cv5j/nH+iv6Q/pP+oP7D/uj+//71/vv+CP8v/zv/Nf8o/zv/Y/9p/2T/YP+G/7f/0v/w/wgAKAA0AEUAYQB6AJAAnACpALAApQChAJ8ApwCdAJEAiQCCAIUAcwBlAGAAZgB0AHcAdgB6AIMAgwB2AGQAVQBNAE0ASAA5ABkACADr/9j/rv+Y/47/if+G/3n/bP9j/2X/b/92/2r/a/9v/3//ef9//4v/of+p/67/pv+c/6H/s//S/93/y//G/8X/0f/d/+b/AAABAAMA+/8JACcAUABrAHkAfQCFAKcAygD3AAoBHAEmAS8BNQEwATYBMQEzASEBIAETAQgB7wDMALsAqwCaAIgAbABOACgAFwACAPT/0/+2/6L/hP9j/z//Jv8Q//r+5f7U/sn+r/6h/pP+lf6Y/pL+gv5q/mn+b/56/nv+av5Z/jn+I/4b/hf+Dv7z/dz91P3G/cD9r/2s/a39sv3M/d79B/4n/kn+Xv54/pH+xP7j/gz/Fv8q/0T/Yv94/4T/iv+E/3v/cv94/3n/bv9e/0//Q/81/yL/Ff8U/wz/C/8E/wP//v7//vD+4f7S/sv+xP63/qX+l/6P/oT+dv5n/l/+V/5H/i7+E/4Q/hP+Gf4G/vf95v3d/dD9uv2r/Z/9ov2t/cz9Av5I/pT+3f4b/3D/0P85AJkA4AAhAVIBfgGcAb0B0QHWAb0BnwF3AWIBWgFiAXIBiwGgAcsB8wEyAl8CgwKUAqcCxQLTAtACrwKSAnACTAImAvwBzQGUAWgBQgEfAekArgB8AFMAPgAmABUA7P/A/5v/iv94/2b/WP9M/0L/LP8i/xf/Av/1/uD+1f64/pb+cf5S/iT+Cf71/er96P3c/ez9//0l/lH+e/6v/uX+MP9r/6H/z/8HADsAXQBxAHsAgwCFAI8AmwChAKkAugDMANsA5gAFAS4BUwF7AakB7wEdAjQCOAJCAlcCewKaAqkCkwJtAk0CQwI/AjcCHAL3AcoBoAGDAWQBSQElAf0A2ACzAJMAbQBEACgACQDy/8L/o/+B/3D/Uf8o/w7/8f7n/s/+vv6a/nn+af5j/mn+Wv5O/kf+Tv5V/mj+fP6i/rn+2f7x/gj/HP87/1n/cf96/33/hf9//2z/Yv9s/3X/ff9y/4X/nf+6/8j/2f/l//3/FwAzAFAAXwBxAH4AjACFAHgAbABuAHEAdQBrAGsAWwBZAEgAOwAqACEAIQAdABAA7v/h/9D/zv+7/6P/k/+A/2z/QP8X/+j+zf6o/nf+OP7q/an9aP0v/eH8lfw+/BL85vvL+5P7Y/s7+yn7G/v5+t76yfrB+qD6dfpO+kP6Q/o0+hz6+fnz+fn5J/pr+sj6R/sB/Cv9xv5/AOIBngLtAjYDtgNtBA0FYgVIBdkEZAQ3BFwEjgSGBC4ExgN2A4wDCwT6BBoGMgcTCLEIFgk6CSsJ2AhuCP4HnAc6B8UGMgaeBQsFdgTSAxwDXAKYAeAAUgDY/4H/IP/U/nf+FP6e/Tv96Pyu/HT8W/xZ/HH8e/x6/HT8dPyB/If8c/w5/Nn7dfsM+676TPoP+uH55fkO+nX6IvvZ+6T8V/0K/q7+Rf/f/3QA8wBXAZ0BxgHlAdoBygGYAW0BPAEiAQcBFAFTAcQBRQLCAikDhgPFA/EDFwQ8BHIEpATeBPYEAwXyBNMEkgRKBAMExQN7AxEDnQIsAs4BawH6AHsA6v9h/9j+Y/4E/tn9y/3a/eT98/3u/eX93v3h/eX92P25/Yv9Vf35/Jf8KvzM+2f7B/us+mr6NPoN+u358PkJ+jP6Y/qS+tX6LPuR+/b7VPyp/Ov8J/1L/XP9nf3G/f79J/5V/nz+of6t/sT+zP7l/vH+Dv86/3n/wf8UAHIA5wBQAboBCAJeAqkC+gI6A4ADvwP2AxMEFwQOBP4D2AOjA2ADLAPrArgCgQJfAjwCIQIVAhACCAL7AfQB/QEDAvMB3gHBAaIBdQExAdoAdQASALL/T//3/pL+Nv7F/WL9Ef3P/I78Vvwu/CX8Lvw3/EH8RvxS/Hb8r/zl/BL9Nf1k/Zr9yP3u/QH+F/4h/jf+Pf5F/kX+U/50/o3+o/65/tv+DP9E/4r/3P8wAIcA4gBFAaMB9QE6An0CwwIIA2wDwwP0A9YDkwN8A64D9wMNBN4DjQNXAz0DRQNaA3ADeANQAzEDFAMoAzYDRAM5AycDCQPzAtQCogJTAvcBtwF2AToB3QBxAAMAnP9R/w3/wf5w/h/+5v2v/Xz9Xf1R/Vr9ZP1v/YP9jP2P/Yb9f/2Q/av90v3d/eP92v3e/fr9Ff42/kT+Rf5S/mX+jf6i/r/+7v4o/2j/nv/V/xMARwBuAJYAwgDzACQBQAFdAWsBfwGMAZIBlQGOAY4BfAFzAXABcwFkAVUBPgFDAUIBTAFfAXMBfAF1AW0BaAFoAWEBWwFQAUQBLQESAfsA5QDiAN0AwgCdAHAAWgBNAEgAOQAvABsAEAAFAAMA7f/t/+T/5v/Y/8f/wv/H/7j/pP+F/3f/Zv9Q/zn/Jf8W/wD/8/7h/tD+zP7N/tr+4/7v/v/+Ef8u/0v/d/+O/7b/1v/+/xgAIQAzAEkAYQBsAH4AlwCiAKoApQC0AMkA4ADuAPcA9wAJASkBWAF4AZgBrgHMAd4B9AH9AQ8CFAIkAikCLQIhAgsC7AHNAasBnAF+AWwBQwElAQ4B9ADcAMEApQCFAGkAVQBQAFEAUwBOAEMANAAmACUAKwAoACkAIQAdAA0ABgDy/+P/zf+6/57/jv9x/2v/Vf9H/zL/LP8g/xv/Ef8N/wz/Bv8M/xT/Ff8V/x//L/8z/yn/JP8x/0D/Qv85/zr/N/9F/0v/a/9+/4//j/+Y/6r/wf/h//f/BgAPABkAKwA0ADcAOgBEAE8AVwBWAFkAZABkAFwARAAwACcAIAAZAAkAAwD2/+z/2P/P/8v/wP+y/6H/qv+k/6T/jP92/2z/aP9v/2L/S/8g/wX/5/7g/tj+0P7C/q7+p/6x/rz+z/7h/vD++/4A/wf/B/8F/w3/Jf8x/yn/Fv8M/wT/BP8f/yj/If/x/tz+2/7i/tj+0/7a/tL+1v7d/vr+Cf8O/yP/P/9U/2b/bf+H/4T/kf+g/77/0P/Y/9f/2v/q//b/BwAHAA4AHAAqACcAKgA+AGAAbABkAG0AeACOAH4AgQCBAJMAigCRAIoAjgCJAIkAjgCQAI4AkACXAJwAogC0AL0AzwDMAM4AzADMAN8A7gD5AOoA6wDvAP4ABAEHAQoBDwEWASYBKwEpASUBKQFFAUgBWQFeAWoBbQFoAWYBXwFSAUsBQAFIAUMBUAFVAVQBSwFAAUIBOQEoAR4BHgEmAR8BCwEGAf4A+ADpANkAywC4AKAAjgCCAH0AawBcAEYANQAxACoAEwDy/9//1P/L/7T/o/+h/57/nP+K/4H/cP9c/1j/XP9g/1f/Vv9Y/0r/MP8V/xT/Gf8I//z+6/7y/ur+3/7c/tT+3/7b/u7+7P73/uv+7/7o/uj+5/7p/ur+6v7Y/sn+r/6o/p7+kv6B/mr+ZP5Z/lD+Tf5N/lD+Pf4x/jD+Nf5I/kv+Tf5J/kj+SP5U/kP+M/4f/hX+EP75/fX99P39/fz95f3S/cH9zP3b/dr9wf20/bz94P3i/eH94P3s/fP96P3Z/cn9s/2a/YH9Y/05/QL93Py6/Kj8lvyG/GX8OPwQ/P/79vvh+8D7oPuI+377gvuE+4H7dvtv+337lPvP+xL8cvz4/OD9/f7p/zkAKABbABYBHQLVAgoD5QKzAqcC7AJmA+IDHgT6A6IDZQNrA9UDdAQcBagFGAZ7BtkGHQc/B0YHTAdnB3cHcAdIBx0H8wbUBq0GdwYiBrwFQwXSBFAE1ANlAxYDxAJIAq0BBQGGABwAwv9Z//r+qf50/lL+Tv5Y/nv+if5s/jH+Bf4C/gb+4/2K/Rf9rfxL/Av82vvE+6P7fftZ+z77PftV+4P7yfv4+y78W/yW/NH8GP1r/b39AP4m/kP+Vv5v/qP+8P5Q/6v/BABdAJAAuADCAOUACAEwAU8BYwFqAW0BdgGhAdQBEAI8AmACfwKrAtoCHQNLA40DrAO9A5EDXwMsA/gCqwJXAgECugFoAR4B5wCzAIoAWwA7ACEAAwDz/+r/3v/C/5z/c/9T/y//C//q/sX+o/51/lH+Hf74/dX9vv2n/ZP9ef1c/S/9Cf3v/Nn8sPyB/FX8OPwY/Aj8Ffw9/GX8gvyn/Lr8zvzS/Pn8Kv1i/Xv9lf2l/bf90v3f/e/9+P0D/g7+Fv4k/k/+kP7K/gz/Tf+M/7v/4P8DACwAUABuAJEAqQC/ANQA8QADAQ8BBgEGAQMBAwEFAQUB8wDtANgAzQCxAI0AbwBSAEAAIgAFAOT/1P/M/8D/wP/B/9b/2v/d/9D/zP/A/7r/s/+l/4//cf9T/zP/E//5/vX+9/4A/wn/E/8p/yD/C//t/gf/P/9//4f/cf9Q/1X/ev+f/8j/yv/K/7X/qv/B/+v/KABCAD0ALwAxADgANgAtACAAEAD2/+H/0//a/9f/1//N/8P/wv/Y//z/HwArADoASgBiAIQAqQDFAM8AxgDAAMUAyADHAMMAuwDBAMEA1wDsAP4AEAElATsBVwFxAZMBlwGTAXUBfAF9AYgBhgGEAYcBdAFpAVwBbwGDAYoBjAF+AYYBfQGBAXkBdwFyAWcBUwFIATEBMgExATcBMAEgARQBEQEEAe0AxgCvAJAAgABhAE4ANAAQAOT/xP+z/7b/pf+h/5j/nv+h/6b/s//J/8v/yv/I/9H/0v/I/7j/qf+e/5T/o/+j/5b/h/+D/5j/mv+l/7b/1P/j/+j/8f8AABQAJQA6AEQAPQA+AEkAVQBWAGEAdwCKAIsAhACUAKkAvgDZAOgA+gD8AAwBJAE6AUMBUgF2AZIBrgGxAcAB0gHkAfQB7wHrAfQB+gH5AeYB0QHHAb4BrQGhAZgBjQGJAZABmwGhAZYBjAF1AVcBPwE2ASsBFwHsAMsApgCFAGwAVwBLADAAJAAXACAAIAAjADMAPwBWAGgAfgCMAJ4AqQDBAMMA0QDaAOwA8QDyAPQA+gD/AAYBDgEiASkBNgFAAUkBTgFPAWIBdAGGAY0BkAGaAZ8BqQGoAakBpQGgAaEBpwGeAZEBdQFjAU4BOAEWAfAA0gCwAJ0AgQBrAFEAQAA7AD8ANwApACMALQA4ADoAIQAYAAkACwD7/+//3f/R/87/wv+5/5//jv9//3P/Zf9Y/1L/Uf9I/0D/OP8x/yz/Jf8U/wL/5v7L/rv+rf6f/or+cf5d/lP+Sf5D/kH+S/5U/mj+bv6H/p7+w/7c/vD+//4T/y//R/9b/2j/gP+N/6D/ov+r/7P/s/+s/6P/mP+V/4//h/97/3D/a/9h/1v/S/9G/0T/Q/9A/z3/N/8z/yz/Lf8u/x3/C//w/tb+xv63/rj+rP6i/pn+o/6v/qT+pP6m/rr+vv7D/s3+3P7f/uP+4v7s/vT++f79/vP+6P7a/uT+5f7n/tj+1f7S/uP+6v4H/xj/Mv9J/2L/g/+a/7D/0P/w/xoANwBLAFgAZABwAHcAgQCEAIcAiwCOAJMAkACUAJAAlQCOAI4AjQCOAJgAnACyALIAsQCzAK8AuQCyAKoAnwCVAIgAcwBhAEsARQAsAA4A9P/r/+7/2v+8/6X/o/+m/6P/pP+s/7z/w//I/87/0v/a/9f/y//D/7b/tP+k/6H/j/+K/3v/f/+F/4L/hv99/4v/eP+F/33/lP+P/4z/iv+A/3P/X/9b/1r/TP82/yT/If8b/xf/F/8S/xX/Ef8d/yz/M/9H/1D/V/9S/0H/Of8i/wv/8P7c/s7+t/6p/qv+uv7d/vD+Ff8h/zv/Q/9d/3X/pP/R/woAPgByAJoAuADLANsA4QDaAMoAqwCSAHAATgAeAPX/yP+t/4v/b/9L/zf/L/8e/xH/+/74/vr+6/7h/sv+zP7A/q3+kv5+/nb+c/5r/l7+TP41/hn+Cf77/e795P3d/d394P3Z/eT9+P3+/Qb+Ev4s/k7+Vf5b/mf+c/6F/oX+i/6L/pX+k/6f/qr+vf7L/uH+/P4f/z3/V/9+/7D/3/8JADEAVwCFAKkA1gAAARsBNAFEAWABeAGEAZcBpQG2AboBxwHaAfAB9AH8AQwCIAIrAjQCPwJRAlwCXAJlAmECZwJZAlICQAIqAhUC8AHQAaoBiQFvAUoBLwEOAe4A1QDEALcAowCdAJgApACjAJwAqwC+ANAA1QDcAOYA5QDmAOcA/QAHAQwBEgETARoBDwEdARkBJwEmATQBQwFUAVwBbAF2AYkBkwGnAbQBwwG9AbcBqAGnAZcBhQFvAVwBTwE1ASIBDwECAesA1QDGAL0AuQCtAKMAmgCNAJYAkwCaAIYAgQByAGwAWABPAEkARQA+ADAAKAAdABAA///o/9f/1P/Y/9P/zf/M/8n/zf/K/8z/1//W/9b/0//U/8n/xf+8/8T/vP+0/6H/lf+J/3r/bf9h/1z/TP9G/0j/Sv9V/0T/Rv9C/0D/Qf82/zP/L/8p/yX/K/8s/yn/Ff8K/wH/8P7Y/sD+vf6//sX+vf7F/tT+3P7f/uP+8P7+/gf/AP8G/w//FP8Y/xH/FP8b/xr/Ff8Q/w//C/8M/w3/H/8s/z3/Ov89/zP/LP8n/yj/HP8J/+D+w/6j/pD+d/5p/lf+U/5F/j7+KP4W/hH+F/4g/iX+IP4h/iT+KP4r/jD+Sv5r/oH+hf6E/oz+sv7i/jH/gf+9/9T/4v8UAFcArgDzACsBUQFmAYMBtAHzASkCVQJzAo4CkAKfAqwC0ALnAgYDKQNWA3cDigOTA5wDqgO/A+ID/AMMBBQEHAQ5BE0EaQRyBG4EdARyBG8EXARIBEQEPgQgBOkDswOEA10DMwP1Ar4CYgIeAtwBwgGpAZkBfwFpAU0BQQFQAWcBbwFnAVoBRQEzARgBCAH5AN4AuwCTAGsAPAAMANr/uf+Z/37/Xf9H/yv/Hf8W/xP/EP8Q/w7/Ff8F/wT/Cf8h/zr/Vf90/5L/pf/A/9r/DAAjADwASQBQAFMAVwBkAH8AggCGAH4AiACFAIkAkACdALAAxQDhAPcA9wDlANYA0wDZANYA0QCvAKgAlwCgAJcAlACOAJAAkgCJAJYAlgCeAKcArACvAKIAigCGAHsAaQBOADEAHQD//9f/pf+O/3f/av9b/1T/Uv9S/0//Tf9S/1f/Yv9r/3L/bv9w/3f/iv+x/9D/7//m/9H/u//a//r/GAAJAOr/3v/i/wUAJQA7ADUAKAAfACoAPgBjAI0AtgDTAO0AEgE9AVwBcgGGAZ8BuAHDAckByAHPAdAB2gHnAekB9QHyAQICEQIdAigCKQI9AkkCRQIzAhsCBQLwAcsBmgFnASYB8QC+ALAAmwB8AFEAGgD1/9v/zv+6/5z/a/9J/0D/PP8u/xr/AP/8/vT+7v7q/uD+1P7C/r/+uf7I/sX+0P7Y/uH+8P7w/vH+5/7l/uP+7P70/gr/FP8s/0D/YP99/5D/pv+//+P/BgAdADIAQQBTAGIAbwBzAGcAWQBTAEsAQwA5ACwALgAcABYABwAOAAMA7P/N/63/m/+K/2r/Uv8o/xb/+f7q/tT+xv69/r/+v/61/rT+uP7D/sb+yP7D/sn+0f7M/tT+u/6x/qH+nP6a/pD+kP5//nn+Y/5X/kv+Qf5C/kT+Q/48/jL+M/44/jb+OP43/jH+Kv4Z/hz+Hv4v/jz+SP5P/k/+W/5i/nX+fP6U/rv+/P45/3D/l/++/+7/NgCLAPEAOQF6AaYB4QEjAmUCpQLJAuAC4wL2AgADEwMeAysDPAM9A0cDWgNyA3kDdwN5A3wDfANwA2YDWwNHAzkDKQMSA+QCvgKRAnECRAIbAvYB2wG2AZMBbAE6AQ8B5ADIAJcAZwAmAAEA2v/A/7X/p/+a/4X/df9//4H/hP+D/4D/f/9z/2L/W/9W/1n/Sv86/yj/H/8f/x7/If8e/x//If8x/zj/Tv9d/4T/n/+3/8f/0f/p//n/BQARACAAPQBdAHMAhgCTAKcAwQDZAPEAAgEPARgBHAEcASoBNQE3ASsBFAH9AOQA1QDHALsAswCuAKYAngCOAHkAZwBYAEMANwAcAAMA6v/P/8L/q/+f/5T/mP+W/4n/eP9o/1z/XP9X/1L/Of8h/wf/9P7g/sr+sv6b/oX+gv5+/oL+hP6J/qD+pv61/rv+0/7p/vr++v70/vb+AP8M/xn/Gv8P/wz/Df8M/xT/Hv83/1T/ev+i/8f/x//M/+j/LQCCAKgArQCvAMQAAgFDAYEBnwGmAaoBrQHDAcwB3wHgAeIB1wHMAbgBogGJAWwBWQFHATkBLQETAQMB+gD9AAUBAgH5AN4A2ADZAOYA3wC/AKAAjACDAHEASQAfAPv/6v/f/8P/n/94/2H/U/9J/0r/OP8g//X+7P7w/gD/9/7Y/rL+mf6S/pf+nP6c/pH+hv5w/mv+X/5n/mL+XP5O/jv+Jv4W/hP+C/4O/gf+BP73/e797P39/Q3+Gv4i/jL+Qv5Y/nn+m/68/uD+/P4m/zL/SP9Q/2n/hf+n/8r/4f/e/+3/9P8PABQADQARAAMA9v/j/9r/2P/O/73/q/+b/4P/ef9w/2//YP9c/1n/Z/9b/0r/Of8x/zL/I/8T//D+4/7U/sv+vP6t/q7+sf6i/pr+j/6Y/pz+nf6i/qX+qf6f/pj+nv6v/rj+qv6b/pL+mv6i/q/+t/7D/r/+xv7B/sv+wP7J/s7+3v7o/uT+7v7s/gr/Fv8z/zz/TP9g/3L/l//P/xsATABkAHMAlADRAPoAIQE3AVABcwGRAbsB1wH7ARwCTQJ0ApcCvwLbAvsCDgMyA2ADjwOvA8MDzAPkA+wDBgQEBAwEEAQJBAoE/QP/AwEE+wPuA9oDxwO0A6EDkgN/A2MDOgMQA/wC1gKzAnQCRgIXAvIBvwGQAVwBPgEWAfUA2wC5AJ4AdgBiAFUARwAiAAYA8P/p/9H/sv+k/5b/lf+D/3T/Wv9I/zj/Lv8o/xr/G/8S/w3/CP8C/wr/Ef8i/zj/Rf9b/3P/lP+3/9L///8lAEsAYQB6AJIApwC3AL8AxgDGAMoAwwC+AL8AygDJAMMAxQDOAOUA5ADtAPcABAEIARIBHAEoASwBKQEsARoBDQH8APIA4wDVANAAzAC4AKwAnACWAIMAdwB3AHYAYQBMADIAKQAcAA4ABwDw/9X/sP+c/4v/jf+K/4f/c/9l/0//Tv9K/1D/S/9G/0f/Vf9l/23/c/97/5X/q//E/9r/7P8KACoAVAB8AJwAtADIANEA5gD9ABsBLwE5AT4BRgFLAWYBcQGGAXsBeAF4AXkBeAFmAWMBXAFVAUUBNQEiAQ8BAQHwAOEAxwCwAJYAhwB2AHAAaABmAFQARQArABgACAD4/+j/0P+//6//l/96/2v/bP9t/2f/Uv9L/0f/UP9X/2b/bv9z/3r/fP+A/4T/kf+Z/4//g/90/3j/b/9k/1r/T/9K/zr/KP8U//7+9v7w/uv+0P7F/r7+y/7Q/tj+5P78/gD/Cv8S/y3/Pf9I/0f/Uf9W/1r/Uf9K/z3/Of86/y3/J/8U/xb/Fv8Z/xz/Hv8Z/xv/IP8a/xP//P73/ur+3v7L/r7+tf6j/pb+ff5n/kv+OP4l/hb+Bf75/er90v26/an9n/2k/an9t/27/az9rP20/dH9Af4+/oj+z/4P/1H/k//U/x0AdgDOAAwBOAFKAXcBnwHYAQUCKAI8AlMCYgJ4AnwClgK4Au4CHwNYA4IDrQPQA/IDGQQ3BEwEWwRWBE4ETQRbBGYEZgRVBD4EIgQDBOUD2AO6A6EDgQNhA0UDHwP4AscCmQJ3Al8CQAIFAt8BxQHLAbsBoQGIAWwBYQFHAUABJQELAegAzACjAHsARwAjAAMA5v/E/6n/if96/2n/X/9d/1b/Wf9Q/0r/S/9E/0b/QP86/yr/EP8H/wb/Hf81/1H/av91/4D/kv+9/9b/6//r/+7/9P/t/+v/4P/g/+n/7//t/+P/4f/z/wEAFwAuAFAAagB2AIEAiACZAJ0AnACeAI0AegBUADMAIAASABMAAwD5/+D/x/+v/6b/qv+m/6P/lf+T/4r/gP91/3H/a/9v/3P/ev+D/43/qf/C/8//3v/k/wIAEwAgACUAKgA1AD0ASgBMAE0ASgBLAFsAcQCIAIoAigCSALYA1ADfAMsA0gDnAAoBGAEUAQcB+QDwAO4A+gAMARcBGQEfARgBGQEZARQBJAEiAS0BJwEpATgBTgFMAUABJAEuAUEBUAFFASsBFwEZASIBKAEVAfEAzQClAI8AdgBnAE8AJgD2/9j/zf+7/5r/cv9b/0r/OP8n/xn/Ff8M/wT/8/7r/tz+2f7G/sH+sv6t/pX+fP5h/lL+Qv4t/hT++v3p/c79xP2q/Yz9Zf1N/VL9Wv1g/V39X/1r/YX9lv2y/br9zv3d/er9+/38/Rb+IP44/jD+LP4p/j/+TP5d/lb+Xf5l/nX+gv6U/qT+tP62/sT+2/71/gr/Ef8j/yH/Jf8n/zn/R/9W/17/aP9y/2X/Xv9S/0X/M/8l/yP/I/8Z/wj/+P7m/uT+6v7+/g7/C/8E/wP/Bv8V/w7//v7j/sz+uv6t/pv+fP5X/jT+Jv4X/gP+4/3V/cz91v3T/dz93/3u/f79Dv4f/jP+SP5i/mj+ef6E/qr+1f4Y/13/pP/K/+v/CwBRAKkA/AA5AVMBaQGOAcIB/AEsAlMCeAKKAqUCuwLyAh0DSQNYA3oDrAPqAw0EHwQRBBgEGgQpBC4EKQQRBP4D8APqA+QDzAO1A5QDeANdA0ADGwP4AtACrQJ0Aj0CAwLbAbIBhgFTASUB+ADUAL0AqACXAHkAVQAyAA4A+f/g/8v/mf92/0X/Lv8M/+v+zf60/pX+h/52/nz+fP6D/pH+mP6q/rL+0v7o/v3+Cv8e/zv/TP9a/1//cP+F/6X/wP/R/+X/+P8VACMALwA/AFUAZwB7AIUAjQCOAJUAoQCvALMArwC1AMEAxgDKAMYA1gDjAPMA+QDxAN8AxwCxAKAAhQBiADwAIwAFAPn/6v/m/9j/w//D/9H/0P/C/6r/r/+8/73/tf+e/4X/Zf9f/1f/Yv9u/43/mP+F/1//bP+U/97///8BAOb/yf/U//3/JQAsABIABQAHAB4APABVAG0AkQC4AOMA/wATATQBTwFeAWkBfAGcAaQBkwF4AXYBhQGNAYABVgE9ATIBRAFDATsBMwEtASoBGAEDAfsA9wDoANMAugCsAJYAewBgAE4AUQBUAEMALAAUABgAGAAPAPr/5v/O/7T/nf+M/4b/c/9f/zj/J/8O/wv/+v7u/t7+1P7M/sz+1/7f/tX+vf6r/rH+rv6i/pH+lP6X/pb+hf5+/nr+ev58/oD+fP5y/m3+bv5w/mX+av58/p7+o/6e/pv+pv62/sf+1/7n/vL+8/72/vX++P75/v/++v7y/uP+3P7Q/sf+sv6u/q7+tf7D/sn+1f7f/vb+Cv8Q/xL/FP8x/0H/Tf9F/0X/Rv9I/z7/MP8X/wn/Av///uz+w/6s/qj+sf6s/qD+lf6J/nD+Tf49/kn+Y/53/nb+eP52/ov+pv7L/ub+CP83/3v/1v8iAHUAsADnADEBhAHqATUCaQKBAqkC1QIYA0sDbwOGA6gDyQPwAwsEKgREBGEEigTEBP0EEQUWBRQFHQUvBTEFKwUYBfkE1gS4BJ8EjQRxBFAEJwQFBOoD2gO3A5EDVwMwAw8D+wLXArUChwJlAj8CFwLoAcIBnQGQAYsBfQFqAUYBLwEZAQYB8ADdALsAmgBqAEsALQAaAAMA5P/I/7D/s//E/8D/sv+g/5z/pf+w/77/yv/P/87/3v/s//P/4P/M/8r/1P/q//j/9//0/+7///8GAAsAEQASABoADwAGAP///P8CAPz/BwAKABgAEwATAA0ADQAXABcAHgAOAP//4//U/8j/tf+W/2v/T/85/yT/GP8O/xj/Fv8j/yX/M/8z/zj/Rf9R/2H/cP94/4H/ef97/37/gf+F/5f/p/++/8//AgBLAJEAmwB8AEwAUACTAOcABgHVAIQATQBOAHMAoQC9AL0AnQB+AGsAfgCeAMoA4wAEAQ8BGAEQAQwBGAEdASABFQEPAREBBgEEAQkBGwElARMB+gDeAMkAwACvAJ0AdgBEACAAAgDx/9r/yf+5/6f/kP9+/3z/gf+H/5T/q/+x/6n/iv+B/3b/eP9p/1//Rf8t/w3/9/7j/uT+5/7k/sT+nv6L/oT+hP5y/mr+YP5T/kP+Kv4a/gj+//35/e/95v3V/cX9vP24/cf9y/3D/bH9p/2m/Z39lP2B/Xv9c/1r/WD9Zv11/Y79mP2l/an9v/3R/eH9+f0C/hX+F/4Q/vf94f3S/dX92/3T/cv9uf2v/az9qv2w/ab9p/2z/b79uP2q/aH9rf2v/bP9sf2//cr90f3V/dL9zv3L/dz96f32/e797f3t/fb9BP4T/h7+E/4W/hn+L/47/k3+aP6F/qH+uP7U/vb+D/8a/w7/GP8n/1X/dP+O/6T/yf/1/zgAjgD9AGEBpgHWARACZwLDAhgDTAN0A4gDrAPCA+UD7AP2A/wDEAQgBBoEAATwA/sDIwROBG8EdAR0BHAEgwSWBJAEiAR+BGsEUAQ3BCUEKQQPBOsDzAOxA4oDXQMqAwkD0QKhAnECWAInAvIBwAGZAYABXgE6ARIB6gDLAMIAxgDOAMwAvQCgAIUAawBhAEkALwAUAP//7P/e/93/3f/g/9n/3//x/wQABwAOABYAPABVAGwAZwBeAFwAXQBrAG4AdwBwAG8AYwBiAGEAagB1AH4AfQB4AGwAcAByAG0AaABRAE4AQAAwACAAAgD7/+//6//V/7j/ov+Y/43/hv9s/1T/Nv8d/wr/8f7U/sL+r/6q/pz+hv55/nH+gP6I/pn+lv6i/qb+r/65/sv+5f78/gr/Hf82/1n/gP+s/9X/AAAbADIAQgBhAKIA6wAtAToBMgEvAU0BhAGvAcMBvAG3AboBzwHyASECUAJmAm0CcQKFAqECwwLcAu0C8QLoAugC5gL3AgQDDwMPA/oC8ALdAtgC0QLYAuMC1AKzAoACXQI9AjMCGwIJAtsBsAGKAWQBTAEkARoBCAH+APAA4gDRALwAnQCPAHwAbwBXAEUAMQAZAAgA/f/4/+D/uv+b/4j/hf+D/3r/Z/9X/0j/Qv8y/yf/Hf8f/xD/8/7X/s/+1P7k/un+8P7u/uz++P4R/yT/K/8t/yv/OP8z/yr/G/8O/xT/Ev8K//D+5f7g/t3+2P7U/tP+2f7L/sb+v/63/rH+ov6Q/oT+c/5u/lz+TP46/jj+MP4p/hH+AP7z/er94/3Y/c/9xP3F/cj9wf3F/cT93P3m/e79+v0M/hj+G/4l/i3+Nf4p/ib+Jv4g/gn+6P3V/cX9vv23/bf9uf2y/aj9q/23/db98P0D/hP+K/5J/mz+iP6d/sP+4P78/hP/Lf9W/4//7f90AAkBdgGgAagBtgEGAmQCugLFAp8CZQJHAlwCjgLRAuQC5QLRAtwC9gInA08DkAPTAyQEagSSBKsEmgSQBGsERQQQBMwDiwNTAzMDJAMZA/8C0AKJAkICDgL0AfIB1gG5AYMBWQE5ATYBOwEsAf8AygCpAJwAhgBqAFAATwBdAHAAaABPABkA6v/P/7//t/+q/5P/c/9g/1r/cP+D/4n/lP+l/8r/7P8GACEALgA8AEUAUABmAGsAXwBCACUAEQAIAPT/4f/K/7z/vP+9/8n/uv+v/53/mP+S/5f/j/+G/2//U/9I/0f/PP8j/wf/+/7+/gP/AP/6/u7+2/7a/tT+0P6w/pb+ef5h/j3+H/4K/vr94/3X/eP99f0I/gf+DP4J/hb+Hv4w/i7+LP4k/h/+E/4H/vH9/v3z/QP+A/4J/gn++/0C/in+b/61/tH+yP65/tD+Bv9M/4T/t//J/8P/tv/W/y0AiAC/AL0AsACpALcA3gABASkBLwEsARYBBwEHASEBOgFIAUMBQQEsARoBEgE4AWMBbAFAAf0A0AC7AJwAfwBaADgA+f+y/3z/bv95/3P/WP9C/z3/R/9M/1D/Wv9p/3H/cf9l/2H/Wv9Q/z7/Lf8y/zH/Jf/9/u7+6P7u/t/+0f6//rL+m/6H/oP+gv5//on+kv6n/rP+xf7m/vz+Hv8y/1D/Xv9q/27/dP9n/1b/SP84/yX/A//o/tP+zP63/rP+r/6+/rv+w/7B/tX+3f7v/vT+AP/2/vL+7/7t/vP+5P7a/sr+tf6k/o3+gP52/m7+Yf5W/jz+NP4k/iL+Gv4O/g7+EP4Z/iT+JP4j/if+LP4//kr+Uv5P/lX+YP5p/nH+av5i/kL+LP4b/hb+BP7m/dr90P3I/bj9rP2x/bD9v/3K/dX9yf3Q/dz9+P33/QP+EP4t/kT+W/5x/nv+jv6r/t3+Bv9H/67/MgCZAMsA4AAMAVoBvQEXAkcCZAJ1ApwCvQLhAgIDJQM6A0kDVwNyA4kDkgOjA7sD7QMCBA0EBgQNBAkEAwTpA9YDwwOuA4cDYwNJAzIDFAPiArACigJvAlkCNQINAuQBxgGpAYYBZwFZAUcBNgEXARIBCgEBAegA1gDLANAA2wDZAMYAqACPAI4AjQCUAKEApwCcAIsAigCYAK8AtwDDANUA5gADAR0BIwEXAQkBGQErATkBMwEoAR4BCgH2AOUA2QDUAMEAqQCQAIMAgwB9AHcAdgB0AHcAcwBxAGgAVQBCAD4APwA1ACUADQABAPT/8v/t/9b/vv+k/6X/oP+W/3f/XP9I/zX/Kf8c/xv/Ef8G/+z+4P7Y/tn+2/7K/sX+sf6p/pz+kf6U/qT+wP7a/u3+BP8S/y//Ov9X/2X/fv+D/5L/ov/P/xIAUQBzAGoAVwBlAJwA3gACAQQB+QAAARkBNQFaAXkBmwGfAZoBigGRAaEBsQHBAdoB8QHxAeAB4QEGAj8CSwIXAtoBugHIAdYB2gHZAdEBsQFzATsBJgEgAR4B/wDfALUAlgCOAJcAnwCjAKAAnACUAJgAmQCcAIQAcwBmAGoAYQBLACwAFwAVABMAAgDi/8//zv/Y/9X/0f/Q/9b/z//Q/8z/y//B/7z/wv/S/+v//P8KAAIA//8AAAoAAwD4/+3/0//K/7v/xv/F/7r/q/+g/5X/iP+H/3//gP90/3H/fP+H/5T/j/+K/4b/lP+V/5D/fP9u/2r/ZP9e/17/af9l/2H/VP9b/2P/Zf9l/1v/X/9f/2j/a/9r/2f/Yv9r/3T/df9p/1v/V/9Z/1f/RP8s/xD/8/7l/sb+sP6Q/n3+Xv5E/h/+DP77/ej92f3U/dT9zv24/bf9tf3I/cr9yv3R/df98/0E/h7+K/4+/kr+bv6o/hL/hv/p/ysAUwB1AMUAJgGUAdsBBwIfAjgCTgJ9ArgC7gILAykDRwNqA2sDbANsA40DsAPhA/wDBQT3A/cD+wP1A+ADxAOkA4UDXwNIA0IDPAMhA+4CuAKBAl8CQgIvAhcC+gHeAc4BxAG0AaIBkwGQAYcBewFeATgBHgEXASMBMAE3ATgBLAEGAdoAxADLAM0AtACQAIAAggCHAIQAewB7AH8AigCOAI4AkwCaAKQAnQClAK0AvAC5ALAApwCbAIkAaABLACsAGgAAAPT/6P/i/9v/zP+9/77/yf/J/8L/qv+j/6H/q/+o/5X/h/92/23/Wv9F/zD/D//e/rb+oP6Y/nf+VP4l/gL+1/2t/Zr9i/18/W79Xv1g/WL9b/2K/Z/9qf24/cz92/3m/eX9/v0i/ln+mf7K/t7+x/67/tz+C/87/zn/Pf9O/4z/yP/4/wIA7P/l//7/QwB+AIwAhwCCAKIAuQDbAPIAEAEeAR0BFAEGAQQB/wARAR4BNgFCAUkBQQE0ASoBHgETARQBBwEDAegA4QDlAPAA/wDnAMsAowCdAKsAtwCmAI0AcQBpAGMAaQBlAFYAQAAoACAADQD3/+z/3v/S/7P/o/+T/4n/c/9Z/0T/Lv8a/wr/9f7n/tf+2f7L/r3+qf6k/qH+mf6K/nX+a/5g/mH+YP5t/nn+hv55/nT+dv6P/p/+pP6e/qH+o/6s/qj+q/6p/q7+tf62/rn+uv7E/sz+0P7O/tf+3/7k/uH+4v7f/tr+zv7B/sH+sv62/rH+sv6m/qb+qP6u/q/+qf60/rz+vv62/q3+r/6x/rj+vf66/r7+vv65/rL+o/6i/qn+qP6i/pL+h/58/mv+Yv5L/kj+Nf4v/hj+Gf4I/gn+/P32/QT+A/4Q/gf+Cv4N/iD+Lv5T/l7+d/6K/qb+x/7c/gD/Nf+K//f/ZwDEAPYALwF0AdoBMQJ6AqICrwK3As4CFQNwA7YD0gPlA+8DCAQTBCoEPwRoBHkEiAR0BG4EZgRtBFkELgQHBOMDvwOJA14DTgNUA1EDPgMpAw4D7wLJAqkClQJoAkgCDgLzAdcBxAGsAYMBVgEvAQ0B5gC4AJoAiQCPAIYAhwB5AG0ATwA5ADIAOQA4ACcAGAAGAAMA9f/z//b/AgAOABEADgAFABQAGwAwADAANwBAAFEAVwBRAEoASABTAF0AYQBhAF8AXwBWAEwASQBIAE4ARgBCADMAJwASAAkA9//r/9n/xv+6/6T/lf99/23/Y/9e/1D/Ov8j/yX/H/8d/wH/2/6x/oT+cf5n/lb+RP4p/hb+A/74/Qr+G/4j/iL+L/5P/mv+iP6h/r3+2v4W/27/yf/x//P/5f/+/0IAlgDEALkApgC4APwALwFKAUUBQQFDAUUBWQFiAWYBXwFcAWcBZAFrAW4BfgF8AXsBaAFmAVgBWgFOAU4BUwFfAV4BSAE4ATUBOgEvAQkB4gDCAMcA0gDcANEAuACZAHkAZABeAGQAWAA2ABQAEwAcACkAGQAUAAIA9v/g/97/0//M/6r/jf9s/17/Tf8x/wb/6P7a/tP+yP6u/pf+hv6D/ov+lP6K/nn+a/5v/oX+kf6R/n/+ef51/ob+iv6L/pf+lv6U/pb+nv6k/qP+mP6X/pr+n/6r/rr+wP66/rX+uf6+/sH+tf6+/q/+sP6s/qb+nf6E/nL+av5c/kD+Jf4Y/hL+Ef4H/gz+Cv4I/g7+IP42/kL+T/5f/nL+ef6A/ov+lv6W/pX+lf6O/oz+hv6J/of+g/6B/oH+jP6T/pn+oP6a/qr+sv60/qv+m/6c/pv+kf6K/oz+mP6N/oH+Z/5y/nD+dv5v/nD+b/51/oH+mv62/sL+z/7W/u3+Av8g/0j/o/8EAGkAoAC2ANAA9ABBAY4BzQHnAeYB5wHqAQUCLwJSAl0CZgJyApUCqwK9AtUC+QIjA1cDiAO1A9ID2wPqA+oD6wPhA8gDrAOEA3kDbQNrA0QDFQPlAr4CsgKkAo8CbQJBAh4C+gHrAd0B3QHGAboBsgGwAZ4BdAFQATUBIAEWARIBCgH2AM0ArQCUAIcAfwByAF0ASwA7AD4AMgAyACwAMwA/AFMAaQB3AHkAdwCBAJIAqQCtAKwAqgCiAKoAogCoAKUApQCYAJAAgQB3AGoAWABCADwAOABDADsALQATAAAA4//K/6j/jv9m/0b/Kf8c/xH///7p/tL+x/64/rL+pv6g/pL+f/5y/mP+Wf5I/jf+L/41/jv+R/5G/kb+Sf5S/mX+eP6g/sX+Bv8x/03/RP8j/yf/VP+j/9P/2v/Z//H/DQAaACgAVwCbAMcAzQDLAOsAEgEzAUABWAFrAYEBiAGSAZ8BnQGcAXsBeAFwAYEBfgF5AXgBhAGJAWABIwHtAOAA9QD5APUA3gDJALMAqwCuALoAyQDOAM4AzwDCALAAmwCVAKAAmwCQAHsAaQBJACcA+v/d/8r/tv+e/3//Xf9N/0H/Nv8h/wz/Cf8B//j+8f7r/vf+7/7t/uj+5v7k/tz+zv65/rD+t/6w/qf+nf6s/r7+xf7H/sz+0/7R/tb+3f7r/uv+5f7b/t7+1/7k/tr+5P7U/tH+w/60/qb+oP6a/pb+kP6H/n3+bP5d/lD+Of4k/hP+DP75/fD93f3h/dn94v3j/eX96P3l/ev95v3X/c79xv3G/cL9vP23/bH9ov2l/aP9p/2g/ab9r/20/a79qP2q/ar9o/2Y/ZP9jP17/Wr9Wv1K/Tz9LP0j/Rj9FP0L/fv88/zt/AD9Cv0P/RX9Lf1V/Xv9k/2j/bz95P0e/mr+zv5B/6z/4v/4/xsAZADFAAUBJwE6AUQBRAFQAXkBqwHSAeUBAwIyAlUCbgJ8ArIC8wI0A2cDiQOoA74DzwPcA9QDxAOkA38DXQNDA0EDNwMaA+oCsAKKAmQCRgIzAhUC+gHGAaUBjwF4AWEBSAE/AS8BJAEOAQAB7ADhANUAzwDIALsAsQCVAHUAVAA1ACcACwD7/9r/yP+2/6f/of+e/7L/x//T/9f/0v/b/9//5//h/+P/5//u/+z/3f/F/7f/qf+m/5T/g/9r/2D/Wv9S/0j/QP9F/1D/X/9v/3j/cP9d/0//Pf8t/xP/+v73/uv+2f7H/qX+mP6A/nX+aP5n/mj+Wf5C/jD+If4c/gz+CP4C/vP96P3d/ev96v3n/en98f0J/iT+RP5m/m7+jf6w/tn+0/6u/pL+pf7P/gL/Ev8S/wL/EP8u/2D/i/+s/8X/1P/o/wIAJABHAGIAdACCAIoAmQCmALQAuwC+ALUAsQDCANoA6gDkAN0A4QDlAO8A+QAQARsBBgHwAOgA+QAKARIBEgEOAQIB6gDZAM8A2QDYAMQAqgCZAI0AiwB0AGoAVQBAACMABADv/+r/7P/i/8f/o/+G/3P/Z/9h/2b/av9h/0D/Kv8g/yz/Mv9A/zj/Of8q/y7/KP8r/yr/I/8i/x//If8j/x//Iv8v/zP/OP87/0T/TP9P/03/Sf87/zD/Nf87/z3/Lv8l/xL/DP///gb/BP/+/vj+8v7u/uf+1/7V/sX+tf6x/rD+tP6w/q3+q/6d/pX+kP6g/qD+o/6s/rb+wP67/sD+xf7U/uH+6/7y/ur+6v7q/vX+AP8K/xL/H/8f/yj/KP8q/yv/Hf8O/wH/+f7u/uT+0/7M/sH+r/6n/qD+p/6i/qX+sP63/rf+pP6q/rP+y/7Y/tz+3P7a/u7+Dv83/3f/xv8rAHMAsQDUABIBVQGqAfEBFQIrAjECVgJuAokCoQLDAu4CGwNGA2UDiQOrA+QDHwRTBIEEogTIBNoE6ATpBNwE2wS8BKYEfQRkBFMEQAQfBOkDtQOMA3IDXANJAzADCQPuAtUC0wLDArwCtQK7Ar0CtwKmAo4CdgJkAlkCTgI4AiYCDQLwAcwBpgGXAYEBcAFTAUEBJgEPAfgA+QABAQgBGQEeASEBFwEXARoBHQEVARABBAH1AN8A0QC7AKkAjAB3AFkAPQAfABgABgAEAPD/7P/m/+n/5//k/9L/y/+x/5n/cf9N/yz/Bf/j/s/+tP6U/m3+Wv5N/kD+Lv4a/gz++/38/fj9+P3i/eL93f3h/dL90P3Q/d792/3j/ef98f0C/i7+av6j/q/+lP5r/l3+ev6p/sv+2f7Q/sb+wP7W/gT/Nv9g/3T/jP+g/8H/2f8AACYATwBrAHcAdABwAG8AbQBvAGcAXABRAFIAWABfAHAAgwCmAKAAngCdAMIA5wDxAOEAzgDIANUA5wD4AN4AvwCVAIMAfABsAGMAQQAeAAQA+f/1/+n/1P+//6X/jv+E/4P/e/9u/1v/RP8u/xj/C//w/tj+vf6y/pz+cP5V/kL+Of4y/iv+M/4s/if+Gf4i/in+NP4y/jH+Pf5N/l3+cP59/oj+g/6G/pL+l/6Y/ov+iv58/nb+cf54/nX+ZP5T/kf+Pv42/jT+Lf4i/hj+EP4J/vX96/3q/eP9y/2w/Zj9hv1v/V/9T/0//Tb9Lf0l/S39Mv1X/WL9bP1t/XP9kP2r/dD93/3y/QH+Cf4H/gz+Hf4z/jr+QP5L/kv+SP46/kr+Tf5Q/k/+VP5H/i3+GP4T/hv+Gf4b/hX+B/76/ez96P3k/en9+P36/fz9+/0R/hf+Iv4f/jT+Sf5e/nH+hf66/h7/k/8EAD0AbQCYAO4ARQGkAdkBBAIjAkECbAKeAuQCKANiA3cDjQOOA60D1gMVBFUEiASyBMwE7gQHBTAFPQVKBUQFOwUWBfUE4wTsBPEE5QS9BIYEQgQKBPED2gO5A4ADTQMjAxMDDgMWAwQD7gLXAtACuQKIAmsCagJuAl4CRwI9AjECHwILAvoB7AHPAbcBmAGBAXABXgFRATQBKQEsAT8BTQFMAUgBOwErASMBKgE2ATsBKgEVAfYA3ADRAMEAsACTAHMAVQA8AC4AHQAYABIAGAATABIACwAIAPv/3P+7/6X/kf+D/27/U/84/x3/Cv/s/sX+nf6P/o/+g/5y/mP+Xf5X/ln+X/5p/mz+Zv5k/lz+XP5g/mr+fP6W/qT+ov6g/q/+4f75/gn/+f7r/tz+0v7T/uf++/7//vH+4/7u/hf/Vf97/5P/mP+u/9L//v8rAGEAggCcAJQAoQCpALsAugC1ALcAswCvAK8AtQDIANcA8QADARUBHgEwAUYBXwF6AZQBngGfAZUBogGwAbUBnQFsAToBGAEOAQMB7gDLAJwAbABWAEIAPgAnAAwA+v/1//L/6v/p/9n/zP+v/5b/f/9t/1H/Pv8l/w3/9v7a/r7+ov6H/nP+Z/5T/kP+M/4p/hr+C/4P/hT+D/76/f79Dv4j/in+MP4x/jb+Mf5E/kX+Rv4t/h/+Hf4g/if+JP4c/hb+C/4W/hT+HP4X/hT+Ef4O/gj+Af7//ev95P3L/cf9v/22/aX9k/2H/Xf9bv1n/WT9X/1b/Vr9Xv1e/Wr9df15/Xz9mf21/cb9w/3L/dj94f3j/fL9//0O/gn+E/4S/if+Iv4l/iL+Hf4h/hH+BP7+/QH+8v3n/eD94f3b/dT91P3H/a/9m/2c/Zb9m/2Y/Zn9jP2A/Y79p/3E/dX97P31/Qj+HP5A/nH+s/4I/1//rf/5/ygAUwB4ALEA+ABCAZAB4QEaAlQCbAKhAswCCAMoAy4DKgMgAykDNgNYA3IDiwObA6EDoQOdA5sDlwOaA6EDtAO+A7YDpgOoA6MDkQNlAzID+QLMAqMCjgJoAlMCMAIZAvsB1wHVAc0B2QHZAeEB4wHeAd0B6gEPAi4CPgJAAkICRAI9AjMCLAIqAiMCIAIPAv4B6QHUAcsBwwHLAdEB0wHHAbYBlgGCAXUBfQF7AXwBcgF1AV0BOgETAf0A6QDIAJUAegBmAHIAaABoAFsAVABEADgAJAARAPz/+f/3//L/0v+//7z/xP/F/8L/zf/V/83/xP+1/67/kf+B/3L/XP8+/yb/J/8z/zf/T/9g/3v/f/+a/7b/2//2/ygAUwCMALsA2gDhAMEAsQCzAMAA0ADXANIAwQCrAKgArACmAKAApQC3AMUA2QD1ABEBMQFCAV4BegGTAa0BzgHxAfoB9wHoAegB7QH/ASQCSwJpAnECZQJOAkwCWwKBAqICqQK2ArsCxwLYAucC9ALmAuoC3wLZAsACqQKfAoYCZgJLAjsCJwL6AcABnQF7AWEBOQEjAQEB1ACuAIwAhgBnAEMAGgAJAPn/7f/f/73/kf90/3H/bP9O/yb/Gv8Y/xv/Bv/7/vH+5/7m/uP+7P73/hL/HP8o/yf/Lf8w/yP/Ff8H/wD/Bf/2/u3+2v7N/rT+mf6H/n3+Yf5L/jD+Iv4G/vn9+f3y/d39w/27/av9mf2Q/aj9tv24/av9r/2y/aj9nP2a/aD9s/29/dz94/32/fj9Bf4J/hH+G/4v/jf+PP4j/ir+Lv5P/lj+Y/5j/mP+X/5h/mP+aP5Z/kn+Mf4d/hP+C/4B/u392/3e/d/96f3n/dj9zf3H/eD99/3+/ff9+f0D/hP+If4o/jD+L/5C/lz+jf7O/iz/mf/v/yoAVQB+AMcAFAFhAZEBrAGyAcoB4QELAicCOAI3AjQCQgJgAn4CjQKkAsgCBAMuA1IDbAOTA6oDtQOuA6MDigOCA4IDgwNyA0oDLAMFA9YCnQJ8AmYCVwI6AhkCAAL4AQUCBwL+AfUB7AHyAfAB+gELAhECEwIHAgkCAgL1AesB1gHGAbcBrAGcAYQBYgFLATEBGAH6ANgAywC2ALMApgCjAJkAhABkAEoAOAAuACIAHAAQAPz/7P/d/9T/tf+U/3D/YP9V/0z/Sv9D/0//VP9b/1j/UP9I/zv/Q/9F/0T/Mf8g/xj/Gv8U//z+2P6z/pn+iv6C/nn+e/5x/mP+Vv5R/lv+Vv5S/kn+RP5S/mD+df6E/pb+tP7K/tr+6f77/iP/Qf9b/1//Vv9b/1j/Xv9T/0X/Of8p/z3/Uf95/5L/pP+d/5X/nf/K//b/GQAjAC4ANAA2ADQAQgBQAF4AYQBYAF0AYgB7AIgAlwCtAMIA1gDdAOwA+gAXASkBLgEwASkBOAFEAVwBZwFoAWIBUgFOAUIBQgE+ATYBLQEhARYBDQH7APkA7ADmANYA0wDQAMcAqQCUAH0AeQB1AG4AVgA9ACEADAD5/+H/0f/I/7f/rf+T/4//gf91/2P/Wv9Y/0//Sf8+/z3/Rf9E/0v/Sf9W/1D/UP9O/0v/R/8t/x7/Bf/1/uz+7P7x/uX+0v7E/sD+tf6t/qb+q/6p/qb+mP6M/oH+e/5s/mX+Xv5Z/lb+TP5N/lX+U/5c/mH+df5+/oD+gv6O/pL+mf6h/q7+tv7C/sX+0f7N/tL+2/7z/gD/B/8S/xP/Ff8W/xX/Hf8V/w7/A//2/u7+7v7u/uH+0f7F/sP+xf68/rz+wP7C/s3+z/7f/uD+5v7v/vr+/v78/v3++f4C///+FP8f/z//Yv+k/9//LgBaAIIAkQCzAO0ANQF2AZQBnwGaAaABtwHMAesB9QEAAvoB+gH8ARQCLwJQAmQCeAJ7AowCmAKmAqsCrQKlAp8CkwKAAngCYgJTAi4CEgLpAcABoAGOAZoBmAGQAXgBZQFWAVIBXQFyAX4BdAF5AYABhgF/AXQBeAGCAX0BfQF3AW4BUgEzASEBAwH5AOMA3QDMAK4AnwCSAIAAfQBuAGsAZgBfAGMAWwBSAD4AOAAwADIAKwAdAAUA8v/b/8X/pf+B/2j/Tf9B/zP/Lf8r/y7/Lf8k/yj/M/88/zv/M/87/zv/N/8z/zP/Lv8i/wr/Av/s/tv+1P7F/rv+rf6z/q7+qP6P/pL+kP6W/pT+kf6I/oj+kP6T/p3+lv6V/pr+ov62/rD+vv7U/vH+9f7x/vX++/74/vL+A/8a/yb/H/8f/yn/P/9i/4L/i/+V/6n/wf/g/+n/AgAVACQAMwBBAEEASgBHAFcAVABcAF4AZABcAGcAdQCJAHsAgQByAIAAgACTAJ8AowCcAJUAjwCNAIEAiQB4AHAAWgBQAD0ALAAZAAcA///8//7/AgD//wQA+//z/+P/2//b/9D/yP/C/8L/vP+m/4z/e/92/3T/Z/9V/0v/Qf87/yj/Lf8t/yT/C//9/gH/BP8H//v++f70/u7+7v7t/u3+9v7//v7++f7r/ur+7P7j/tn+z/7J/sL+sv60/qT+o/6K/n7+b/5q/lr+Yv5e/mX+Yf5d/lr+UP5M/kz+Uv5N/kX+Q/5C/kT+Qv5C/kX+QP5A/kb+T/5V/kz+V/5e/m/+Zf5h/mj+dv5w/nj+gv6R/pP+nP6k/q/+qf6u/q/+uf6t/rn+qv6q/p/+l/6J/nj+d/6B/oP+ff5//of+iv6O/pb+nP6k/qP+rf6v/q/+uv7L/tn+3/7v/gn/Fv8q/1X/pP/v/ygATwBzAJMAtADpAB0BSAFVAVsBVwFQAVsBdAGLAYUBdgFjAV4BYgFmAX0BigGnAbcB4QEAAjkCYQKHApQCmwKQAoYChgKJAoYCfgJjAkECGwL9Ae8B7gHgAc8BtQGjAZ8BlwGjAaQBuQGsAa4BoQGtAa4BrwGsAbABoQGcAZABmgGUAY4BbwFcAUQBOAEpAR4BBgH1ANQAwAC3ALQAxwDTAOQA3wDXANUA4ADtAPUA+wAEAQIB+ADmANwAzgC8AJcAeQBWAEcAOwA0ACIADAD7//L/9P/3/wEACwAEAPX/4f/o/+v/9P/k/+L/1//N/7//t/+s/7f/sf+5/7P/rf+k/5X/j/+P/5H/jP+F/4L/kf+Z/6D/nv+d/6L/ov+q/6//vv/Y/+//BgAQAA8AFAAZACYAOQBBAEAAMgAfABwAJgBHAGgAfwB/AH0AdgCMAKsA1QD4AAEBAAH3APgABAETAR8BFgENAQIBBwEOARABGgEpATUBMQEhARQBGQEtATkBSQFFAT4BOAE8AUsBXAFjAWQBTwFIATkBPAE6ATMBMAEkAQ0B/QDvAPEA7QDrAOoA4wDZAMoAvQCyAKYAqAChAKAAjQCGAHkAdQBxAG4AZgBXAFAAPQAyAB0AEQADAP7/9f/+/+7/2/++/7b/tv+1/6//o/+g/5f/nf+V/5j/mP+l/6z/pP+P/37/dP9m/1T/R/8+/zr/MP8i/xf/EP8G/wH/8v7p/tb+zv7E/sX+vP6o/qL+lP6P/n3+ev5+/ob+gf6C/on+iP6E/oP+gv6M/o/+nf6c/p/+mv6g/p7+ov6q/rf+uf6w/qX+nv6a/pP+hf52/mv+X/5Q/jn+L/4V/gn+9P3l/dX9wf2z/aT9o/2k/aT9ov2U/Z39p/25/br9wP3M/dj95P30/Qv+Jf5D/nH+rf71/jn/ev+f/8H/4/8lAGUAmQC7AM0A4ADnAP8AGQE1ASsBIgEYARwBGQEdAS8BUQFlAYEBmQGzAcsB6QEBAhUCDgIHAvUB5QHjAeYB6QHPAbUBlQF4AWIBUwFIATMBHAEUARMBFgEYARsBIwEgASgBNAFAAUYBSwFLAVYBTwFUAVUBXQFfAV4BWQFSAUcBQAEsARcB+QDkAMYAogB/AHIAbABrAGQAWgBSAEMAQwBFAE0ATwBRAEYAPwArACgAFgAGAO//1P+8/6D/jv+E/3n/a/9i/17/YP9o/3T/eP9//33/gf9+/37/gP+H/4D/gv94/3X/bP9r/2//c/91/3H/cP9e/07/Q/8+/zb/JP8f/xj/F/8N/xf/GP8l/yL/Lf84/zn/UP9j/4v/oP+x/0xJU1RGAAAASU5GT0lOQU0EAAAANjcxAElTRlQiAAAATGF2ZjU3LjgzLjEwMCAobGlic25kZmlsZS0xLjAuMjgpAElUUksEAAAANjUAAGlkMyBGAAAASUQzAwAAAAAAPFRSQ0sAAAADAAAANjVUWFhYAAAAFwAAAFNvZnR3YXJlAExhdmY1Ny44My4xMDBUSVQyAAAABAAAADY3MQ==\" type=\"audio/x-wav\" />\n",
              "                    Your browser does not support the audio element.\n",
              "                </audio>\n",
              "              "
            ],
            "text/plain": [
              "<IPython.lib.display.Audio object>"
            ]
          },
          "metadata": {},
          "execution_count": 42
        }
      ]
    },
    {
      "cell_type": "code",
      "metadata": {
        "id": "r6nJ3jnrf_F3"
      },
      "source": [
        "signal, sr = librosa.load(test_audio_file,sr=16000)"
      ],
      "execution_count": null,
      "outputs": []
    },
    {
      "cell_type": "code",
      "metadata": {
        "colab": {
          "base_uri": "https://localhost:8080/"
        },
        "id": "5Q8mrzt6gAA_",
        "outputId": "ed071fb2-9fdc-48bd-eb98-af1dd88fcc19"
      },
      "source": [
        "print(len(signal)/sr)"
      ],
      "execution_count": null,
      "outputs": [
        {
          "output_type": "stream",
          "name": "stdout",
          "text": [
            "0.8585\n"
          ]
        }
      ]
    },
    {
      "cell_type": "code",
      "metadata": {
        "colab": {
          "base_uri": "https://localhost:8080/"
        },
        "id": "8y3pJI9zgDfb",
        "outputId": "2aa60fc2-0415-43f2-e46b-70e570d12cdd"
      },
      "source": [
        "plt.figure(figsize=(14, 5))\n",
        "librosa.display.waveplot(signal, sr)"
      ],
      "execution_count": null,
      "outputs": [
        {
          "output_type": "execute_result",
          "data": {
            "text/plain": [
              "<matplotlib.collections.PolyCollection at 0x7f271d3badd0>"
            ]
          },
          "metadata": {},
          "execution_count": 45
        },
        {
          "output_type": "display_data",
          "data": {
            "image/png": "[encoded data removed]",
            "text/plain": [
              "<Figure size 1008x360 with 1 Axes>"
            ]
          },
          "metadata": {
            "needs_background": "light"
          }
        }
      ]
    },
    {
      "cell_type": "code",
      "metadata": {
        "colab": {
          "base_uri": "https://localhost:8080/"
        },
        "id": "qNKm8ST9gEvn",
        "outputId": "e453b0ba-5579-46d3-8d0f-df48efc02e38"
      },
      "source": [
        "mfccs = librosa.feature.mfcc(signal, n_mfcc=13, sr=sr,n_fft=2048)\n",
        "print(len(signal)/sr)\n",
        "print(len(signal))\n",
        "print(mfccs.shape)"
      ],
      "execution_count": null,
      "outputs": [
        {
          "output_type": "stream",
          "name": "stdout",
          "text": [
            "0.8585\n",
            "13736\n",
            "(13, 27)\n"
          ]
        }
      ]
    },
    {
      "cell_type": "code",
      "metadata": {
        "colab": {
          "base_uri": "https://localhost:8080/"
        },
        "id": "XKMKzemBgTQE",
        "outputId": "df465c1c-d281-42c1-ed6d-138d35df54ad"
      },
      "source": [
        "plt.figure(figsize=(15,6))\n",
        "librosa.display.specshow(mfccs, x_axis='time', sr=sr)\n",
        "plt.colorbar(format=\"%+2f\")\n",
        "plt.show()"
      ],
      "execution_count": null,
      "outputs": [
        {
          "output_type": "display_data",
          "data": {
            "image/png": "[encoded data removed]",
            "text/plain": [
              "<Figure size 1080x432 with 2 Axes>"
            ]
          },
          "metadata": {
            "needs_background": "light"
          }
        }
      ]
    },
    {
      "cell_type": "code",
      "metadata": {
        "colab": {
          "base_uri": "https://localhost:8080/"
        },
        "id": "KL10wpIwcJ-9",
        "outputId": "ab6bd273-ff7f-449e-872f-5f4263d92096"
      },
      "source": [
        "logits = get_embedding(test_audio_file)\n",
        "print(logits.shape)"
      ],
      "execution_count": null,
      "outputs": [
        {
          "output_type": "stream",
          "name": "stdout",
          "text": [
            "torch.Size([42, 110])\n"
          ]
        }
      ]
    },
    {
      "cell_type": "code",
      "metadata": {
        "colab": {
          "base_uri": "https://localhost:8080/"
        },
        "id": "xXfRCqA2bzfs",
        "outputId": "f0f04a6a-38bf-403d-baab-0af41656a93a"
      },
      "source": [
        "plt.figure(figsize=(15,6))\n",
        "librosa.display.specshow(logits.cpu().detach().numpy(), x_axis='time', sr=sr)\n",
        "plt.colorbar(format=\"%+2f\")\n",
        "plt.show()"
      ],
      "execution_count": null,
      "outputs": [
        {
          "output_type": "display_data",
          "data": {
            "image/png": "[encoded data removed]",
            "text/plain": [
              "<Figure size 1080x432 with 2 Axes>"
            ]
          },
          "metadata": {
            "needs_background": "light"
          }
        }
      ]
    },
    {
      "cell_type": "markdown",
      "metadata": {
        "id": "dVn2qM9ajy5V"
      },
      "source": [
        "# <b> <font color = 'cyan' size = '+3' > 3.Dataset"
      ]
    },
    {
      "cell_type": "markdown",
      "metadata": {
        "id": "AOdnoMVWkqqR"
      },
      "source": [
        "##3.1 Wavaugment"
      ]
    },
    {
      "cell_type": "code",
      "metadata": {
        "colab": {
          "base_uri": "https://localhost:8080/"
        },
        "id": "wuEuqDfzkuMt",
        "outputId": "c5342af0-7b95-4d85-c4c3-cc0dc3845efb"
      },
      "source": [
        "!apt-get install libsox-fmt-all libsox-dev sox > /dev/null\n",
        "! python -m pip install torchaudio > /dev/null\n",
        "! python -m pip install git+https://github.com/facebookresearch/WavAugment.git > /dev/null\n",
        "!pip install ffmpeg-python > /dev/null"
      ],
      "execution_count": null,
      "outputs": [
        {
          "output_type": "stream",
          "name": "stdout",
          "text": [
            "  Running command git clone -q https://github.com/facebookresearch/WavAugment.git /tmp/pip-req-build-d7sl60ty\n"
          ]
        }
      ]
    },
    {
      "cell_type": "code",
      "metadata": {
        "id": "U6x7P0LSkvtR"
      },
      "source": [
        "import augment\n",
        "\n",
        "signal = torch.from_numpy(signal)\n",
        "\n",
        "empty_chain = augment.EffectChain().clip(0.35)\n",
        "clip_signal = empty_chain.apply(signal, src_info={'rate': sr})\n",
        "reverb_signal = augment.EffectChain().reverb(50, 50, 50).channels(1).apply(signal, src_info={'rate': sr})\n",
        "noise_generator = lambda: torch.zeros_like(signal).uniform_()\n",
        "additive_noise_signal = augment.EffectChain().additive_noise(noise_generator, snr=20).apply(reverb_signal, src_info={'rate': sr})\n",
        "time_dropout_signal =  augment.EffectChain().time_dropout(max_seconds=0.2).apply(additive_noise_signal, src_info={'rate': sr})"
      ],
      "execution_count": null,
      "outputs": []
    },
    {
      "cell_type": "code",
      "metadata": {
        "colab": {
          "base_uri": "https://localhost:8080/"
        },
        "id": "f7pZE604nDyd",
        "outputId": "427bdd16-64ee-4ea1-afa4-af3267647537"
      },
      "source": [
        "ipd.Audio(signal, rate=sr)"
      ],
      "execution_count": null,
      "outputs": [
        {
          "output_type": "execute_result",
          "data": {
            "text/html": [
              "\n",
              "                <audio controls=\"controls\" >\n",
              "                    <source src=\"data:audio/wav;base64,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\" type=\"audio/wav\" />\n",
              "                    Your browser does not support the audio element.\n",
              "                </audio>\n",
              "              "
            ],
            "text/plain": [
              "<IPython.lib.display.Audio object>"
            ]
          },
          "metadata": {},
          "execution_count": 52
        }
      ]
    },
    {
      "cell_type": "code",
      "metadata": {
        "colab": {
          "base_uri": "https://localhost:8080/"
        },
        "id": "v8kYOmLFnGKa",
        "outputId": "97512176-b468-4e36-e8a3-b93460642ca2"
      },
      "source": [
        "ipd.Audio(clip_signal, rate=sr)"
      ],
      "execution_count": null,
      "outputs": [
        {
          "output_type": "execute_result",
          "data": {
            "text/html": [
              "\n",
              "                <audio controls=\"controls\" >\n",
              "                    <source src=\"data:audio/wav;base64,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\" type=\"audio/wav\" />\n",
              "                    Your browser does not support the audio element.\n",
              "                </audio>\n",
              "              "
            ],
            "text/plain": [
              "<IPython.lib.display.Audio object>"
            ]
          },
          "metadata": {},
          "execution_count": 53
        }
      ]
    },
    {
      "cell_type": "code",
      "metadata": {
        "colab": {
          "base_uri": "https://localhost:8080/"
        },
        "id": "QynHvXfyqXeL",
        "outputId": "db2e8f63-49aa-4d27-a690-8c494c5e0fee"
      },
      "source": [
        "ipd.Audio(reverb_signal, rate=sr)"
      ],
      "execution_count": null,
      "outputs": [
        {
          "output_type": "execute_result",
          "data": {
            "text/html": [
              "\n",
              "                <audio controls=\"controls\" >\n",
              "                    <source src=\"data:audio/wav;base64,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\" type=\"audio/wav\" />\n",
              "                    Your browser does not support the audio element.\n",
              "                </audio>\n",
              "              "
            ],
            "text/plain": [
              "<IPython.lib.display.Audio object>"
            ]
          },
          "metadata": {},
          "execution_count": 54
        }
      ]
    },
    {
      "cell_type": "code",
      "metadata": {
        "colab": {
          "base_uri": "https://localhost:8080/"
        },
        "id": "vRpv3mDrqZz1",
        "outputId": "6331492e-fadd-40e2-f1ab-f7057026a9f7"
      },
      "source": [
        "ipd.Audio(additive_noise_signal, rate=sr)"
      ],
      "execution_count": null,
      "outputs": [
        {
          "output_type": "execute_result",
          "data": {
            "text/html": [
              "\n",
              "                <audio controls=\"controls\" >\n",
              "                    <source src=\"data:audio/wav;base64,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\" type=\"audio/wav\" />\n",
              "                    Your browser does not support the audio element.\n",
              "                </audio>\n",
              "              "
            ],
            "text/plain": [
              "<IPython.lib.display.Audio object>"
            ]
          },
          "metadata": {},
          "execution_count": 55
        }
      ]
    },
    {
      "cell_type": "code",
      "metadata": {
        "colab": {
          "base_uri": "https://localhost:8080/"
        },
        "id": "hYOnKTKsqaTF",
        "outputId": "0539401f-6cc2-4941-9712-3de736fd7b6b"
      },
      "source": [
        "ipd.Audio(time_dropout_signal, rate=sr)"
      ],
      "execution_count": null,
      "outputs": [
        {
          "output_type": "execute_result",
          "data": {
            "text/html": [
              "\n",
              "                <audio controls=\"controls\" >\n",
              "                    <source src=\"data:audio/wav;base64,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\" type=\"audio/wav\" />\n",
              "                    Your browser does not support the audio element.\n",
              "                </audio>\n",
              "              "
            ],
            "text/plain": [
              "<IPython.lib.display.Audio object>"
            ]
          },
          "metadata": {},
          "execution_count": 56
        }
      ]
    },
    {
      "cell_type": "code",
      "metadata": {
        "id": "hVt45Poxto5N"
      },
      "source": [
        "def augment_wav(signal,sr=16000):\n",
        "    signal = torch.from_numpy(signal)\n",
        "    reverb_signal = augment.EffectChain().reverb(50, 50, 50).channels(1).apply(signal, src_info={'rate': sr})\n",
        "    noise_generator = lambda: torch.zeros_like(reverb_signal).uniform_()\n",
        "    additive_noise_signal = augment.EffectChain().additive_noise(noise_generator, snr=random.uniform(15,25)).apply(reverb_signal, src_info={'rate': sr})\n",
        "    time_dropout_signal =  augment.EffectChain().time_dropout(max_seconds=random.uniform(0.1,0.25)).apply(additive_noise_signal, src_info={'rate': sr})\n",
        "    return time_dropout_signal,sr\n",
        "\n",
        "# djust this func for augmentation LOL\n",
        "def map_to_array(batch,mode = 'train'):\n",
        "    speech, sr = librosa.load(batch['file'],sr=16000)\n",
        "    if mode == 'train':\n",
        "      speech, sr = augment_wav(speech,sr)\n",
        "      batch[\"speech\"] = speech[0]\n",
        "    else:\n",
        "      batch[\"speech\"] = speech\n",
        "    batch[\"sampling_rate\"] = sr\n",
        "    return batch\n",
        "\n",
        "def get_embedding(wave_file,mode = 'train'):\n",
        "  ds = map_to_array({\"file\": wave_file},mode)\n",
        "\n",
        "  input_values = processor(\n",
        "        ds[\"speech\"], \n",
        "        sampling_rate=ds[\"sampling_rate\"], \n",
        "        return_tensors=\"pt\"\n",
        "  ).input_values\n",
        "  logits = model(input_values).logits[0]\n",
        "  return logits\n",
        "\n",
        "def get_melspec(file,sample_rate =  16000, n_fft= 400,mode = 'train'):\n",
        "  test , sr = torchaudio.load(file)\n",
        "  test = tf.Resample(sr,sample_rate)(test)\n",
        "  if mode == 'train':\n",
        "    test, sr = augment_wav(test.numpy())\n",
        "  test = tf.MelSpectrogram(sample_rate =  sr, n_fft= n_fft)(test)\n",
        "  if test.shape[0] !=1:\n",
        "    test = test[0].unsqueeze(dim=0)\n",
        "  return test"
      ],
      "execution_count": null,
      "outputs": []
    },
    {
      "cell_type": "code",
      "metadata": {
        "colab": {
          "base_uri": "https://localhost:8080/"
        },
        "id": "MnKdPmMgwW2J",
        "outputId": "0baba30f-777e-497f-e759-ebe22c6a5d31"
      },
      "source": [
        "logits = get_embedding(test_audio_file,mode = 'train')\n",
        "print(logits.shape)"
      ],
      "execution_count": null,
      "outputs": [
        {
          "output_type": "stream",
          "name": "stdout",
          "text": [
            "torch.Size([42, 110])\n"
          ]
        }
      ]
    },
    {
      "cell_type": "markdown",
      "metadata": {
        "id": "JgihLwZniaLw"
      },
      "source": [
        "## 3.2 Prepare & split data"
      ]
    },
    {
      "cell_type": "code",
      "metadata": {
        "id": "8zOhMqFfhxiY"
      },
      "source": [
        "paths = glob.glob(DATA_ROOT+'/*/*.wav')"
      ],
      "execution_count": null,
      "outputs": []
    },
    {
      "cell_type": "code",
      "metadata": {
        "colab": {
          "base_uri": "https://localhost:8080/"
        },
        "id": "AhaRkVV_h0ew",
        "outputId": "d3bc2aec-3a03-4921-db5c-c540abb1679c"
      },
      "source": [
        "print(len(paths))\n",
        "print(paths[0])"
      ],
      "execution_count": null,
      "outputs": [
        {
          "output_type": "stream",
          "name": "stdout",
          "text": [
            "10560\n",
            "Zalo_Voice_Verification/Train-Test-Data/dataset/522-F-25/522-22.wav\n"
          ]
        }
      ]
    },
    {
      "cell_type": "code",
      "metadata": {
        "id": "473sKS6kicft"
      },
      "source": [
        "def get_prefix(file):\n",
        "  split = file.split('/')\n",
        "  return '/'.join(split[:-1]),split[-2]"
      ],
      "execution_count": null,
      "outputs": []
    },
    {
      "cell_type": "code",
      "metadata": {
        "id": "NKomP7ScjCek"
      },
      "source": [
        "import json\n",
        "\n",
        "def read_json(file):\n",
        "  with open(file,'r') as f:\n",
        "    data = json.load(f)\n",
        "  return data\n",
        "\n",
        "def write_json(file,data):\n",
        "  with open(file,'w') as f:\n",
        "    json.dump(data,f,indent = 4)"
      ],
      "execution_count": null,
      "outputs": []
    },
    {
      "cell_type": "code",
      "metadata": {
        "id": "FUftKSY0gUtT"
      },
      "source": [
        "def get_data(wave_paths=paths, save_emb=False, save_train_file = 'train_data.json', save_test_file = 'test_data.json', limit = 1000 , test_size = 0.2, subjects = np.array(subject_folders)):\n",
        "    train_total = {}\n",
        "    test_total = {}\n",
        "    test_len = int(limit*test_size)\n",
        "    train_len = limit - test_len\n",
        "    check_exist = []\n",
        "\n",
        "    for idx in tqdm(range(limit)):\n",
        "      file1 = wave_paths[idx]\n",
        "      predix, subject1= get_prefix(file1)\n",
        "      label = random.choice([0,1]) \n",
        "\n",
        "      try: \n",
        "        if label == 1:\n",
        "          wav_files = np.array(glob.glob(predix+'/*.wav'))\n",
        "          other_wav_files = wav_files[wav_files!=file1]\n",
        "          file2 = random.choice(other_wav_files)\n",
        "        elif label == 0:\n",
        "          other_folders = subjects[subjects!=subject1]\n",
        "          predix_2 = predix.replace(subject1,random.choice(other_folders))\n",
        "          file2 = random.choice(glob.glob(predix_2+'/*.wav'))\n",
        "\n",
        "        if save_emb:\n",
        "\n",
        "          if file1.endswith('wav') and file2.endswith('wav'):\n",
        "            em1 = get_embedding(file1)\n",
        "            em1 = torch.unsqueeze(em1,dim=0)\n",
        "            em2 = get_embedding(file2)\n",
        "            em2 = torch.unsqueeze(em2,dim=0)\n",
        "            pair = file1+';'+file2+';'+str(label)\n",
        "            check_exist_pair = set(pair.split(';'))\n",
        "\n",
        "            if check_exist_pair not in check_exist:\n",
        "              check_exist.append(check_exist_pair)\n",
        "              if idx<=train_len:\n",
        "                train_total[pair] = [em1.cpu().detach().tolist(),em2.cpu().detach().tolist()]\n",
        "              else:\n",
        "                test_total[pair] = [em1.cpu().detach().tolist(),em2.cpu().detach().tolist()]\n",
        "\n",
        "        else:\n",
        "          if file1.endswith('wav') and file2.endswith('wav'):\n",
        "            pair = file1+';'+file2\n",
        "            check_exist_pair = set([file1,file2])\n",
        "\n",
        "            if check_exist_pair not in check_exist:\n",
        "              check_exist.append(check_exist_pair)\n",
        "              if idx<=train_len:\n",
        "                train_total[pair] = int(label)\n",
        "              else:\n",
        "                test_total[pair] = int(label)\n",
        "      except:\n",
        "            continue\n",
        "          \n",
        "\n",
        "    write_json(save_train_file,train_total)\n",
        "    write_json(save_test_file,test_total)\n",
        "\n"
      ],
      "execution_count": null,
      "outputs": []
    },
    {
      "cell_type": "code",
      "metadata": {
        "colab": {
          "base_uri": "https://localhost:8080/",
          "referenced_widgets": [
            "47eebfffc24346f1b91313f07a992ce9",
            "0134ac478ba049b58a6a8fce8a5a03ee",
            "4c2b599613d6405b9baa02c8d210745d",
            "8de61edd65b94ef5974b55e18adfa73d",
            "ce09a4f66f384e7da2e4edfbfbf5acfe",
            "a100ee95274e4dac9be29ccb6c04e1de",
            "744110285cc844428d760fcabbfe91e3",
            "a1da0080ff0d490a82a7d9422b92c34f",
            "ea69b9d528664cd2a3ab7cd413d840c0",
            "f56d2059a9964f6b8edfe876e65e8cc6",
            "6bcc98d68d37468f85e0adb92feed7fa"
          ]
        },
        "id": "fy3B7A9GGFmG",
        "outputId": "e014cd7c-d803-4c76-812c-75e722ab091b"
      },
      "source": [
        "get_data(limit=10000)"
      ],
      "execution_count": null,
      "outputs": [
        {
          "output_type": "display_data",
          "data": {
            "application/vnd.jupyter.widget-view+json": {
              "model_id": "47eebfffc24346f1b91313f07a992ce9",
              "version_minor": 0,
              "version_major": 2
            },
            "text/plain": [
              "  0%|          | 0/10000 [00:00<?, ?it/s]"
            ]
          },
          "metadata": {}
        }
      ]
    },
    {
      "cell_type": "markdown",
      "metadata": {
        "id": "jjDggf28j0ZF"
      },
      "source": [
        "## 3.3 Custom Dataset"
      ]
    },
    {
      "cell_type": "code",
      "metadata": {
        "id": "nwYpqKRJipbf"
      },
      "source": [
        "from torch.utils.data import DataLoader\n",
        "from torch.utils.data import Dataset\n",
        "\n",
        "class VoiceVerificationDataset(Dataset):\n",
        "    def __init__(self, json_file, max_sequence_len = 118, resize = False, up_channel= False, mode = 'train'):\n",
        "        super(VoiceVerificationDataset, self).__init__()\n",
        "        self.data = list(read_json(json_file).items())\n",
        "        self.max_sequence_len = max_sequence_len\n",
        "        self.mode = mode\n",
        "        self.up_channel = up_channel\n",
        "\n",
        "    def preprocess(self, em):\n",
        "        if self.up_channel:\n",
        "          em = np.stack((em,)*3, axis=-1)\n",
        "        if self.resize:\n",
        "          em= cv2.resize(em,(224,224))\n",
        "        return torch.from_numpy(em)\n",
        "\n",
        "    def __getitem__(self, idx):\n",
        "        pair, label = self.data[idx]\n",
        "        pair = pair.split(';')\n",
        "        \n",
        "        file1,file2 = pair[0],pair[1]\n",
        "        em1 = get_embedding(file1,self.mode).detach().numpy()\n",
        "        em2 = get_embedding(file2,self.mode).detach().numpy()\n",
        " \n",
        "        em1 = self.pad(em1)\n",
        "        em1 = torch.from_numpy(em1.astype(np.float32))\n",
        "        # em1 = torch.unsqueeze(em1,dim=0)\n",
        "        em1 = self.preprocess(em1)\n",
        "        # em1 = self.normalize(em1)\n",
        "\n",
        "        em2 = self.pad(em2)\n",
        "        em2 = torch.from_numpy(em2.astype(np.float32))\n",
        "        # em2 = torch.unsqueeze(em2,dim=0)\n",
        "        em2 = self.preprocess(em2)\n",
        "        # em2 = self.normalize(em2)\n",
        "\n",
        "        return em1, em2, torch.LongTensor([int(label)])\n",
        "\n",
        "    def __len__(self):\n",
        "        return len(self.data)\n",
        "    \n",
        "    def normalize(self,em):\n",
        "        pass\n",
        "\n",
        "    def pad(self,em):\n",
        "        if em.shape[0] < self.max_sequence_len:\n",
        "            pad = np.zeros((self.max_sequence_len - em.shape[0], em.shape[1]))\n",
        "            em = np.concatenate((em, pad), axis=0)\n",
        "        else:\n",
        "            em = em[:self.max_sequence_len, :]\n",
        "        assert em.shape == (self.max_sequence_len,110)\n",
        "        return em"
      ],
      "execution_count": null,
      "outputs": []
    },
    {
      "cell_type": "code",
      "metadata": {
        "id": "1l5HCJEAJcpX"
      },
      "source": [
        "class SpeechbrainDataset(Dataset):\n",
        "    def __init__(self, json_file):\n",
        "        super(SpeechbrainDataset, self).__init__()\n",
        "        self.data = list(read_json(json_file).items())\n",
        "\n",
        "    def __getitem__(self, idx):\n",
        "        pair, label = self.data[idx]\n",
        "        pair = pair.split(';')\n",
        "        file1,file2 = pair[0],pair[1]\n",
        "\n",
        "        em1 = self.get_embedding(file1)\n",
        "        em2 = self.get_embedding(file2)\n",
        "\n",
        "        return em1, em2, torch.LongTensor([int(label)])\n",
        "\n",
        "    def __len__(self):\n",
        "        return len(self.data)\n",
        "    \n",
        "    def get_embedding(self,file):\n",
        "        signal, fs = torchaudio.load(file)\n",
        "        embeddings = classifier.encode_batch(signal)\n",
        "        \n",
        "        assert embeddings.shape[-1] == 192\n",
        "        if embeddings.shape[0] != 1:\n",
        "            embeddings = torch.unsqueeze(embeddings[0],dim=0) # LOL\n",
        "        return embeddings "
      ],
      "execution_count": null,
      "outputs": []
    },
    {
      "cell_type": "code",
      "metadata": {
        "id": "UISWhsCaLhwo"
      },
      "source": [
        "\n",
        "class MelspecDataset(Dataset):\n",
        "    def __init__(self, json_file, max_sequence_len = 128, resize = False, up_channel= False, mode = 'train'):\n",
        "        super(MelspecDataset, self).__init__()\n",
        "        self.data = list(read_json(json_file).items())\n",
        "        self.max_sequence_len = max_sequence_len\n",
        "        self.resize = resize\n",
        "        self.mode = mode\n",
        "        self.up_channel = up_channel\n",
        "\n",
        "    def preprocess(self, em):\n",
        "        if self.up_channel:\n",
        "          em = np.stack((em,)*3, axis=-1)\n",
        "        if self.resize:\n",
        "          em= cv2.resize(em,(224,224))\n",
        "        return torch.FloatTensor(em)\n",
        "\n",
        "    def __getitem__(self, idx):\n",
        "        pair, label = self.data[idx]\n",
        "        pair = pair.split(';')\n",
        "        \n",
        "        file1,file2 = pair[0],pair[1]\n",
        "        em1 = get_melspec(file1,mode = self.mode).detach().numpy()\n",
        "        em2 = get_melspec(file2,mode = self.mode).detach().numpy()\n",
        " \n",
        "        em1 = self.pad(em1)\n",
        "        em1 = self.preprocess(em1)\n",
        "\n",
        "        em2 = self.pad(em2)\n",
        "        em2 = self.preprocess(em2)\n",
        "\n",
        "        return self.normalize(em1), self.normalize(em2), torch.LongTensor([int(label)])\n",
        "\n",
        "    def __len__(self):\n",
        "        return len(self.data)\n",
        "    \n",
        "    def normalize(self,em,mean=0.5,std=0.5):\n",
        "        # return (em - em.min())/(em.max()-em.min())\n",
        "        return em\n",
        "\n",
        "    def pad(self,em): # 1 128 X\n",
        "        if em.shape[2] < self.max_sequence_len:\n",
        "            pad = np.zeros((em.shape[0],em.shape[1],self.max_sequence_len - em.shape[2]))\n",
        "            em = np.concatenate((em, pad), axis=2)\n",
        "        else:\n",
        "            em = em[:,:,:self.max_sequence_len]          \n",
        "        assert em.shape == (1,128,self.max_sequence_len)\n",
        "        return em"
      ],
      "execution_count": null,
      "outputs": []
    },
    {
      "cell_type": "code",
      "metadata": {
        "id": "A4PU0TG7J3SZ"
      },
      "source": [
        "pretrained_type = {0:'pretrained_Vietnamese',1:'pretrained_voxceleb',2:'no_pretrained-melspec'}\n",
        "BATCH_SIZE = 64\n",
        "NUM_WORKERS = 2"
      ],
      "execution_count": null,
      "outputs": []
    },
    {
      "cell_type": "code",
      "metadata": {
        "id": "2KPOv1ssJXCf"
      },
      "source": [
        "def get_loader(type=1, bs = BATCH_SIZE, nw = NUM_WORKERS):\n",
        "  print(\"GETTING {0} ...\".format(pretrained_type[type]))\n",
        "  \n",
        "  if type==1:\n",
        "    train_dataset = SpeechbrainDataset(json_file='train_data.json')\n",
        "    test_dataset = SpeechbrainDataset(json_file='test_data.json')\n",
        "  elif type == 0:\n",
        "    train_dataset = VoiceVerificationDataset(json_file='train_data.json',up_channel=True, mode='train')\n",
        "    test_dataset = VoiceVerificationDataset(json_file='test_data.json',up_channel=True, mode='val')\n",
        "  else:\n",
        "    train_dataset = MelspecDataset(json_file='train_data.json',up_channel=False, mode='train')\n",
        "    test_dataset = MelspecDataset(json_file='test_data.json',up_channel=False, mode='val')\n",
        "\n",
        "  train_loader = DataLoader(\n",
        "        dataset=train_dataset,\n",
        "        batch_size=BATCH_SIZE,\n",
        "        num_workers=NUM_WORKERS\n",
        "  )\n",
        "\n",
        "  test_loader = DataLoader(\n",
        "          dataset=test_dataset,\n",
        "          batch_size=BATCH_SIZE,\n",
        "          num_workers=NUM_WORKERS\n",
        "  )\n",
        "  print(\"DONE!\")\n",
        "  return train_loader,test_loader"
      ],
      "execution_count": null,
      "outputs": []
    },
    {
      "cell_type": "code",
      "metadata": {
        "colab": {
          "base_uri": "https://localhost:8080/"
        },
        "id": "OVVhz_hzL-TR",
        "outputId": "da959dc0-5398-499e-8a81-478bb033083c"
      },
      "source": [
        "train_loader,test_loader = get_loader(type=2)\n",
        "print(len(test_loader))"
      ],
      "execution_count": null,
      "outputs": [
        {
          "output_type": "stream",
          "name": "stdout",
          "text": [
            "GETTING no_pretrained-melspec ...\n",
            "DONE!\n",
            "31\n"
          ]
        }
      ]
    },
    {
      "cell_type": "markdown",
      "metadata": {
        "id": "lHFv6lBlDp7h"
      },
      "source": [
        "# <b> <font color = 'cyan' size = '+3' > 4.Model"
      ]
    },
    {
      "cell_type": "markdown",
      "metadata": {
        "id": "XWfF-mrh2TVR"
      },
      "source": [
        "## 4.1 Siamese"
      ]
    },
    {
      "cell_type": "code",
      "metadata": {
        "id": "xvCFfavkDhTx"
      },
      "source": [
        "import torch.nn as nn  \n",
        "import torch.nn.functional as F\n",
        "\n",
        "\n",
        "class SiameseNetwork(nn.Module):\n",
        "    def __init__(self):\n",
        "        super(SiameseNetwork, self).__init__()\n",
        "        self.cnn1 = nn.Sequential(\n",
        "            nn.Conv2d(3, 16, kernel_size=(3,3)),\n",
        "            nn.ReLU(inplace=True),\n",
        "            nn.BatchNorm2d(16),\n",
        "            nn.Dropout2d(p=.2),\n",
        "            nn.MaxPool2d(2),\n",
        "            \n",
        "            nn.Conv2d(16, 32, kernel_size=(3,3)),\n",
        "            nn.ReLU(inplace=True),\n",
        "            nn.BatchNorm2d(32),\n",
        "            nn.Dropout2d(p=.2),\n",
        "            nn.MaxPool2d(2),\n",
        "\n",
        "            nn.Conv2d(32, 64, kernel_size=(3,3)),\n",
        "            nn.ReLU(inplace=True),\n",
        "            nn.BatchNorm2d(64),\n",
        "            nn.Dropout2d(p=.2),\n",
        "            nn.MaxPool2d(2),\n",
        "\n",
        "            nn.Conv2d(64, 128, kernel_size=(3,3)),\n",
        "            nn.ReLU(inplace=True),\n",
        "            nn.BatchNorm2d(128),\n",
        "            nn.Dropout2d(p=.2),\n",
        "        )\n",
        "        \n",
        "        self.fc1 = nn.Linear(18432*2, 16)\n",
        "        self.fc3 = nn.Linear(16, 1)\n",
        "\n",
        "    def forward(self, input1, input2):\n",
        "        output1 = self.cnn1(input1)\n",
        "        output1 = output1.reshape(output1.shape[0], -1)\n",
        "        output2 = self.cnn1(input2)\n",
        "        output2 = output2.reshape(output2.shape[0], -1)\n",
        "        output = torch.hstack((output1,output2))\n",
        "        output = nn.Dropout(0.2)(output)\n",
        "        output = F.relu(self.fc1(output))\n",
        "        output = nn.Dropout(0.1)(output)\n",
        "        output = self.fc3(output)\n",
        "        return output"
      ],
      "execution_count": null,
      "outputs": []
    },
    {
      "cell_type": "code",
      "metadata": {
        "id": "nsVIL3jJCIhE",
        "colab": {
          "base_uri": "https://localhost:8080/"
        },
        "outputId": "33241e98-acee-4c89-d7d3-2490b74a32a7"
      },
      "source": [
        "from torchsummary import summary\n",
        "\n",
        "in1 = torch.randn((1,3,128,128))\n",
        "in2 = torch.randn((1,3,128,128))\n",
        "\n",
        "seamese_model = SiameseNetwork()\n",
        "out = seamese_model(in1,in2)\n",
        "summary(seamese_model, [(3, 128, 128),(3, 128, 128)],device = 'cpu')"
      ],
      "execution_count": null,
      "outputs": [
        {
          "output_type": "stream",
          "name": "stdout",
          "text": [
            "----------------------------------------------------------------\n",
            "        Layer (type)               Output Shape         Param #\n",
            "================================================================\n",
            "            Conv2d-1         [-1, 16, 126, 126]             448\n",
            "              ReLU-2         [-1, 16, 126, 126]               0\n",
            "       BatchNorm2d-3         [-1, 16, 126, 126]              32\n",
            "         Dropout2d-4         [-1, 16, 126, 126]               0\n",
            "         MaxPool2d-5           [-1, 16, 63, 63]               0\n",
            "            Conv2d-6           [-1, 32, 61, 61]           4,640\n",
            "              ReLU-7           [-1, 32, 61, 61]               0\n",
            "       BatchNorm2d-8           [-1, 32, 61, 61]              64\n",
            "         Dropout2d-9           [-1, 32, 61, 61]               0\n",
            "        MaxPool2d-10           [-1, 32, 30, 30]               0\n",
            "           Conv2d-11           [-1, 64, 28, 28]          18,496\n",
            "             ReLU-12           [-1, 64, 28, 28]               0\n",
            "      BatchNorm2d-13           [-1, 64, 28, 28]             128\n",
            "        Dropout2d-14           [-1, 64, 28, 28]               0\n",
            "        MaxPool2d-15           [-1, 64, 14, 14]               0\n",
            "           Conv2d-16          [-1, 128, 12, 12]          73,856\n",
            "             ReLU-17          [-1, 128, 12, 12]               0\n",
            "      BatchNorm2d-18          [-1, 128, 12, 12]             256\n",
            "        Dropout2d-19          [-1, 128, 12, 12]               0\n",
            "           Conv2d-20         [-1, 16, 126, 126]             448\n",
            "             ReLU-21         [-1, 16, 126, 126]               0\n",
            "      BatchNorm2d-22         [-1, 16, 126, 126]              32\n",
            "        Dropout2d-23         [-1, 16, 126, 126]               0\n",
            "        MaxPool2d-24           [-1, 16, 63, 63]               0\n",
            "           Conv2d-25           [-1, 32, 61, 61]           4,640\n",
            "             ReLU-26           [-1, 32, 61, 61]               0\n",
            "      BatchNorm2d-27           [-1, 32, 61, 61]              64\n",
            "        Dropout2d-28           [-1, 32, 61, 61]               0\n",
            "        MaxPool2d-29           [-1, 32, 30, 30]               0\n",
            "           Conv2d-30           [-1, 64, 28, 28]          18,496\n",
            "             ReLU-31           [-1, 64, 28, 28]               0\n",
            "      BatchNorm2d-32           [-1, 64, 28, 28]             128\n",
            "        Dropout2d-33           [-1, 64, 28, 28]               0\n",
            "        MaxPool2d-34           [-1, 64, 14, 14]               0\n",
            "           Conv2d-35          [-1, 128, 12, 12]          73,856\n",
            "             ReLU-36          [-1, 128, 12, 12]               0\n",
            "      BatchNorm2d-37          [-1, 128, 12, 12]             256\n",
            "        Dropout2d-38          [-1, 128, 12, 12]               0\n",
            "           Linear-39                   [-1, 16]         589,840\n",
            "           Linear-40                    [-1, 1]              17\n",
            "================================================================\n",
            "Total params: 785,697\n",
            "Trainable params: 785,697\n",
            "Non-trainable params: 0\n",
            "----------------------------------------------------------------\n",
            "Input size (MB): 9216.00\n",
            "Forward/backward pass size (MB): 28.56\n",
            "Params size (MB): 3.00\n",
            "Estimated Total Size (MB): 9247.56\n",
            "----------------------------------------------------------------\n"
          ]
        }
      ]
    },
    {
      "cell_type": "markdown",
      "metadata": {
        "id": "YQuW9QcZVEk1"
      },
      "source": [
        "## 4.2 Resnet + biLSTM"
      ]
    },
    {
      "cell_type": "code",
      "metadata": {
        "id": "RXZQ0Q3sVHqu"
      },
      "source": [
        "import torch.nn as nn  \n",
        "import torch.nn.functional as F\n",
        "import torchvision.models as models\n",
        "\n",
        "\n",
        "class SpeechModel(nn.Module):\n",
        "    def __init__(self,dimension=256, hidden_dim = 512, out_dim=512):\n",
        "        super(SpeechModel, self).__init__()\n",
        "        self.fine_tune_resnet()\n",
        "\n",
        "        self.lstm = nn.LSTM(input_size=2048,\n",
        "                            hidden_size=dimension,\n",
        "                            num_layers=1,\n",
        "                            batch_first=True,\n",
        "                            bidirectional=True) \n",
        "        \n",
        "        self.fc1 = nn.Linear(2*dimension, hidden_dim)\n",
        "        self.fc2 = nn.Linear(hidden_dim, out_dim)\n",
        "        self.fc3 = nn.Linear(out_dim,1)\n",
        "\n",
        "    def fine_tune_resnet(self):\n",
        "        self.embeddings = models.resnet50(pretrained=False)\n",
        "        self.embeddings = torch.nn.Sequential(*(list(self.embeddings.children())[:-1]))\n",
        "\n",
        "    def forward(self, input):\n",
        "        output = self.embeddings(input)\n",
        "        output = nn.Dropout(0.4)(output)\n",
        "        output = output.reshape(output.shape[0],-1,2048)\n",
        "        output,_ = self.lstm(output)\n",
        "        output = nn.Flatten()(output)\n",
        "        output = F.relu(self.fc1(output))\n",
        "        output = nn.Dropout(0.4)(output)\n",
        "        output = F.relu(self.fc2(output))\n",
        "        return output"
      ],
      "execution_count": null,
      "outputs": []
    },
    {
      "cell_type": "code",
      "metadata": {
        "colab": {
          "base_uri": "https://localhost:8080/"
        },
        "id": "QVIKh6AWZqnp",
        "outputId": "e3cffdd0-6cce-4fe2-c4cc-5d2222544dba"
      },
      "source": [
        "in1 = torch.randn((1,3,128,128))\n",
        "speech_model = SpeechModel(1024)\n",
        "out = speech_model(in1)\n",
        "# summary(speech_model, (3, 110, 110),device = 'cpu')\n",
        "print(out.shape)"
      ],
      "execution_count": null,
      "outputs": [
        {
          "output_type": "stream",
          "name": "stdout",
          "text": [
            "torch.Size([1, 512])\n"
          ]
        }
      ]
    },
    {
      "cell_type": "markdown",
      "metadata": {
        "id": "IWWIHrEpqTiq"
      },
      "source": [
        "## 4.3 Vggvox"
      ]
    },
    {
      "cell_type": "code",
      "metadata": {
        "id": "EWSNizFvqVeN"
      },
      "source": [
        "from collections import OrderedDict\n",
        "from torchsummary import summary\n",
        "\n",
        "\n",
        "class VGGVox(nn.Module):\n",
        "    def __init__(self, n_classes=512):\n",
        "        super(VGGVox, self).__init__()\n",
        "        self.n_classes = n_classes\n",
        "        self.features = nn.Sequential(OrderedDict([\n",
        "            ('conv1', nn.Conv2d(in_channels=1, out_channels=96, kernel_size=(7, 7), stride=(2, 2), padding=(1, 1))),\n",
        "            ('bn1', nn.BatchNorm2d(96, momentum=0.5)),\n",
        "            ('relu1', nn.ReLU()),\n",
        "            ('pool1', nn.MaxPool2d(kernel_size=(3, 3), stride=(2, 2))),\n",
        "            ('conv2', nn.Conv2d(in_channels=96, out_channels=256, kernel_size=(5, 5), stride=(2, 2), padding=(1, 1))),\n",
        "            ('bn2', nn.BatchNorm2d(256, momentum=0.5)),\n",
        "            ('relu2', nn.ReLU()),\n",
        "            ('pool2', nn.MaxPool2d(kernel_size=(3, 3), stride=(2, 2))),\n",
        "            ('conv3', nn.Conv2d(in_channels=256, out_channels=384, kernel_size=(3, 3), stride=(1, 1), padding=(1, 1))),\n",
        "            ('bn3', nn.BatchNorm2d(384, momentum=0.5)),\n",
        "            ('relu3', nn.ReLU()),\n",
        "            ('conv4', nn.Conv2d(in_channels=384, out_channels=256, kernel_size=(3, 3), stride=(1, 1), padding=(1, 1))),\n",
        "            ('bn4', nn.BatchNorm2d(256, momentum=0.5)),\n",
        "            ('relu4', nn.ReLU()),\n",
        "            ('conv5', nn.Conv2d(in_channels=256, out_channels=256, kernel_size=(3, 3), stride=(1, 1), padding=(1, 1))),\n",
        "            ('bn5', nn.BatchNorm2d(256, momentum=0.5)),\n",
        "            ('relu5', nn.ReLU()),\n",
        "            ('pool5', nn.MaxPool2d(kernel_size=(5, 3), stride=(3, 2))),\n",
        "            ('fc6', nn.Conv2d(in_channels=256, out_channels=4096, kernel_size=(1, 2), stride=(1, 1))),\n",
        "            ('bn6', nn.BatchNorm2d(4096, momentum=0.5)),\n",
        "            ('relu6', nn.ReLU()),\n",
        "            ('pool6', nn.AdaptiveAvgPool2d((1, 1))),\n",
        "            ('flatten', nn.Flatten())]))\n",
        "\n",
        "        self.classifier = nn.Sequential(OrderedDict([\n",
        "            ('fc7', nn.Linear(4096, 1024)),\n",
        "            ('relu7', nn.ReLU()),\n",
        "            ('fc8', nn.Linear(1024, n_classes))]))\n",
        "\n",
        "    def weight_init(self):\n",
        "        for module in self.modules():\n",
        "            if isinstance(module, nn.Conv2d) or isinstance(module, nn.Linear):\n",
        "                nn.init.xavier_uniform_(module.weight)\n",
        "                nn.init.constant_(module.bias, 0)\n",
        "\n",
        "    def forward(self, input_tensor):\n",
        "        output_tensor = self.features(input_tensor)\n",
        "        output_tensor = self.classifier(output_tensor)\n",
        "        return output_tensor"
      ],
      "execution_count": null,
      "outputs": []
    },
    {
      "cell_type": "code",
      "metadata": {
        "colab": {
          "base_uri": "https://localhost:8080/"
        },
        "id": "rB3A1JG6qjDQ",
        "outputId": "0109e476-0601-4f78-93b8-01bd5232d952"
      },
      "source": [
        "in1 = torch.randn((2,1,128,128))\n",
        "speech_model = VGGVox(n_classes=512)\n",
        "# print(speech_model(in1).shape)\n",
        "summary(speech_model, batch_size=2, input_size=(1,128, 128),device = 'cpu')"
      ],
      "execution_count": null,
      "outputs": [
        {
          "output_type": "stream",
          "name": "stdout",
          "text": [
            "----------------------------------------------------------------\n",
            "        Layer (type)               Output Shape         Param #\n",
            "================================================================\n",
            "            Conv2d-1            [2, 96, 62, 62]           4,800\n",
            "       BatchNorm2d-2            [2, 96, 62, 62]             192\n",
            "              ReLU-3            [2, 96, 62, 62]               0\n",
            "         MaxPool2d-4            [2, 96, 30, 30]               0\n",
            "            Conv2d-5           [2, 256, 14, 14]         614,656\n",
            "       BatchNorm2d-6           [2, 256, 14, 14]             512\n",
            "              ReLU-7           [2, 256, 14, 14]               0\n",
            "         MaxPool2d-8             [2, 256, 6, 6]               0\n",
            "            Conv2d-9             [2, 384, 6, 6]         885,120\n",
            "      BatchNorm2d-10             [2, 384, 6, 6]             768\n",
            "             ReLU-11             [2, 384, 6, 6]               0\n",
            "           Conv2d-12             [2, 256, 6, 6]         884,992\n",
            "      BatchNorm2d-13             [2, 256, 6, 6]             512\n",
            "             ReLU-14             [2, 256, 6, 6]               0\n",
            "           Conv2d-15             [2, 256, 6, 6]         590,080\n",
            "      BatchNorm2d-16             [2, 256, 6, 6]             512\n",
            "             ReLU-17             [2, 256, 6, 6]               0\n",
            "        MaxPool2d-18             [2, 256, 1, 2]               0\n",
            "           Conv2d-19            [2, 4096, 1, 1]       2,101,248\n",
            "      BatchNorm2d-20            [2, 4096, 1, 1]           8,192\n",
            "             ReLU-21            [2, 4096, 1, 1]               0\n",
            "AdaptiveAvgPool2d-22            [2, 4096, 1, 1]               0\n",
            "          Flatten-23                  [2, 4096]               0\n",
            "           Linear-24                  [2, 1024]       4,195,328\n",
            "             ReLU-25                  [2, 1024]               0\n",
            "           Linear-26                   [2, 512]         524,800\n",
            "================================================================\n",
            "Total params: 9,811,712\n",
            "Trainable params: 9,811,712\n",
            "Non-trainable params: 0\n",
            "----------------------------------------------------------------\n",
            "Input size (MB): 0.12\n",
            "Forward/backward pass size (MB): 22.48\n",
            "Params size (MB): 37.43\n",
            "Estimated Total Size (MB): 60.04\n",
            "----------------------------------------------------------------\n"
          ]
        }
      ]
    },
    {
      "cell_type": "markdown",
      "metadata": {
        "id": "lVAIDZxmI0F-"
      },
      "source": [
        "## 4.4 Resnet-Based model"
      ]
    },
    {
      "cell_type": "code",
      "metadata": {
        "id": "5iOEUkUGJCPq"
      },
      "source": [
        "class ResNetBlock(nn.Module):\n",
        "    def __init__(self, in_depth, depth, first=False):\n",
        "        super(ResNetBlock, self).__init__()\n",
        "        self.first = first\n",
        "        self.conv1 = nn.Conv2d(in_depth, depth, kernel_size=3, stride=1, padding=1)\n",
        "        self.bn1 = nn.BatchNorm2d(depth)\n",
        "        self.lrelu = nn.LeakyReLU(0.01)\n",
        "        self.dropout = nn.Dropout(0.5)\n",
        "        self.conv2 = nn.Conv2d(depth, depth, kernel_size=3, stride=3, padding=1)\n",
        "        self.conv11 = nn.Conv2d(in_depth, depth, kernel_size=3, stride=3, padding=1)\n",
        "        if not self.first :\n",
        "            self.pre_bn = nn.BatchNorm2d(in_depth)\n",
        "\n",
        "    def forward(self, x):\n",
        "        # x is (B x d_in x T)\n",
        "        prev = x\n",
        "        prev_mp =  self.conv11(x)\n",
        "        if not self.first:\n",
        "            out = self.pre_bn(x)\n",
        "            out = self.lrelu(out)\n",
        "        else:\n",
        "            out = x\n",
        "        out = self.conv1(x)\n",
        "        # out is (B x depth x T/2)\n",
        "        out = self.bn1(out)\n",
        "        out = self.lrelu(out)\n",
        "        out = self.dropout(out)\n",
        "        out = self.conv2(out)\n",
        "        # out is (B x depth x T/2)\n",
        "        out = out + prev_mp\n",
        "        return out\n",
        "\n",
        "\n",
        "class SpectrogramModel(nn.Module):\n",
        "    def __init__(self):\n",
        "        super(SpectrogramModel, self).__init__()\n",
        "        self.conv1 = nn.Conv2d(1, 32, kernel_size=3, stride=1, padding=1)\n",
        "        self.block1 = ResNetBlock(32, 32,  True)\n",
        "        self.mp = nn.MaxPool2d(3, stride=3, padding=1)\n",
        "        self.block2 = ResNetBlock(32, 32,  False)\n",
        "        self.block3 = ResNetBlock(32, 32,  False)\n",
        "        self.block4= ResNetBlock(32, 32, False)\n",
        "        self.block5= ResNetBlock(32, 32, False)\n",
        "        self.block6 = ResNetBlock(32, 32, False)\n",
        "        self.block7 = ResNetBlock(32, 32, False)\n",
        "        self.block8 = ResNetBlock(32, 32, False)\n",
        "        self.block9 = ResNetBlock(32, 32, False)\n",
        "        self.block10 = ResNetBlock(32, 32, False)\n",
        "        self.block11 = ResNetBlock(32, 32, False)\n",
        "        self.lrelu = nn.LeakyReLU(0.01)\n",
        "        self.bn = nn.BatchNorm2d(32)\n",
        "        self.dropout = nn.Dropout(0.5)\n",
        "      \n",
        "        self.fc1 = nn.Linear(32, 128)\n",
        "        self.fc2 = nn.Linear(128, 512)\n",
        "    \n",
        "    def forward(self, x):\n",
        "        batch_size = x.size(0)\n",
        "        out = self.conv1(x)\n",
        "        out = self.block1(out)\n",
        "        #out = self.block2(out)\n",
        "        #out = self.mp(out)\n",
        "        out = self.block3(out)\n",
        "        #out = self.block4(out)\n",
        "        #out = self.mp(out)\n",
        "        out = self.block5(out)\n",
        "        #out = self.block6(out)\n",
        "        #out = self.mp(out)\n",
        "        out = self.block7(out)\n",
        "        #out = self.block8(out)\n",
        "        #out = self.mp(out)\n",
        "        out = self.block9(out)\n",
        "        #out = self.block10(out)\n",
        "        #out = self.mp(out)\n",
        "        out = self.block11(out)\n",
        "        out = self.bn(out)\n",
        "        out = self.lrelu(out)\n",
        "        #out = self.mp(out)\n",
        "        out = out.view(batch_size, -1)\n",
        "        out = self.dropout(out)\n",
        "        out = self.fc1(out)\n",
        "        out = self.lrelu(out)\n",
        "        out = self.fc2(out)\n",
        "       \n",
        "        return out"
      ],
      "execution_count": null,
      "outputs": []
    },
    {
      "cell_type": "code",
      "metadata": {
        "id": "ntMr3mgKSQe-",
        "colab": {
          "base_uri": "https://localhost:8080/"
        },
        "outputId": "c685080b-3099-4a77-ee96-e7bc551e2396"
      },
      "source": [
        "in1 = torch.randn((2,1,128,128))\n",
        "speech_model = SpectrogramModel()\n",
        "out = speech_model(in1)\n",
        "# summary(speech_model, (1, 128, 128),device = 'cpu')\n",
        "print(out.shape)"
      ],
      "execution_count": null,
      "outputs": [
        {
          "output_type": "stream",
          "name": "stdout",
          "text": [
            "torch.Size([2, 512])\n"
          ]
        }
      ]
    },
    {
      "cell_type": "code",
      "metadata": {
        "id": "aM5K_sU2Mjjm"
      },
      "source": [
        "class Classifer(nn.Module):\n",
        "    def __init__(self):\n",
        "        super(Classifer, self).__init__()\n",
        "        self.fc1 = nn.Linear(512*2, 16)\n",
        "        self.fc2 = nn.Linear(16,2)\n",
        "        self.logsoftmax = nn.LogSoftmax(dim=1)\n",
        "    def forward(self, x1, x2):\n",
        "        x = torch.hstack((x1,x2))\n",
        "        x = self.fc1(x)\n",
        "        x = self.fc2(x)\n",
        "        # x = self.logsoftmax(x)\n",
        "        return x"
      ],
      "execution_count": null,
      "outputs": []
    },
    {
      "cell_type": "code",
      "metadata": {
        "id": "V7TxBlYBMkro",
        "colab": {
          "base_uri": "https://localhost:8080/"
        },
        "outputId": "3de54577-d169-479f-dfc2-004261ff14dc"
      },
      "source": [
        "classifier = Classifer()\n",
        "out1 = classifier(out,out)\n",
        "print(out1.shape)"
      ],
      "execution_count": null,
      "outputs": [
        {
          "output_type": "stream",
          "name": "stdout",
          "text": [
            "torch.Size([2, 2])\n"
          ]
        }
      ]
    },
    {
      "cell_type": "markdown",
      "metadata": {
        "id": "QGxKFqA2FWDu"
      },
      "source": [
        "# <b> <font color = 'cyan' size = '+3' > 5.Loss Function"
      ]
    },
    {
      "cell_type": "markdown",
      "metadata": {
        "id": "SXudx5vM2Mg6"
      },
      "source": [
        "## 5.1 TripletCenter"
      ]
    },
    {
      "cell_type": "code",
      "metadata": {
        "id": "8o21q8nyELsr"
      },
      "source": [
        "from typing import Tuple\n",
        "from torch import Tensor\n",
        "from torch.autograd import Variable \n",
        "\n",
        "\n",
        "class TripletCenterLoss(nn.Module):\n",
        "    def __init__(self, margin=1, num_classes=2):\n",
        "        super(TripletCenterLoss, self).__init__() \n",
        "        self.margin = margin \n",
        "        self.ranking_loss = nn.MarginRankingLoss(margin=margin) \n",
        "        self.centers = nn.Parameter(torch.randn(num_classes, num_classes)) \n",
        "   \n",
        "    def forward(self, inputs, targets): \n",
        "        batch_size = inputs.size(0) \n",
        "        targets_expand = targets.view(batch_size, 1).expand(batch_size, inputs.size(1)) \n",
        "        centers_batch = self.centers.gather(0, targets_expand) # centers batch \n",
        "\n",
        "        # compute pairwise distances between input features and corresponding centers \n",
        "        centers_batch_bz = torch.stack([centers_batch]*batch_size) \n",
        "        inputs_bz = torch.stack([inputs]*batch_size).transpose(0, 1) \n",
        "        dist = torch.sum((centers_batch_bz -inputs_bz)**2, 2).squeeze() \n",
        "        dist = dist.clamp(min=1e-12).sqrt() # for numerical stability \n",
        "\n",
        "        # for each anchor, find the hardest positive and negative \n",
        "        mask = targets.expand(batch_size, batch_size).eq(targets.expand(batch_size, batch_size).t())\n",
        "        dist_ap, dist_an = [], [] \n",
        "        for i in range(batch_size): # for each sample, we compute distance \n",
        "            dist_ap.append(dist[i][mask[i]].max()) # mask[i]: positive samples of sample i\n",
        "            dist_an.append(dist[i][mask[i]==0].min()) # mask[i]==0: negative samples of sample i \n",
        "\n",
        "        dist_ap = torch.stack(dist_ap)\n",
        "        dist_an = torch.stack(dist_an)\n",
        "\n",
        "        # generate a new label y\n",
        "        # compute ranking hinge loss \n",
        "        y = dist_an.data.new() \n",
        "        y.resize_as_(dist_an.data)\n",
        "        y.fill_(1)\n",
        "        y = Variable(y)\n",
        "        # y_i = 1, means dist_an > dist_ap + margin will casuse loss be zero \n",
        "        loss = self.ranking_loss(dist_an, dist_ap, y)\n",
        "\n",
        "        prec = (dist_an.data > dist_ap.data).sum() * 1. / y.size(0) # normalize data by batch size \n",
        "        return loss, prec "
      ],
      "execution_count": null,
      "outputs": []
    },
    {
      "cell_type": "code",
      "metadata": {
        "id": "AYFZSWGcFj_n"
      },
      "source": [
        "# criterion = TripletCenterLoss()\n",
        "# print(criterion(out,torch.LongTensor([[1],[0]])))"
      ],
      "execution_count": null,
      "outputs": []
    },
    {
      "cell_type": "markdown",
      "metadata": {
        "id": "cVSPer3U2IBo"
      },
      "source": [
        "## 5.2 Contrastive"
      ]
    },
    {
      "cell_type": "code",
      "metadata": {
        "id": "waP_6hURp6WA"
      },
      "source": [
        "from torch.nn import Module\n",
        "\n",
        "class ContrastiveLoss(Module):\n",
        "    def __init__(self, margin=3.0):\n",
        "        super(ContrastiveLoss, self).__init__()\n",
        "        self.margin = margin\n",
        "\n",
        "    def forward(self, output1, output2, label):\n",
        "        euclidean_distance = F.pairwise_distance(output1, output2, keepdim=True)\n",
        "        loss_contrastive = torch.mean((1 - label) * torch.pow(euclidean_distance, 2) +\n",
        "                                      label * torch.pow(torch.clamp(self.margin - euclidean_distance, min=0.0), 2))\n",
        "\n",
        "        return loss_contrastive"
      ],
      "execution_count": null,
      "outputs": []
    },
    {
      "cell_type": "markdown",
      "metadata": {
        "id": "S55Eg-ezq_fK"
      },
      "source": [
        "# <b> <font color = 'cyan' size = '+3' > 6.EER- Metric\n",
        "\n"
      ]
    },
    {
      "cell_type": "code",
      "metadata": {
        "id": "4zR9p5LrrBuq"
      },
      "source": [
        "from scipy.optimize import brentq\n",
        "from scipy.interpolate import interp1d\n",
        "from sklearn.metrics import roc_curve\n",
        "\n",
        "def compute_eer(labels, scores):\n",
        "    fpr, tpr, thresholds = roc_curve(labels, scores, pos_label=1)\n",
        "    eer = brentq(lambda x : 1. - x - interp1d(fpr, tpr)(x), 0., 1.)\n",
        "    thresh = interp1d(fpr, thresholds)(eer)\n",
        "    return eer, thresh"
      ],
      "execution_count": null,
      "outputs": []
    },
    {
      "cell_type": "code",
      "metadata": {
        "id": "59J_rrk-rIvT"
      },
      "source": [
        "def evaluate_pair(output1,output2,target,threshold):\n",
        "    euclidean_distance = F.pairwise_distance(output1, output2)\n",
        "    cond = euclidean_distance<threshold\n",
        "    pos_sum = 0\n",
        "    neg_sum = 0\n",
        "    pos_acc = 0\n",
        "    neg_acc = 0\n",
        "\n",
        "    for i in range(len(cond)):\n",
        "        if target[i]:\n",
        "            neg_sum+=1\n",
        "            if not cond[i]:\n",
        "                neg_acc+=1\n",
        "        if not target[i]:\n",
        "            pos_sum+=1\n",
        "            if cond[i]:\n",
        "                pos_acc+=1\n",
        "\n",
        "    return pos_acc,pos_sum,neg_acc,neg_sum"
      ],
      "execution_count": null,
      "outputs": []
    },
    {
      "cell_type": "markdown",
      "metadata": {
        "id": "pr0_3opxFdOk"
      },
      "source": [
        "# <b> <font color = 'cyan' size = '+3' > 7.Train"
      ]
    },
    {
      "cell_type": "code",
      "metadata": {
        "id": "fS_KYsER054g"
      },
      "source": [
        "device = 'cuda'\n",
        "EPOCH_N = 300\n",
        "LEARNING_RATE = 0.0001\n",
        "ckpt = 'resnet.pth'"
      ],
      "execution_count": null,
      "outputs": []
    },
    {
      "cell_type": "code",
      "metadata": {
        "id": "teWUMvhYbxh-"
      },
      "source": [
        "from sklearn.metrics import accuracy_score\n",
        "import warnings\n",
        "warnings.simplefilter(\"ignore\", UserWarning)\n",
        "import cv2"
      ],
      "execution_count": null,
      "outputs": []
    },
    {
      "cell_type": "code",
      "metadata": {
        "id": "AHVpgGPEFl80"
      },
      "source": [
        "\n",
        "try:\n",
        "  speech_model.load_state_dict(torch.load(ckpt))\n",
        "except:\n",
        "  pass\n",
        "\n",
        "classifier = classifier.to(device)\n",
        "speech_model = speech_model.to(device)\n",
        "criterion1 = ContrastiveLoss().to(device)\n",
        "criterion2 = nn.CrossEntropyLoss().to(device)\n",
        "optimizer1 = torch.optim.SGD(classifier.parameters(), lr=LEARNING_RATE, momentum=0.9)\n",
        "optimizer2 = torch.optim.Adam(speech_model.parameters(), lr=LEARNING_RATE)\n",
        "\n",
        "BEST_LOSS = 9999\n",
        "for epoch in range(EPOCH_N):\n",
        "  train_loss_epoch = 0\n",
        "  speech_model.train()\n",
        "  train_acc_epoch = []\n",
        "\n",
        "  for em1,em2,label in tqdm(train_loader):\n",
        "    optimizer1.zero_grad()\n",
        "    optimizer2.zero_grad()\n",
        "    em1 = em1.to(device)\n",
        "    em2 = em2.to(device)\n",
        "    label = label.to(device)\n",
        "    out1 = speech_model(em1)\n",
        "    out2 = speech_model(em2)\n",
        "    loss1 = criterion1(out1,out2,label)\n",
        "    out = classifier(out1,out2)\n",
        "    loss2 = criterion2(out,label.squeeze(dim=1))\n",
        "\n",
        "    loss = loss1*0.0+loss2*0.9\n",
        "    train_loss_epoch+=loss.item()\n",
        "    loss.backward()  \n",
        "    optimizer1.step()\n",
        "    optimizer2.step()\n",
        "    _, predict = out.max(dim=1)\n",
        "    train_acc_epoch.append(accuracy_score(predict.cpu().numpy(), label.cpu().numpy()))\n",
        "\n",
        "  speech_model.eval()\n",
        "  val_loss_epoch = 0\n",
        "  val_acc_epoch = []\n",
        "\n",
        "  with torch.no_grad():\n",
        "    for em1,em2,label in tqdm(test_loader):\n",
        "      em1 = em1.to(device)\n",
        "      em2 = em2.to(device)\n",
        "      label = label.to(device)\n",
        "      out1 = speech_model(em1)\n",
        "      out2 = speech_model(em2)\n",
        "      loss1 = criterion1(out1,out2,label)\n",
        "      out = classifier(out1,out2)\n",
        "      loss2 = criterion2(out,label.squeeze(dim=1))\n",
        "      loss = loss1*0.0 + loss2*0.9\n",
        "      val_loss_epoch+=loss.item()\n",
        "      _, predict = out.max(dim=1)\n",
        "      val_acc_epoch.append(accuracy_score(predict.cpu().numpy(), label.cpu().numpy()))\n",
        "\n",
        "  if val_loss_epoch < BEST_LOSS:\n",
        "    BEST_LOSS = val_loss_epoch\n",
        "    torch.save(speech_model.state_dict(),ckpt)\n",
        "  torch.save(speech_model.state_dict(),'current_model.pth')\n",
        "\n",
        "  print(\"EPOCH: \", epoch+1,\"--->\", train_loss_epoch,\"train_ACC: \",sum(train_acc_epoch)/len(train_acc_epoch), \"--->\", val_loss_epoch, \"--->val_ACC: \", sum(val_acc_epoch)/len(val_acc_epoch))\n"
      ],
      "execution_count": null,
      "outputs": []
    },
    {
      "cell_type": "markdown",
      "metadata": {
        "id": "_Zb4AZKN1-hp"
      },
      "source": [
        "# <b> <font color = 'cyan' size = '+3' > 8.Test"
      ]
    },
    {
      "cell_type": "code",
      "metadata": {
        "id": "xcEFACBs2tCo"
      },
      "source": [
        "SAVE_FILE = 'result.txt'\n",
        "\n",
        "speech_model = VGGVox(n_classes=512).to(device)\n",
        "\n",
        "try:\n",
        "  speech_model.load_state_dict(torch.load(ckpt))\n",
        "except:\n",
        "  pass\n",
        "\n",
        "speech_model.eval()"
      ],
      "execution_count": null,
      "outputs": []
    },
    {
      "cell_type": "code",
      "metadata": {
        "id": "otV93MgP0dDS"
      },
      "source": [
        "# !wget https://github.com/bml1g12/zalo-2020-challenge-voice-verification/blob/master/submissions/3/Public-test.csv"
      ],
      "execution_count": null,
      "outputs": []
    },
    {
      "cell_type": "code",
      "metadata": {
        "id": "B09jvsr3344L"
      },
      "source": [
        "import pandas as pd\n",
        "\n",
        "labels = 'Public-test.csv'\n",
        "labels = pd.read_csv(labels)\n",
        "labels = labels['label']"
      ],
      "execution_count": null,
      "outputs": []
    },
    {
      "cell_type": "code",
      "metadata": {
        "id": "MRtyk33S2h6-"
      },
      "source": [
        "public_test = 'Zalo_Voice_Verification/Train-Test-Data/public-test.csv'\n",
        "test_files = pd.read_csv(public_test)\n",
        "test_wave_folder = 'Zalo_Voice_Verification/Train-Test-Data/public-test'\n",
        "\n",
        "test_files['audio_1'] = test_files['audio_1'].apply(lambda x: os.path.join(test_wave_folder, x))\n",
        "test_files['audio_2'] = test_files['audio_2'].apply(lambda x: os.path.join(test_wave_folder, x))"
      ],
      "execution_count": null,
      "outputs": []
    },
    {
      "cell_type": "code",
      "metadata": {
        "id": "Kx_Xv-Fp4Vkw"
      },
      "source": [
        "def get_label(file1 ,file2,seamese_model = speech_model,max_sequence_len=128,mode = 'val', up_channel = False, resize = False):\n",
        "\n",
        "    def pad(em):\n",
        "        if em.shape[0] < max_sequence_len:\n",
        "            pad = np.zeros((max_sequence_len - em.shape[0], em.shape[1]))\n",
        "            em = np.concatenate((em, pad), axis=0)\n",
        "        else:\n",
        "            em = em[:max_sequence_len, :]\n",
        "        assert em.shape == (max_sequence_len,128)\n",
        "        return em\n",
        "\n",
        "    def preprocess(em, up_channel = up_channel):\n",
        "        if up_channel:\n",
        "          em = np.stack((em,)*3, axis=-1)\n",
        "        if resize:\n",
        "          em= cv2.resize(em,(224,224))\n",
        "        return torch.from_numpy(em)\n",
        "\n",
        "    em1 = get_embedding(file1,mode).detach().numpy()\n",
        "    em2 = get_embedding(file2,mode).detach().numpy()\n",
        "\n",
        "    em1 = preprocess(em1)\n",
        "    em2 = preprocess(em2)\n",
        "  \n",
        "    em1 = torch.unsqueeze(em1,dim=0).permute(0,3,2,1)\n",
        "    em2 = torch.unsqueeze(em2,dim=0).permute(0,3,2,1)\n",
        "\n",
        "    out1 = seamese_model(em1.to(device))\n",
        "    out2 = seamese_model(em2.to(device))\n",
        "\n",
        "    predict = F.pairwise_distance(out1, out2, keepdim=True) \n",
        "    predict[predict>=0.5] = 1\n",
        "    predict[predict<0.5] = 0\n",
        "\n",
        "    return predict    "
      ],
      "execution_count": null,
      "outputs": []
    },
    {
      "cell_type": "code",
      "metadata": {
        "id": "upAxRkcoKDCo"
      },
      "source": [
        "# for pretrained voxceleb\n",
        "# def get_label(file1 ,file2,seamese_model = speech_model):\n",
        "#     def get_embedding(file):\n",
        "#         signal, fs = torchaudio.load(file)\n",
        "#         embeddings = classifier.encode_batch(signal)\n",
        "        \n",
        "#         assert embeddings.shape[-1] == 192\n",
        "#         if embeddings.shape[0] != 1:\n",
        "#             embeddings = torch.unsqueeze(embeddings[0],dim=0) # LOL\n",
        "#         return embeddings \n",
        "\n",
        "#     em1 = get_embedding(file1)\n",
        "#     em1 = torch.unsqueeze(em1,dim=0)\n",
        "#     em2 = get_embedding(file2)\n",
        "#     em2 = torch.unsqueeze(em2,dim=0)\n",
        "\n",
        "#     out1 = seamese_model(em1.to(device))\n",
        "#     out2 = seamese_model(em2.to(device))\n",
        "\n",
        "#     predict = F.pairwise_distance(out1, out2, keepdim=True) \n",
        "#     predict[predict>=0.5] = 1\n",
        "#     predict[predict<0.5] = 0\n",
        "\n",
        "#     return predict "
      ],
      "execution_count": null,
      "outputs": []
    },
    {
      "cell_type": "code",
      "metadata": {
        "id": "56T20q9p5FQb"
      },
      "source": [
        "results = []\n",
        "with open(SAVE_FILE,'w') as f:\n",
        "  with torch.no_grad():\n",
        "    for i,(file1,file2) in enumerate(tqdm(zip(test_files['audio_1'].to_numpy(),test_files['audio_2'].to_numpy()))):\n",
        "      predict = get_label(file1,file2)\n",
        "      results.append(predict.cpu().numpy()[0])\n",
        "      f.write(file1.split('/')[-1] +','+ file2.split('/')[-1] +','+ str(predict) + ' \\n')"
      ],
      "execution_count": null,
      "outputs": []
    },
    {
      "cell_type": "code",
      "metadata": {
        "id": "NziJOCI36JG7"
      },
      "source": [
        "accuracy_score(labels[:len(results)],results)"
      ],
      "execution_count": null,
      "outputs": []
    },
    {
      "cell_type": "code",
      "metadata": {
        "id": "bMxAVMpH9flf",
        "cellView": "form"
      },
      "source": [
        "# @title backup\n",
        "\n",
        "try:\n",
        "  speech_model.load_state_dict(torch.load(ckpt))\n",
        "except:\n",
        "  pass\n",
        "\n",
        "speech_model = speech_model.to(device)\n",
        "criterion1 = ContrastiveLoss().to(device)\n",
        "weight = torch.FloatTensor([1.0, 9.0]).to(device)\n",
        "criterion2 = nn.NLLLoss(weight=weight)\n",
        "# optimizer = torch.optim.SGD(speech_model.parameters(), lr=LEARNING_RATE, momentum=0.9)\n",
        "optimizer = torch.optim.Adam(speech_model.parameters(), lr=LEARNING_RATE)\n",
        "\n",
        "BEST_LOSS = 9999\n",
        "for epoch in range(EPOCH_N):\n",
        "  train_loss_epoch = 0\n",
        "  speech_model.train()\n",
        "  train_acc_epoch = []\n",
        "\n",
        "  train_pos_accuracy = 0\n",
        "  train_neg_accuracy = 0\n",
        "  train_num_pos = 0\n",
        "  train_num_neg = 0\n",
        "\n",
        "  for em1,em2,label in tqdm(train_loader):\n",
        "    optimizer.zero_grad()\n",
        "    em1 = em1.to(device)\n",
        "    em2 = em2.to(device)\n",
        "    label = label.to(device)\n",
        "    out1 = speech_model(em1)\n",
        "    out2 = speech_model(em2)\n",
        "    loss= criterion(out1,out2,label)\n",
        "    train_loss_epoch+=loss.item()\n",
        "    loss.backward()  \n",
        "    optimizer.step()\n",
        "    pos_acc,pos_sum,neg_acc,neg_sum = evaluate_pair(out1,out2,label,threshold=0.3)\n",
        "    train_pos_accuracy+=pos_acc\n",
        "    train_neg_accuracy+=neg_acc\n",
        "    train_num_pos+=pos_sum\n",
        "    train_num_neg+=neg_sum\n",
        "\n",
        "  speech_model.eval()\n",
        "  val_loss_epoch = 0\n",
        "  val_acc_epoch = []\n",
        "  val_pos_accuracy = 0\n",
        "  val_neg_accuracy = 0\n",
        "  val_num_pos = 0\n",
        "  val_num_neg = 0\n",
        "  with torch.no_grad():\n",
        "    for em1,em2,label in tqdm(test_loader):\n",
        "      em1 = em1.to(device)\n",
        "      em2 = em2.to(device)\n",
        "      label = label.to(device)\n",
        "      out1 = speech_model(em1)\n",
        "      out2 = speech_model(em2)\n",
        "      loss= criterion(out1,out2,label)\n",
        "      val_loss_epoch+=loss.item()\n",
        "      pos_acc,pos_sum,neg_acc,neg_sum = evaluate_pair(out1,out2,label,threshold=0.3)\n",
        "      val_pos_accuracy+=pos_acc\n",
        "      val_neg_accuracy+=neg_acc\n",
        "      val_num_pos+=pos_sum\n",
        "      val_num_neg+=neg_sum\n",
        "\n",
        "  if val_loss_epoch < BEST_LOSS:\n",
        "    BEST_LOSS = val_loss_epoch\n",
        "    torch.save(speech_model.state_dict(),ckpt)\n",
        "  torch.save(speech_model.state_dict(),'vggvox_ex2_current_model.pth')\n",
        "  \n",
        "  mean_train_acc = train_neg_accuracy / train_num_neg + train_pos_accuracy / train_num_pos\n",
        "  mean_val_acc = val_neg_accuracy / val_num_neg + val_pos_accuracy / val_num_pos\n",
        "  print(\"EPOCH: \", epoch+1,\"--->\", train_loss_epoch,\"train_ACC: \",mean_train_acc/2, \"--->\", val_loss_epoch, \"--->val_ACC: \", mean_val_acc/2)"
      ],
      "execution_count": null,
      "outputs": []
    }
  ]
}